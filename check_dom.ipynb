{
 "cells": [
  {
   "cell_type": "code",
   "execution_count": 1,
   "id": "bef00b31",
   "metadata": {},
   "outputs": [],
   "source": [
    "%load_ext autoreload\n",
    "%autoreload 2"
   ]
  },
  {
   "cell_type": "code",
   "execution_count": 2,
   "id": "da7e17bf",
   "metadata": {},
   "outputs": [],
   "source": [
    "from bs4 import BeautifulSoup, NavigableString, PageElement, Tag\n",
    "from selenium import webdriver"
   ]
  },
  {
   "cell_type": "code",
   "execution_count": 3,
   "id": "8151a67e",
   "metadata": {},
   "outputs": [],
   "source": [
    "from src.driver.service import DriverService"
   ]
  },
  {
   "cell_type": "code",
   "execution_count": 4,
   "id": "8d1e20cf",
   "metadata": {},
   "outputs": [],
   "source": [
    "driver = DriverService().get_driver()"
   ]
  },
  {
   "cell_type": "code",
   "execution_count": 5,
   "id": "a58ae836",
   "metadata": {},
   "outputs": [],
   "source": [
    "url = \"https://www.kayak.com/\"\n",
    "driver.get(url)"
   ]
  },
  {
   "cell_type": "code",
   "execution_count": 6,
   "id": "4619d811",
   "metadata": {},
   "outputs": [
    {
     "data": {
      "text/plain": [
       "'complete'"
      ]
     },
     "execution_count": 6,
     "metadata": {},
     "output_type": "execute_result"
    }
   ],
   "source": [
    "driver.execute_script(\"return document.readyState\")"
   ]
  },
  {
   "cell_type": "code",
   "execution_count": 7,
   "id": "09989cf2",
   "metadata": {},
   "outputs": [],
   "source": [
    "# from selenium.webdriver.support.ui import WebDriverWait\n",
    "# from selenium.webdriver.support import expected_conditions as EC\n",
    "\n",
    "# WebDriverWait(driver, 20).until(\n",
    "#     lambda d: d.execute_script(\"return document.readyState\") == \"complete\"\n",
    "# )"
   ]
  },
  {
   "cell_type": "code",
   "execution_count": 8,
   "id": "f77bfc0c",
   "metadata": {},
   "outputs": [],
   "source": [
    "html_content = driver.page_source"
   ]
  },
  {
   "cell_type": "code",
   "execution_count": 9,
   "id": "536a68d8",
   "metadata": {},
   "outputs": [],
   "source": [
    "with open(\"kayak.html\", \"w\") as f:\n",
    "    f.write(BeautifulSoup(html_content, \"lxml\").prettify())"
   ]
  },
  {
   "cell_type": "code",
   "execution_count": 10,
   "id": "321efdde",
   "metadata": {},
   "outputs": [],
   "source": [
    "soup = BeautifulSoup(html_content, \"lxml\")"
   ]
  },
  {
   "cell_type": "code",
   "execution_count": 11,
   "id": "96dcc67a",
   "metadata": {},
   "outputs": [],
   "source": [
    "# driver.quit()"
   ]
  },
  {
   "cell_type": "markdown",
   "id": "937cf903",
   "metadata": {},
   "source": [
    "# Functions"
   ]
  },
  {
   "cell_type": "code",
   "execution_count": 12,
   "id": "5b62ee03",
   "metadata": {},
   "outputs": [],
   "source": [
    "def _quick_element_filter(element: Tag|NavigableString) -> bool:\n",
    "    \"\"\"\n",
    "    Quick pre-filter to eliminate elements before expensive checks.\n",
    "    Returns True if element passes initial filtering.\n",
    "    \"\"\"\n",
    "    if isinstance(element, NavigableString):\n",
    "        return bool(element.strip())\n",
    "    \n",
    "    # Quick attribute checks that would make element invisible/non-interactive\n",
    "    style = element.get('style', '')\n",
    "    if any(\n",
    "        [\n",
    "            element.get('aria-hidden') == 'true',\n",
    "            element.get('hidden') is not None,\n",
    "            element.get('disabled') is not None,\n",
    "            'display: none' in style or 'visibility: hidden' in style,\n",
    "            any(cls in element.get('class', []) for cls in ['hidden', 'invisible']),\n",
    "            element.get('type') == 'hidden',\n",
    "        ]\n",
    "    ):\n",
    "        return False\n",
    "    \n",
    "    return True\n",
    "\n",
    "\n",
    "def _is_element_accepted(element: Tag) -> bool:\n",
    "    \"\"\"Check if element is accepted based on tag name and special cases.\"\"\"\n",
    "    leaf_element_deny_list = {'svg', 'iframe', 'script', 'style', 'link', 'meta'}\n",
    "    return element.name not in leaf_element_deny_list\n",
    "\n",
    "\n",
    "def _is_interactive_element(element: Tag) -> bool:\n",
    "    \"\"\"Check if element is interactive based on tag name and attributes.\"\"\"\n",
    "    interactive_elements = {\n",
    "        'a', 'button', 'details', 'embed', 'input', 'label', 'menu', 'menuitem',\n",
    "        'object', 'select', 'textarea', 'summary', 'dialog'\n",
    "    }\n",
    "    interactive_roles = {\n",
    "        'button', 'menu', 'menuitem', 'link', 'checkbox', 'radio', 'slider', 'tab',\n",
    "        'tabpanel', 'textbox', 'combobox', 'grid', 'listbox', 'option', 'progressbar',\n",
    "        'scrollbar', 'searchbox', 'switch', 'tree', 'treeitem', 'spinbutton', 'tooltip',\n",
    "        'dialog', 'alertdialog', 'menuitemcheckbox', 'menuitemradio', 'list', 'listitem'\n",
    "    }\n",
    "\n",
    "    return (\n",
    "        element.name in interactive_elements\n",
    "        or element.get('role') in interactive_roles\n",
    "        or element.get('tabindex') == '0'\n",
    "    )\n",
    "\n",
    "\n",
    "def _is_leaf_element(element: Tag) -> bool:\n",
    "    \"\"\"Check if element is a leaf element (has text and no child tags).\"\"\"\n",
    "    # Must have non-empty text\n",
    "    if not element.get_text(strip=True):\n",
    "        return False\n",
    "    \n",
    "    # Check for child tags (not text nodes)\n",
    "    for child in element.children:\n",
    "        if isinstance(child, Tag):\n",
    "            return False\n",
    "    \n",
    "    return True\n",
    "\n",
    "\n",
    "def _generate_xpath(element: Tag) -> str:\n",
    "    # pages like wiki have multiple elements associated with single id\n",
    "    if isinstance(element, NavigableString):\n",
    "        return _generate_xpath(element.parent) if element.parent else ''\n",
    "    \n",
    "    parts = []\n",
    "    current = element\n",
    "\n",
    "    while current.name != '[document]':\n",
    "        selector = current.name\n",
    "        position = len(current.find_previous_siblings(current.name)) + 1\n",
    "        selector += f'[{position}]'\n",
    "        current = current.parent\n",
    "        parts.append(selector)\n",
    "\n",
    "    return  '//' + '/'.join(reversed(parts)) if parts else ''"
   ]
  },
  {
   "cell_type": "markdown",
   "id": "ea06f0b2",
   "metadata": {},
   "source": [
    "# Extract Content"
   ]
  },
  {
   "cell_type": "code",
   "execution_count": 13,
   "id": "7daff065",
   "metadata": {},
   "outputs": [],
   "source": [
    "# only interactive ones should have index\n",
    "# soup.body.contents will cause problems. need copy"
   ]
  },
  {
   "cell_type": "code",
   "execution_count": 14,
   "id": "61125e29",
   "metadata": {},
   "outputs": [],
   "source": [
    "candidate_elements: list[Tag | NavigableString] = []\n",
    "dom_queue = list(soup.body.children)[::-1] if soup.body else []"
   ]
  },
  {
   "cell_type": "code",
   "execution_count": 15,
   "id": "c7b34957",
   "metadata": {},
   "outputs": [],
   "source": [
    "# do not decompose otherwise wrong element index when using `_generate_xpath` and `checkTextFront`\n",
    "while dom_queue:\n",
    "    element = dom_queue.pop()\n",
    "\n",
    "    if not _quick_element_filter(element):\n",
    "        continue \n",
    "\n",
    "    # Handle both Tag elements and text nodes\n",
    "    if isinstance(element, Tag):\n",
    "        if not _is_element_accepted(element):\n",
    "            continue\n",
    "\n",
    "        for child in reversed(list(element.children)):\n",
    "            dom_queue.append(child)\n",
    "\n",
    "        if _is_interactive_element(element):\n",
    "            candidate_elements.append(element)\n",
    "    \n",
    "    elif isinstance(element, NavigableString) and element.strip():\n",
    "        candidate_elements.append(element)"
   ]
  },
  {
   "cell_type": "code",
   "execution_count": 16,
   "id": "a5c1eb62",
   "metadata": {},
   "outputs": [
    {
     "data": {
      "text/plain": [
       "750"
      ]
     },
     "execution_count": 16,
     "metadata": {},
     "output_type": "execute_result"
    }
   ],
   "source": [
    "len(candidate_elements)"
   ]
  },
  {
   "cell_type": "markdown",
   "id": "aafcc57f",
   "metadata": {},
   "source": [
    "## JS visibility and top element checks"
   ]
  },
  {
   "cell_type": "code",
   "execution_count": 17,
   "metadata": {},
   "outputs": [],
   "source": [
    "candidates = [\n",
    "    {\n",
    "        \"xpath\": _generate_xpath(c),\n",
    "        \"is_text\": not isinstance(c, Tag),\n",
    "        \"node_index\": list(c.parent.children).index(c),\n",
    "    }\n",
    "    for c in candidate_elements\n",
    "]"
   ]
  },
  {
   "cell_type": "code",
   "execution_count": 18,
   "id": "70766073",
   "metadata": {},
   "outputs": [
    {
     "data": {
      "text/plain": [
       "750"
      ]
     },
     "execution_count": 18,
     "metadata": {},
     "output_type": "execute_result"
    }
   ],
   "source": [
    "len(candidates)"
   ]
  },
  {
   "cell_type": "code",
   "execution_count": 19,
   "id": "650ce6d3",
   "metadata": {},
   "outputs": [
    {
     "data": {
      "text/plain": [
       "{'xpath': '//html[1]/body[1]/div[2]/nav[1]/a[1]',\n",
       " 'is_text': False,\n",
       " 'node_index': 0}"
      ]
     },
     "execution_count": 19,
     "metadata": {},
     "output_type": "execute_result"
    }
   ],
   "source": [
    "candidates[0]"
   ]
  },
  {
   "cell_type": "markdown",
   "id": "782de157",
   "metadata": {},
   "source": [
    "---"
   ]
  },
  {
   "cell_type": "code",
   "execution_count": 27,
   "id": "6303e255",
   "metadata": {},
   "outputs": [],
   "source": [
    "js_code = \"\"\"\n",
    "function checkVisibility(candidates) {\n",
    "    const results = [];\n",
    "\n",
    "    for (const candidate of candidates) {\n",
    "\n",
    "        const elem = document.evaluate(\n",
    "            candidate.xpath,\n",
    "            document,\n",
    "            null,\n",
    "            XPathResult.FIRST_ORDERED_NODE_TYPE,\n",
    "            null\n",
    "        ).singleNodeValue;\n",
    "\n",
    "        \n",
    "        results.push(true)\n",
    "    }\n",
    "    return results;\n",
    "}\n",
    "\n",
    "const candidates = arguments[0];\n",
    "return checkVisibility(candidates);\n",
    "\"\"\"\n",
    "mask = driver.execute_script(js_code, candidates)"
   ]
  },
  {
   "cell_type": "code",
   "execution_count": 28,
   "id": "f4898928",
   "metadata": {},
   "outputs": [
    {
     "data": {
      "text/plain": [
       "(513, 513)"
      ]
     },
     "execution_count": 28,
     "metadata": {},
     "output_type": "execute_result"
    }
   ],
   "source": [
    "len(mask), sum(mask)"
   ]
  },
  {
   "cell_type": "code",
   "execution_count": 29,
   "id": "c940f152",
   "metadata": {},
   "outputs": [],
   "source": [
    "js_code = \"\"\"\n",
    "function checkVisibility(candidates) {\n",
    "    const results = [];\n",
    "    const elementCache = new Map();\n",
    "\n",
    "    for (const candidate of candidates) {\n",
    "\n",
    "        const xpath = candidate.xpath\n",
    "        let elem;\n",
    "\n",
    "        if (elementCache.has(xpath)) {\n",
    "            elem = elementCache.get(xpath);\n",
    "            \n",
    "        } else {\n",
    "            elem = document.evaluate(\n",
    "                xpath,\n",
    "                document,\n",
    "                null,\n",
    "                XPathResult.FIRST_ORDERED_NODE_TYPE,\n",
    "                null\n",
    "            ).singleNodeValue;\n",
    "\n",
    "            elementCache.set(xpath, elem);\n",
    "        }\n",
    "\n",
    "        results.push(true)\n",
    "\n",
    "    }\n",
    "    return results;\n",
    "}\n",
    "\n",
    "const candidates = arguments[0]\n",
    "return checkVisibility(candidates)\n",
    "\"\"\"\n",
    "mask = driver.execute_script(js_code, candidates)"
   ]
  },
  {
   "cell_type": "code",
   "execution_count": 30,
   "id": "9d8694fe",
   "metadata": {},
   "outputs": [
    {
     "data": {
      "text/plain": [
       "(513, 513)"
      ]
     },
     "execution_count": 30,
     "metadata": {},
     "output_type": "execute_result"
    }
   ],
   "source": [
    "len(mask), sum(mask)"
   ]
  },
  {
   "cell_type": "code",
   "execution_count": 31,
   "id": "35de1750",
   "metadata": {},
   "outputs": [],
   "source": [
    "js_code = \"\"\"\n",
    "function checkVisibility(candidates) {\n",
    "    const results = [];\n",
    "    const elementCache = new Map();\n",
    "\n",
    "    for (const candidate of candidates) {\n",
    "\n",
    "        const xpath = candidate.xpath\n",
    "        let elem;\n",
    "\n",
    "        if (elementCache.has(xpath)) {\n",
    "            elem = elementCache.get(xpath);\n",
    "            \n",
    "        } else {\n",
    "            elem = document.evaluate(\n",
    "                xpath,\n",
    "                document,\n",
    "                null,\n",
    "                XPathResult.FIRST_ORDERED_NODE_TYPE,\n",
    "                null\n",
    "            ).singleNodeValue;\n",
    "\n",
    "            elementCache.set(xpath, elem);\n",
    "        }\n",
    "\n",
    "        if (!elem) {\n",
    "            results.push(false);\n",
    "            continue;\n",
    "        }\n",
    "\n",
    "        const isVisible = elem.checkVisibility({\n",
    "            checkOpacity: true,\n",
    "            checkVisibilityCSS: true\n",
    "        })\n",
    "\n",
    "        if (!isVisible) {\n",
    "            results.push(false);\n",
    "            continue;\n",
    "        }\n",
    "\n",
    "        results.push(true)\n",
    "    }\n",
    "    return results;\n",
    "}\n",
    "\n",
    "const candidates = arguments[0]\n",
    "return checkVisibility(candidates)\n",
    "\"\"\"\n",
    "mask = driver.execute_script(js_code, candidates)"
   ]
  },
  {
   "cell_type": "code",
   "execution_count": 32,
   "id": "2b533e6e",
   "metadata": {},
   "outputs": [
    {
     "data": {
      "text/plain": [
       "(513, 369)"
      ]
     },
     "execution_count": 32,
     "metadata": {},
     "output_type": "execute_result"
    }
   ],
   "source": [
    "len(mask), sum(mask)"
   ]
  },
  {
   "cell_type": "code",
   "execution_count": null,
   "id": "33228109",
   "metadata": {},
   "outputs": [],
   "source": [
    "js_code = \"\"\"\n",
    "function checkTop(elem) {\n",
    "    const rect = elem.getBoundingClientRect();\n",
    "\n",
    "    const points = [\n",
    "        {x: rect.left + rect.width * 0.2, y: rect.top + rect.height * 0.2},\n",
    "        {x: rect.left + rect.width * 0.8, y: rect.top + rect.height * 0.2}, \n",
    "        {x: rect.left + rect.width * 0.2, y: rect.top + rect.height * 0.8},\n",
    "        {x: rect.left + rect.width * 0.8, y: rect.top + rect.height * 0.8},\n",
    "        {x: rect.left + rect.width / 2, y: rect.top + rect.height / 2}\n",
    "    ];\n",
    "    \n",
    "    return points.some(point => {\n",
    "        const topEl = document.elementFromPoint(point.x, point.y);\n",
    "        return elem.contains(topEl);\n",
    "    });\n",
    "}\n",
    "\n",
    "function checkTextFront(textNode) {\n",
    "    const range = document.createRange();\n",
    "    range.selectNodeContents(textNode);\n",
    "    const rect = range.getBoundingClientRect();\n",
    "    \n",
    "    return (\n",
    "        rect.width !== 0 && \n",
    "        rect.height !== 0 &&\n",
    "        rect.top > 0 &&\n",
    "        rect.bottom < window.innerHeight\n",
    "    );\n",
    "}\n",
    "\n",
    "function checkVisibility(candidates) {\n",
    "    const results = [];\n",
    "    const elementCache = new Map();\n",
    "\n",
    "    for (const candidate of candidates) {\n",
    "        const xpath = candidate.xpath;\n",
    "        let elem;\n",
    "\n",
    "        if (elementCache.has(xpath)) {\n",
    "            elem = elementCache.get(xpath);\n",
    "            \n",
    "        } else {\n",
    "            elem = document.evaluate(\n",
    "                xpath,\n",
    "                document,\n",
    "                null,\n",
    "                XPathResult.FIRST_ORDERED_NODE_TYPE,\n",
    "                null\n",
    "            ).singleNodeValue;\n",
    "\n",
    "            elementCache.set(xpath, elem);\n",
    "        }\n",
    "\n",
    "        if (!elem) {\n",
    "            results.push(false);\n",
    "            continue;\n",
    "        }\n",
    "\n",
    "        const isVisible = elem.checkVisibility({\n",
    "            checkOpacity: true,\n",
    "            checkVisibilityCSS: true\n",
    "        })\n",
    "\n",
    "        if (!isVisible) {\n",
    "            results.push(false);\n",
    "            continue;\n",
    "        }\n",
    "\n",
    "        if (candidate.is_text) {\n",
    "            const textNode = elem.childNodes[candidate.node_index];\n",
    "            const isFrontText = checkTextFront(textNode);\n",
    "\n",
    "            if (!isFrontText) {\n",
    "                results.push(false);\n",
    "                continue;\n",
    "            }\n",
    "        } else {\n",
    "            const isTop = checkTop(elem);\n",
    "\n",
    "            if (!isTop) {\n",
    "                results.push(false);\n",
    "                continue;\n",
    "            }\n",
    "        }\n",
    "\n",
    "        results.push(true)\n",
    "    }\n",
    "    return results;\n",
    "}\n",
    "\n",
    "const candidates = arguments[0]\n",
    "return checkVisibility(candidates)\n",
    "\"\"\"\n",
    "mask = driver.execute_script(js_code, candidates)"
   ]
  },
  {
   "cell_type": "code",
   "execution_count": 1926,
   "id": "a860c378",
   "metadata": {},
   "outputs": [
    {
     "data": {
      "text/plain": [
       "(17492, 345)"
      ]
     },
     "execution_count": 1926,
     "metadata": {},
     "output_type": "execute_result"
    }
   ],
   "source": [
    "len(mask), sum(mask)"
   ]
  },
  {
   "cell_type": "markdown",
   "id": "2e5924cc",
   "metadata": {},
   "source": [
    "---"
   ]
  },
  {
   "cell_type": "code",
   "execution_count": 33,
   "id": "de0b64c1",
   "metadata": {},
   "outputs": [
    {
     "data": {
      "text/plain": [
       "<a class=\"screen-reader-only screen-reader-only-focusable skip-to-content\" data-hook=\"skip-to-content\" href=\"#site-content\" tabindex=\"0\">Skip to content</a>"
      ]
     },
     "execution_count": 33,
     "metadata": {},
     "output_type": "execute_result"
    }
   ],
   "source": [
    "candidate_elements[0]"
   ]
  },
  {
   "cell_type": "code",
   "execution_count": 2322,
   "id": "fe244bf4",
   "metadata": {},
   "outputs": [],
   "source": [
    "js_code = \"\"\"\n",
    "function checkTop(elem) {\n",
    "    const rect = elem.getBoundingClientRect();\n",
    "\n",
    "    const points = [\n",
    "        {x: rect.left + rect.width * 0.2, y: rect.top + rect.height * 0.2},\n",
    "        {x: rect.left + rect.width * 0.8, y: rect.top + rect.height * 0.2}, \n",
    "        {x: rect.left + rect.width * 0.2, y: rect.top + rect.height * 0.8},\n",
    "        {x: rect.left + rect.width * 0.8, y: rect.top + rect.height * 0.8},\n",
    "        {x: rect.left + rect.width / 2, y: rect.top + rect.height / 2}\n",
    "    ];\n",
    "    \n",
    "    return points.some(point => {\n",
    "        const topEl = document.elementFromPoint(point.x, point.y);\n",
    "        return elem.contains(topEl);\n",
    "    });\n",
    "}\n",
    "\n",
    "function checkTextFront(textNode) {\n",
    "    const range = document.createRange();\n",
    "    range.selectNodeContents(textNode);\n",
    "    const rect = range.getBoundingClientRect();\n",
    "    \n",
    "    return (\n",
    "        rect.width !== 0 && \n",
    "        rect.height !== 0 &&\n",
    "        rect.top > 0 &&\n",
    "        rect.bottom < window.innerHeight\n",
    "    );\n",
    "}\n",
    "\n",
    "function checkVisibility(candidates) {\n",
    "    const results = [];\n",
    "    const elementCache = new Map();\n",
    "    const accepted_elem_xpaths = new Set();\n",
    "\n",
    "    for (const candidate of candidates) {\n",
    "        const xpath = candidate.xpath;\n",
    "        let elem;\n",
    "\n",
    "        if (accepted_elem_xpaths.has(xpath)) {\n",
    "            results.push(false);\n",
    "            continue;\n",
    "        }\n",
    "\n",
    "        if (elementCache.has(xpath)) {\n",
    "            elem = elementCache.get(xpath);\n",
    "            \n",
    "        } else {\n",
    "            elem = document.evaluate(\n",
    "                xpath,\n",
    "                document,\n",
    "                null,\n",
    "                XPathResult.FIRST_ORDERED_NODE_TYPE,\n",
    "                null\n",
    "            ).singleNodeValue;\n",
    "\n",
    "            elementCache.set(xpath, elem);\n",
    "        }\n",
    "\n",
    "        if (!elem) {\n",
    "            results.push(false);\n",
    "            continue;\n",
    "        }\n",
    "\n",
    "        const isVisible = elem.checkVisibility({\n",
    "            checkOpacity: true,\n",
    "            checkVisibilityCSS: true\n",
    "        })\n",
    "\n",
    "        if (!isVisible) {\n",
    "            results.push(false);\n",
    "            continue;\n",
    "        }\n",
    "\n",
    "        if (candidate.is_text) {\n",
    "            const textNode = elem.childNodes[candidate.node_index];\n",
    "            const isFrontText = checkTextFront(textNode);\n",
    "\n",
    "            if (!isFrontText) {\n",
    "                results.push(false);\n",
    "                continue;\n",
    "            }\n",
    "        } else {\n",
    "            const isTop = checkTop(elem);\n",
    "\n",
    "            if (!isTop) {\n",
    "                results.push(false);\n",
    "                continue;\n",
    "            }\n",
    "        }\n",
    "\n",
    "        results.push(true)\n",
    "\n",
    "        if (!candidate.is_text) {\n",
    "            accepted_elem_xpaths.add(xpath)     \n",
    "        }\n",
    "        \n",
    "        console.log(elem)\n",
    "    }\n",
    "    return results;\n",
    "}\n",
    "\n",
    "const candidates = arguments[0]\n",
    "return checkVisibility(candidates)\n",
    "\"\"\"\n",
    "mask = driver.execute_script(js_code, candidates)"
   ]
  },
  {
   "cell_type": "code",
   "execution_count": 2323,
   "id": "6e0aadc1",
   "metadata": {},
   "outputs": [
    {
     "data": {
      "text/plain": [
       "(352, 93)"
      ]
     },
     "execution_count": 2323,
     "metadata": {},
     "output_type": "execute_result"
    }
   ],
   "source": [
    "len(mask), sum(mask)"
   ]
  },
  {
   "cell_type": "code",
   "execution_count": 31,
   "id": "2aca0d94",
   "metadata": {},
   "outputs": [],
   "source": [
    "js_code = \"\"\"\n",
    "function checkTop(elem) {\n",
    "    const rect = elem.getBoundingClientRect();\n",
    "\n",
    "    const points = [\n",
    "        {x: rect.left + rect.width * 0.2, y: rect.top + rect.height * 0.2},\n",
    "        {x: rect.left + rect.width * 0.8, y: rect.top + rect.height * 0.2}, \n",
    "        {x: rect.left + rect.width * 0.2, y: rect.top + rect.height * 0.8},\n",
    "        {x: rect.left + rect.width * 0.8, y: rect.top + rect.height * 0.8},\n",
    "        {x: rect.left + rect.width / 2, y: rect.top + rect.height / 2}\n",
    "    ];\n",
    "    \n",
    "    return points.some(point => {\n",
    "        const topEl = document.elementFromPoint(point.x, point.y);\n",
    "        return elem.contains(topEl);\n",
    "    });\n",
    "}\n",
    "\n",
    "function checkTextFront(textNode) {\n",
    "    const range = document.createRange();\n",
    "    range.selectNodeContents(textNode);\n",
    "    const rect = range.getBoundingClientRect();\n",
    "    \n",
    "    return (\n",
    "        rect.width !== 0 && \n",
    "        rect.height !== 0 &&\n",
    "        rect.top > 0 &&\n",
    "        rect.bottom < window.innerHeight\n",
    "    );\n",
    "}\n",
    "\n",
    "function checkVisibility(candidates) {\n",
    "    const results = [];\n",
    "    const elementCache = new Map();\n",
    "    const accepted_elem_xpaths = new Set();\n",
    "\n",
    "    for (const candidate of candidates) {\n",
    "        const xpath = candidate.xpath;\n",
    "        let elem;\n",
    "\n",
    "        if (candidate.is_text) {\n",
    "            let skip = false;\n",
    "            for (const accepted_xpath of accepted_elem_xpaths) {\n",
    "                if (xpath.startsWith(accepted_xpath)) {\n",
    "                    skip = true;\n",
    "                    break;              \n",
    "                }\n",
    "            }\n",
    "            if (skip) {\n",
    "                results.push(false);\n",
    "                continue;\n",
    "            }\n",
    "        }\n",
    "\n",
    "        if (accepted_elem_xpaths.has(xpath)) {\n",
    "            results.push(false);\n",
    "            continue;\n",
    "        }\n",
    "\n",
    "        if (elementCache.has(xpath)) {\n",
    "            elem = elementCache.get(xpath);\n",
    "            \n",
    "        } else {\n",
    "            elem = document.evaluate(\n",
    "                xpath,\n",
    "                document,\n",
    "                null,\n",
    "                XPathResult.FIRST_ORDERED_NODE_TYPE,\n",
    "                null\n",
    "            ).singleNodeValue;\n",
    "\n",
    "            elementCache.set(xpath, elem);\n",
    "        }\n",
    "\n",
    "        if (!elem) {\n",
    "            results.push(false);\n",
    "            continue;\n",
    "        }\n",
    "\n",
    "        const isVisible = elem.checkVisibility({\n",
    "            checkOpacity: true,\n",
    "            checkVisibilityCSS: true\n",
    "        })\n",
    "\n",
    "        if (!isVisible) {\n",
    "            results.push(false);\n",
    "            continue;\n",
    "        }\n",
    "\n",
    "        if (candidate.is_text) {\n",
    "            const textNode = elem.childNodes[candidate.node_index];\n",
    "            const isFrontText = checkTextFront(textNode);\n",
    "\n",
    "            if (!isFrontText) {\n",
    "                results.push(false);\n",
    "                continue;\n",
    "            }\n",
    "        } else {\n",
    "            const isTop = checkTop(elem);\n",
    "\n",
    "            if (!isTop) {\n",
    "                results.push(false);\n",
    "                continue;\n",
    "            }\n",
    "        }\n",
    "\n",
    "        results.push(true)\n",
    "\n",
    "        if (!candidate.is_text) {\n",
    "            accepted_elem_xpaths.add(xpath)     \n",
    "        }\n",
    "        \n",
    "        console.log(elem)\n",
    "    }\n",
    "    return results;\n",
    "}\n",
    "\n",
    "const candidates = arguments[0]\n",
    "return checkVisibility(candidates)\n",
    "\"\"\"\n",
    "mask = driver.execute_script(js_code, candidates)"
   ]
  },
  {
   "cell_type": "code",
   "execution_count": 20,
   "id": "ff30c0fd",
   "metadata": {},
   "outputs": [],
   "source": [
    "from typing import Any\n",
    "\n",
    "\n",
    "def check_visibility_js(candidates: list[dict[str, Any]]) -> list[bool]:\n",
    "    js_code = \"\"\"\n",
    "    function checkTop(elem) {\n",
    "        const rect = elem.getBoundingClientRect();\n",
    "\n",
    "        const points = [\n",
    "            {x: rect.left + rect.width * 0.2, y: rect.top + rect.height * 0.2},\n",
    "            {x: rect.left + rect.width * 0.8, y: rect.top + rect.height * 0.2}, \n",
    "            {x: rect.left + rect.width * 0.2, y: rect.top + rect.height * 0.8},\n",
    "            {x: rect.left + rect.width * 0.8, y: rect.top + rect.height * 0.8},\n",
    "            {x: rect.left + rect.width / 2, y: rect.top + rect.height / 2}\n",
    "        ];\n",
    "        \n",
    "        return points.some(point => {\n",
    "            const topEl = document.elementFromPoint(point.x, point.y);\n",
    "            return elem.contains(topEl);\n",
    "        });\n",
    "    }\n",
    "\n",
    "    function checkTextFront(textNode) {\n",
    "        const range = document.createRange();\n",
    "        range.selectNodeContents(textNode);\n",
    "        const rect = range.getBoundingClientRect();\n",
    "        \n",
    "        return (\n",
    "            rect.width !== 0 && \n",
    "            rect.height !== 0 &&\n",
    "            rect.top > 0 &&\n",
    "            rect.bottom < window.innerHeight\n",
    "        );\n",
    "    }\n",
    "\n",
    "    function checkVisibility(candidates) {\n",
    "        const results = [];\n",
    "        const elementCache = new Map();\n",
    "        const accepted_elem_xpaths = new Set();\n",
    "\n",
    "        for (const candidate of candidates) {\n",
    "            const xpath = candidate.xpath;\n",
    "            let elem;\n",
    "\n",
    "            if (candidate.is_text) {\n",
    "                let skip = false;\n",
    "                for (const accepted_xpath of accepted_elem_xpaths) {\n",
    "                    if (xpath.startsWith(accepted_xpath)) {\n",
    "                        skip = true;\n",
    "                        break;              \n",
    "                    }\n",
    "                }\n",
    "                if (skip) {\n",
    "                    results.push(false);\n",
    "                    continue;\n",
    "                }\n",
    "            }\n",
    "\n",
    "            if (accepted_elem_xpaths.has(xpath)) {\n",
    "                results.push(false);\n",
    "                continue;\n",
    "            }\n",
    "\n",
    "            if (elementCache.has(xpath)) {\n",
    "                elem = elementCache.get(xpath);\n",
    "                \n",
    "            } else {\n",
    "                elem = document.evaluate(\n",
    "                    xpath,\n",
    "                    document,\n",
    "                    null,\n",
    "                    XPathResult.FIRST_ORDERED_NODE_TYPE,\n",
    "                    null\n",
    "                ).singleNodeValue;\n",
    "\n",
    "                elementCache.set(xpath, elem);\n",
    "            }\n",
    "\n",
    "            if (!elem) {\n",
    "                results.push(false);\n",
    "                continue;\n",
    "            }\n",
    "\n",
    "            const isVisible = elem.checkVisibility({\n",
    "                checkOpacity: true,\n",
    "                checkVisibilityCSS: true\n",
    "            })\n",
    "\n",
    "            if (!isVisible) {\n",
    "                results.push(false);\n",
    "                continue;\n",
    "            }\n",
    "\n",
    "            if (candidate.is_text) {\n",
    "                const textNode = elem.childNodes[candidate.node_index];\n",
    "                const isFrontText = checkTextFront(textNode);\n",
    "\n",
    "                if (!isFrontText) {\n",
    "                    results.push(false);\n",
    "                    continue;\n",
    "                }\n",
    "            } else {\n",
    "                const isTop = checkTop(elem);\n",
    "\n",
    "                if (!isTop) {\n",
    "                    results.push(false);\n",
    "                    continue;\n",
    "                }\n",
    "            }\n",
    "\n",
    "            results.push(true)\n",
    "\n",
    "            if (!candidate.is_text) {\n",
    "                accepted_elem_xpaths.add(xpath)     \n",
    "            }\n",
    "            \n",
    "            // console.log(elem)\n",
    "        }\n",
    "        return results;\n",
    "    }\n",
    "\n",
    "    const candidates = arguments[0]\n",
    "    return checkVisibility(candidates)\n",
    "    \"\"\"\n",
    "    mask = driver.execute_script(js_code, candidates)\n",
    "    return mask"
   ]
  },
  {
   "cell_type": "code",
   "execution_count": 21,
   "id": "9f4ff61a",
   "metadata": {},
   "outputs": [],
   "source": [
    "mask = check_visibility_js(candidates)"
   ]
  },
  {
   "cell_type": "code",
   "execution_count": 22,
   "id": "d23adcef",
   "metadata": {},
   "outputs": [
    {
     "data": {
      "text/plain": [
       "(750, 50)"
      ]
     },
     "execution_count": 22,
     "metadata": {},
     "output_type": "execute_result"
    }
   ],
   "source": [
    "len(mask), sum(mask)"
   ]
  },
  {
   "cell_type": "code",
   "execution_count": 23,
   "id": "5a38abbf",
   "metadata": {},
   "outputs": [
    {
     "data": {
      "text/plain": [
       "<a href=\"#main\">Skip to main content</a>"
      ]
     },
     "execution_count": 23,
     "metadata": {},
     "output_type": "execute_result"
    }
   ],
   "source": [
    "candidate_elements[0]"
   ]
  },
  {
   "cell_type": "code",
   "execution_count": 24,
   "id": "2b20c549",
   "metadata": {},
   "outputs": [
    {
     "data": {
      "text/plain": [
       "{'xpath': '//html[1]/body[1]/div[2]/nav[1]/a[1]',\n",
       " 'is_text': False,\n",
       " 'node_index': 0}"
      ]
     },
     "execution_count": 24,
     "metadata": {},
     "output_type": "execute_result"
    }
   ],
   "source": [
    "candidates[0]"
   ]
  },
  {
   "cell_type": "code",
   "execution_count": 25,
   "id": "b845bcf9",
   "metadata": {},
   "outputs": [],
   "source": [
    "accepted = [\n",
    "    {\n",
    "        \"xpath\": c[\"xpath\"],\n",
    "        \"is_text\": c[\"is_text\"],\n",
    "        \"node_index\": c[\"node_index\"],\n",
    "        \"element\": e,\n",
    "        \n",
    "    }\n",
    "    for e, c, included in \n",
    "    zip(candidate_elements, candidates, mask) if included\n",
    "] "
   ]
  },
  {
   "cell_type": "code",
   "execution_count": 26,
   "id": "fd527f3a",
   "metadata": {},
   "outputs": [
    {
     "data": {
      "text/plain": [
       "50"
      ]
     },
     "execution_count": 26,
     "metadata": {},
     "output_type": "execute_result"
    }
   ],
   "source": [
    "len(accepted)"
   ]
  },
  {
   "cell_type": "code",
   "execution_count": 27,
   "id": "86c73b1a",
   "metadata": {},
   "outputs": [
    {
     "data": {
      "text/plain": [
       "{'xpath': '//html[1]/body[1]/div[2]/div[1]/header[1]/div[1]/div[2]/div[1]/div[1]/div[1]/div[1]',\n",
       " 'is_text': False,\n",
       " 'node_index': 0,\n",
       " 'element': <div aria-label=\"Open main navigation\" class=\"ZGw- ZGw--mod-size-medium\" role=\"button\" tabindex=\"0\"><svg height=\"20\" role=\"presentation\" viewbox=\"0 0 200 200\" width=\"20\" xmlns=\"http://www.w3.org/2000/svg\"><path d=\"M20 153.333h160v-17.778H20v17.778zm0-44.444h160V91.111H20v17.778zm0-62.222v17.778h160V46.667H20z\"></path></svg></div>}"
      ]
     },
     "execution_count": 27,
     "metadata": {},
     "output_type": "execute_result"
    }
   ],
   "source": [
    "accepted[0]"
   ]
  },
  {
   "cell_type": "code",
   "execution_count": 28,
   "id": "c1846cde",
   "metadata": {},
   "outputs": [],
   "source": [
    "def _cap_text_length(text: str, max_length: int = 150) -> str:\n",
    "    if len(text) > max_length:\n",
    "        half_length = max_length // 2\n",
    "        return text[:half_length] + '...' + text[-half_length:]\n",
    "    return text"
   ]
  },
  {
   "cell_type": "code",
   "execution_count": 29,
   "id": "db7c0c6d",
   "metadata": {},
   "outputs": [],
   "source": [
    "from pydantic import BaseModel"
   ]
  },
  {
   "cell_type": "code",
   "execution_count": 30,
   "id": "30a1048e",
   "metadata": {},
   "outputs": [],
   "source": [
    "class DomContentItem(BaseModel):\n",
    "    index: int\n",
    "    text: str\n",
    "    clickable: bool\n",
    "    n_parents: int\n",
    "    addition: bool = False"
   ]
  },
  {
   "cell_type": "code",
   "execution_count": 31,
   "id": "57e58565",
   "metadata": {},
   "outputs": [],
   "source": [
    "def _get_essential_attributes(element: Tag) -> str:\n",
    "    essential_attributes = [\n",
    "        'id',\n",
    "        # 'class',\n",
    "        'href',\n",
    "        'src',\n",
    "        'readonly',\n",
    "        'disabled',\n",
    "        'checked',\n",
    "        'selected',\n",
    "        'role',\n",
    "        'type',  # Important for inputs, buttons\n",
    "        'name',  # Important for form elements\n",
    "        'value',  # Current value of form elements\n",
    "        'placeholder',  # Helpful for understanding input purpose\n",
    "        'title',  # Additional descriptive text\n",
    "        'alt',  # Alternative text for images\n",
    "        'for',  # Important for label associations\n",
    "        'autocomplete',  # Form field behavior\n",
    "    ]\n",
    "\n",
    "    essential_prefixes = ('aria-', 'data-',)\n",
    "\n",
    "    attrs = []\n",
    "    for attr, value in element.attrs.items():\n",
    "        if attr in essential_attributes or attr.startswith(essential_prefixes):\n",
    "            if isinstance(value, str):\n",
    "                value = value[:50]\n",
    "            elif isinstance(value, (list, tuple)):\n",
    "                value = ' '.join(str(v)[:50] for v in value)\n",
    "            attrs.append(f'{attr}=\"{value}\"')\n",
    "    \n",
    "    return ' '.join(attrs)"
   ]
  },
  {
   "cell_type": "code",
   "execution_count": 32,
   "id": "96d466ef",
   "metadata": {},
   "outputs": [],
   "source": [
    "xpaths = set(a[\"xpath\"] for a in accepted)"
   ]
  },
  {
   "cell_type": "code",
   "execution_count": 33,
   "id": "ff7f4551",
   "metadata": {},
   "outputs": [],
   "source": [
    "output_items = []\n",
    "selector_map = {}\n",
    "\n",
    "for index, a in enumerate(accepted):\n",
    "    is_text = a[\"is_text\"]\n",
    "    elem = a[\"element\"]\n",
    "    xpath = a[\"xpath\"]\n",
    "    n_parents = sum(elem_xpath in xpath for elem_xpath in xpaths if elem_xpath != xpath)\n",
    "    \n",
    "    if is_text:\n",
    "        text = _cap_text_length(elem.strip())\n",
    "        output_items.append(\n",
    "            DomContentItem(index=index, text=text, clickable=False, n_parents=n_parents)\n",
    "        )\n",
    "    else:\n",
    "        tag_name = elem.name\n",
    "        text = _cap_text_length(elem.get_text(strip=True, separator=\" | \"))\n",
    "        attributes = _get_essential_attributes(elem)\n",
    "        elm_content = f'<{tag_name}{\" \" + attributes if attributes else \"\"}>{text}</{tag_name}>'\n",
    "        output_items.append(\n",
    "            DomContentItem(index=index, text=elm_content, clickable=True, n_parents=n_parents)\n",
    "        )\n",
    "    \n",
    "    selector_map[index] = xpath"
   ]
  },
  {
   "cell_type": "code",
   "execution_count": 35,
   "id": "03c5191e",
   "metadata": {},
   "outputs": [],
   "source": [
    "class ProcessedDomContent(BaseModel):\n",
    "\titems: list[DomContentItem]\n",
    "\tselector_map: dict[int, str]\n",
    "\n",
    "\tdef dom_items_to_string(self) -> str:\n",
    "\t\tformatted_text = \"\"\n",
    "\t\tfor item in self.items:\n",
    "\t\t\tindent = \"\\t\"*item.n_parents\n",
    "\t\t\tformatted_text += f\"{item.index if item.clickable else '_':>3}:{indent}{item.text}\\n\"\n",
    "\t\treturn formatted_text"
   ]
  },
  {
   "cell_type": "code",
   "execution_count": 36,
   "id": "23d86ebc",
   "metadata": {},
   "outputs": [],
   "source": [
    "content = ProcessedDomContent(items=output_items, selector_map=selector_map)"
   ]
  },
  {
   "cell_type": "code",
   "execution_count": 37,
   "id": "e45ebda9",
   "metadata": {},
   "outputs": [
    {
     "name": "stdout",
     "output_type": "stream",
     "text": [
      "  0:<div role=\"button\" aria-label=\"Open main navigation\"></div>\n",
      "  1:<a href=\"/\" aria-label=\"Go to the kayak homepage\"></a>\n",
      "  2:<div role=\"button\">Sign in</div>\n",
      "  _:Flights\n",
      "  _:Stays\n",
      "  _:Cars\n",
      "  _:Packages\n",
      "  _:KAYAK.ai\n",
      "  _:BETA\n",
      "  _:Plan your trip\n",
      "  _:Explore\n",
      "  _:Flight Tracker\n",
      "  _:Travel tips\n",
      "  _:KAYAK for Business\n",
      "  _:NEW\n",
      "  _:Trips\n",
      "  _:English\n",
      "  _:$\n",
      "  _:United States dollar\n",
      "  _:Feedback\n",
      "  _:Compare flight deals from 100s of sites\n",
      "  _:.\n",
      " 22:<li role=\"menuitem\">Flights</li>\n",
      " 23:\t<a href=\"/flights\" aria-label=\"Search for flights\" aria-current=\"page\"></a>\n",
      " 24:<li role=\"menuitem\">Stays</li>\n",
      " 25:\t<a href=\"/stays\" aria-label=\"Search for stays\" aria-current=\"false\"></a>\n",
      " 26:<li role=\"menuitem\">Cars</li>\n",
      " 27:\t<a href=\"/cars\" aria-label=\"Search for cars\" aria-current=\"false\"></a>\n",
      " 28:<li role=\"menuitem\">Packages</li>\n",
      " 29:\t<a href=\"/packages\" aria-label=\"Search for packages\" aria-current=\"false\"></a>\n",
      " 30:<li role=\"menuitem\">KAYAK.ai</li>\n",
      " 31:\t<a href=\"#\" aria-label=\"Go to KAYAK.ai\" aria-current=\"false\"></a>\n",
      " 32:<div role=\"combobox\" aria-controls=\"flight-trip-type-dropdown\" aria-haspopup=\"listbox\" aria-expanded=\"false\" aria-label=\"Trip type Round-trip\">Round-trip</div>\n",
      " 33:<div role=\"button\">0 bags</div>\n",
      " 34:<div role=\"list\">Islamabad (ISB)</div>\n",
      " 35:\t<div role=\"listitem\">Islamabad (ISB)</div>\n",
      " 36:\t\t<div role=\"button\" aria-label=\"Remove value\"></div>\n",
      " 37:<input type=\"text\" aria-readonly=\"false\" placeholder=\"\" aria-label=\"Flight origin input\" aria-autocomplete=\"list\" aria-haspopup=\"listbox\" data-test-origin=\"ISB\" value=\"\"></input>\n",
      " 38:<div role=\"button\" aria-label=\"Swap departure airport and destination airport\"></div>\n",
      " 39:<input type=\"text\" aria-readonly=\"false\" placeholder=\"To?\" aria-label=\"Flight destination input\" aria-autocomplete=\"list\" aria-haspopup=\"listbox\" data-test-destination=\"\" value=\"\"></input>\n",
      " 40:<div role=\"button\" aria-label=\"Departure\">Departure</div>\n",
      " 41:<div role=\"button\" aria-label=\"Return\">Return</div>\n",
      " 42:<div role=\"combobox\" aria-controls=\"flight-horizontal-search-form-travelers-dropdown\" aria-haspopup=\"listbox\" aria-expanded=\"false\" aria-label=\"Trip type\">1 adult, Economy</div>\n",
      " 43:<button role=\"button\" aria-disabled=\"false\" type=\"submit\" aria-label=\"Search\"></button>\n",
      "  _:Save when you compare\n",
      "  _:More deals. More sites. One search\n",
      "  _:39,698,060\n",
      "  _:searches this week\n",
      "  _:Travelers love us\n",
      "  _:1M+ ratings on our app\n",
      "\n"
     ]
    }
   ],
   "source": [
    "print(content.dom_items_to_string())"
   ]
  },
  {
   "cell_type": "code",
   "execution_count": 38,
   "id": "ca64a7b7",
   "metadata": {},
   "outputs": [],
   "source": [
    "driver.quit()"
   ]
  },
  {
   "cell_type": "markdown",
   "id": "8863a8a2",
   "metadata": {},
   "source": [
    "Exclude leaf elements? as they are not interactive and only give text while text can also be obtained without them.\n",
    "\n",
    "Exclude texts if their ancestor is accepted"
   ]
  },
  {
   "cell_type": "code",
   "execution_count": 62,
   "id": "05271171",
   "metadata": {},
   "outputs": [],
   "source": [
    "# check src\n",
    "from src.dom.service import DomService"
   ]
  },
  {
   "cell_type": "code",
   "execution_count": 63,
   "metadata": {},
   "outputs": [],
   "source": [
    "dom_service = DomService(driver)"
   ]
  },
  {
   "cell_type": "code",
   "execution_count": 64,
   "id": "c62c6d85",
   "metadata": {},
   "outputs": [],
   "source": [
    "current_state = dom_service.get_current_state()"
   ]
  },
  {
   "cell_type": "code",
   "execution_count": 68,
   "id": "7a0754df",
   "metadata": {},
   "outputs": [
    {
     "name": "stdout",
     "output_type": "stream",
     "text": [
      "  0:<a aria-label=\"Airbnb homepage\" href=\"/\"></a>\n",
      "  1:<button id=\"search-block-tab-STAYS\" data-testid=\"header-tab-search-block-tab-STAYS\" name=\"refinement_paths[]\" role=\"tab\" aria-selected=\"true\" aria-controls=\"search-tabpanel\" type=\"button\">Homes</button>\n",
      "  2:<button id=\"search-block-tab-EXPERIENCES\" data-testid=\"header-tab-search-block-tab-EXPERIENCES\" name=\"refinement_paths[]\" role=\"tab\" aria-selected=\"false\" aria-controls=\"search-tabpanel\" type=\"button\">Experiences</button>\n",
      "  3:<div aria-labelledby=\"search-block-tab-STAYS\" id=\"search-tabpanel\" role=\"tabpanel\" data-panel-bounds=\"true\">Where | Check in | Add dates | Check out | Add dates | Who | Add guests | Search</div>\n",
      "  4:\t<label for=\"bigsearch-query-location-input\">Where</label>\n",
      "  5:\t\t<input aria-autocomplete=\"none\" autocomplete=\"off\" id=\"bigsearch-query-location-input\" name=\"query\" type=\"search\" aria-describedby=\"bigsearch-query-location-description\" placeholder=\"Search destinations\" data-testid=\"structured-search-input-field-query\" value=\"\"></input>\n",
      "  6:\t<div role=\"button\" aria-expanded=\"false\" data-testid=\"structured-search-input-field-split-dates-0\">Check in | Add dates</div>\n",
      "  7:\t<div role=\"button\" aria-expanded=\"false\" data-testid=\"structured-search-input-field-split-dates-1\">Check out | Add dates</div>\n",
      "  8:\t<div role=\"button\" aria-expanded=\"false\" data-testid=\"structured-search-input-field-guests-button\">Who | Add guests</div>\n",
      "  9:\t<button type=\"button\" data-testid=\"structured-search-input-search-button\">Search</button>\n",
      " 10:<a href=\"/host/homes\">Airbnb your home</a>\n",
      " 11:<button type=\"button\" aria-expanded=\"false\" aria-label=\"Choose a language and currency\"></button>\n",
      " 12:<button type=\"button\" aria-expanded=\"false\" aria-label=\"Main navigation menu\" data-testid=\"cypress-headernav-profile\" data-tooltip-anchor-id=\"headernav-profile-button\"></button>\n",
      "  _:12 of 62 Airbnb Categories showing\n",
      " 14:<label aria-hidden=\"false\">Rooms</label>\n",
      " 15:<label aria-hidden=\"false\">Icons</label>\n",
      " 16:<label aria-hidden=\"false\">Top cities</label>\n",
      " 17:<label aria-hidden=\"false\">Amazing views</label>\n",
      " 18:<label aria-hidden=\"false\">Countryside</label>\n",
      " 19:<label aria-hidden=\"false\">Houseboats</label>\n",
      " 20:<label aria-hidden=\"false\">Bed & breakfasts</label>\n",
      " 21:<label aria-hidden=\"false\">Mansions</label>\n",
      " 22:<label aria-hidden=\"false\">Castles</label>\n",
      " 23:<label aria-hidden=\"false\">OMG!</label>\n",
      " 24:<label aria-hidden=\"false\">Trending</label>\n",
      " 25:<label aria-hidden=\"false\">Arctic</label>\n",
      " 26:<button aria-label=\"Next categories page\" data-shared-element-id=\"next-button\" type=\"button\"></button>\n",
      " 27:<button data-testid=\"category-bar-filter-button\" type=\"button\">Filters</button>\n",
      "  _:Prices include all fees\n",
      " 29:<button type=\"button\">Show map</button>\n",
      " 30:<a aria-labelledby=\"title_22774851\" href=\"/rooms/22774851?category_tag=Tag%3A8678&search_mod\"></a>\n",
      "  _:Guest favorite\n",
      " 32:<button aria-label=\"Add to wishlist: Pekutatan, Indonesia\" data-testid=\"listing-card-save-button\" type=\"button\"></button>\n",
      " 33:<button aria-label=\"Host preview\" type=\"button\"></button>\n",
      "  _:Pekutatan, Indonesia\n",
      "  _:Stay with Pink Barrel Bali\n",
      "  _:Hosting for 9 years\n",
      "  _:,\n",
      "  _:May 11 – 16\n",
      "  _:$156 for 5 nights\n",
      "  _:for 5 nights\n",
      "  _:4.94 out of 5 average rating\n",
      " 42:<a aria-labelledby=\"title_43121446\" href=\"/rooms/43121446?category_tag=Tag%3A8678&search_mod\"></a>\n",
      "  _:Guest favorite\n",
      " 44:<button aria-label=\"Add to wishlist: London, UK\" data-testid=\"listing-card-save-button\" type=\"button\"></button>\n",
      " 45:<button aria-label=\"Host preview\" type=\"button\"></button>\n",
      "  _:London, UK\n",
      "  _:Stay with Sara\n",
      "  _:Environmental activist\n",
      "  _:,\n",
      "  _:Jul 20 – 25\n",
      "  _:$642 for 5 nights\n",
      "  _:for 5 nights\n",
      "  _:4.85 out of 5 average rating\n",
      " 54:<a aria-labelledby=\"title_1124010734237889235\" href=\"/rooms/1124010734237889235?category_tag=Tag%3A8678\"></a>\n",
      "  _:Guest favorite\n",
      " 56:<button aria-label=\"Add to wishlist: Florianópolis, Brazil\" data-testid=\"listing-card-save-button\" type=\"button\"></button>\n",
      " 57:<button aria-label=\"Host preview\" type=\"button\"></button>\n",
      "  _:Florianópolis, Brazil\n",
      "  _:Stay with Nelito\n",
      "  _:Physics teacher\n",
      "  _:,\n",
      "  _:May 3 – 8\n",
      "  _:$157 for 5 nights\n",
      "  _:for 5 nights\n",
      "  _:4.99 out of 5 average rating\n",
      " 66:<a aria-labelledby=\"title_1368802102196767788\" href=\"/rooms/1368802102196767788?category_tag=Tag%3A8678\"></a>\n",
      " 67:<button aria-label=\"Add to wishlist: Edava, India\" data-testid=\"listing-card-save-button\" type=\"button\"></button>\n",
      " 68:<button aria-label=\"Host preview\" type=\"button\"></button>\n",
      "  _:Edava, India\n",
      "  _:Stay with Shelly\n",
      "  _:May 5 – 10\n",
      "  _:$345 for 5 nights\n",
      "  _:for 5 nights\n",
      "  _:5.0 out of 5 average rating\n",
      " 75:<button aria-label=\"Add to wishlist: New Delhi, India\" data-testid=\"listing-card-save-button\" type=\"button\"></button>\n",
      " 76:<button aria-label=\"Add to wishlist: Tagaytay, Philippines\" data-testid=\"listing-card-save-button\" type=\"button\"></button>\n",
      " 77:<button aria-label=\"Add to wishlist: Baguio, Philippines\" data-testid=\"listing-card-save-button\" type=\"button\"></button>\n",
      " 78:<button aria-label=\"Add to wishlist: Bad Kissingen, Germany\" data-testid=\"listing-card-save-button\" type=\"button\"></button>\n",
      "\n"
     ]
    }
   ],
   "source": [
    "print(current_state.dom_items_to_string())"
   ]
  },
  {
   "cell_type": "code",
   "execution_count": null,
   "id": "6e38072e",
   "metadata": {},
   "outputs": [],
   "source": []
  }
 ],
 "metadata": {
  "kernelspec": {
   "display_name": "scraping",
   "language": "python",
   "name": "python3"
  },
  "language_info": {
   "codemirror_mode": {
    "name": "ipython",
    "version": 3
   },
   "file_extension": ".py",
   "mimetype": "text/x-python",
   "name": "python",
   "nbconvert_exporter": "python",
   "pygments_lexer": "ipython3",
   "version": "3.10.16"
  }
 },
 "nbformat": 4,
 "nbformat_minor": 5
}
