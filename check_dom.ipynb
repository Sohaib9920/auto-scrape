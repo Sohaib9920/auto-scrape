{
 "cells": [
  {
   "cell_type": "code",
   "execution_count": 2304,
   "id": "bef00b31",
   "metadata": {},
   "outputs": [
    {
     "name": "stdout",
     "output_type": "stream",
     "text": [
      "The autoreload extension is already loaded. To reload it, use:\n",
      "  %reload_ext autoreload\n"
     ]
    }
   ],
   "source": [
    "%load_ext autoreload\n",
    "%autoreload 2"
   ]
  },
  {
   "cell_type": "code",
   "execution_count": 2305,
   "id": "da7e17bf",
   "metadata": {},
   "outputs": [],
   "source": [
    "from bs4 import BeautifulSoup, NavigableString, PageElement, Tag\n",
    "from selenium import webdriver"
   ]
  },
  {
   "cell_type": "code",
   "execution_count": 2336,
   "id": "8151a67e",
   "metadata": {},
   "outputs": [],
   "source": [
    "from src.driver.service import DriverService"
   ]
  },
  {
   "cell_type": "code",
   "execution_count": 2337,
   "id": "8d1e20cf",
   "metadata": {},
   "outputs": [],
   "source": [
    "driver = DriverService().get_driver()"
   ]
  },
  {
   "cell_type": "code",
   "execution_count": 2338,
   "id": "a58ae836",
   "metadata": {},
   "outputs": [],
   "source": [
    "url = \"https://www.airbnb.com/\"\n",
    "driver.get(url)"
   ]
  },
  {
   "cell_type": "code",
   "execution_count": 2339,
   "id": "4619d811",
   "metadata": {},
   "outputs": [
    {
     "data": {
      "text/plain": [
       "'complete'"
      ]
     },
     "execution_count": 2339,
     "metadata": {},
     "output_type": "execute_result"
    }
   ],
   "source": [
    "driver.execute_script(\"return document.readyState\")"
   ]
  },
  {
   "cell_type": "code",
   "execution_count": 2340,
   "id": "09989cf2",
   "metadata": {},
   "outputs": [],
   "source": [
    "# from selenium.webdriver.support.ui import WebDriverWait\n",
    "# from selenium.webdriver.support import expected_conditions as EC\n",
    "\n",
    "# WebDriverWait(driver, 20).until(\n",
    "#     lambda d: d.execute_script(\"return document.readyState\") == \"complete\"\n",
    "# )"
   ]
  },
  {
   "cell_type": "code",
   "execution_count": 2351,
   "id": "f77bfc0c",
   "metadata": {},
   "outputs": [],
   "source": [
    "html_content = driver.page_source"
   ]
  },
  {
   "cell_type": "code",
   "execution_count": 2352,
   "id": "536a68d8",
   "metadata": {},
   "outputs": [],
   "source": [
    "with open(\"kayak.html\", \"w\") as f:\n",
    "    f.write(BeautifulSoup(html_content, \"lxml\").prettify())"
   ]
  },
  {
   "cell_type": "code",
   "execution_count": 2353,
   "id": "321efdde",
   "metadata": {},
   "outputs": [],
   "source": [
    "soup = BeautifulSoup(html_content, \"lxml\")"
   ]
  },
  {
   "cell_type": "code",
   "execution_count": 2343,
   "id": "96dcc67a",
   "metadata": {},
   "outputs": [],
   "source": [
    "# driver.quit()"
   ]
  },
  {
   "cell_type": "markdown",
   "id": "937cf903",
   "metadata": {},
   "source": [
    "# Functions"
   ]
  },
  {
   "cell_type": "code",
   "execution_count": 2344,
   "id": "5b62ee03",
   "metadata": {},
   "outputs": [],
   "source": [
    "def _quick_element_filter(element: Tag|NavigableString) -> bool:\n",
    "    \"\"\"\n",
    "    Quick pre-filter to eliminate elements before expensive checks.\n",
    "    Returns True if element passes initial filtering.\n",
    "    \"\"\"\n",
    "    if isinstance(element, NavigableString):\n",
    "        return bool(element.strip())\n",
    "    \n",
    "    # Quick attribute checks that would make element invisible/non-interactive\n",
    "    style = element.get('style', '')\n",
    "    if any(\n",
    "        [\n",
    "            element.get('aria-hidden') == 'true',\n",
    "            element.get('hidden') is not None,\n",
    "            element.get('disabled') is not None,\n",
    "            'display: none' in style or 'visibility: hidden' in style,\n",
    "            any(cls in element.get('class', []) for cls in ['hidden', 'invisible']),\n",
    "            element.get('type') == 'hidden',\n",
    "        ]\n",
    "    ):\n",
    "        return False\n",
    "    \n",
    "    return True\n",
    "\n",
    "\n",
    "def _is_element_accepted(element: Tag) -> bool:\n",
    "    \"\"\"Check if element is accepted based on tag name and special cases.\"\"\"\n",
    "    leaf_element_deny_list = {'svg', 'iframe', 'script', 'style', 'link', 'meta'}\n",
    "    return element.name not in leaf_element_deny_list\n",
    "\n",
    "\n",
    "def _is_interactive_element(element: Tag) -> bool:\n",
    "    \"\"\"Check if element is interactive based on tag name and attributes.\"\"\"\n",
    "    interactive_elements = {\n",
    "        'a', 'button', 'details', 'embed', 'input', 'label', 'menu', 'menuitem',\n",
    "        'object', 'select', 'textarea', 'summary', 'dialog'\n",
    "    }\n",
    "    interactive_roles = {\n",
    "        'button', 'menu', 'menuitem', 'link', 'checkbox', 'radio', 'slider', 'tab',\n",
    "        'tabpanel', 'textbox', 'combobox', 'grid', 'listbox', 'option', 'progressbar',\n",
    "        'scrollbar', 'searchbox', 'switch', 'tree', 'treeitem', 'spinbutton', 'tooltip',\n",
    "        'dialog', 'alertdialog', 'menuitemcheckbox', 'menuitemradio', 'list', 'listitem'\n",
    "    }\n",
    "\n",
    "    return (\n",
    "        element.name in interactive_elements\n",
    "        or element.get('role') in interactive_roles\n",
    "        or element.get('tabindex') == '0'\n",
    "    )\n",
    "\n",
    "\n",
    "def _is_leaf_element(element: Tag) -> bool:\n",
    "    \"\"\"Check if element is a leaf element (has text and no child tags).\"\"\"\n",
    "    # Must have non-empty text\n",
    "    if not element.get_text(strip=True):\n",
    "        return False\n",
    "    \n",
    "    # Check for child tags (not text nodes)\n",
    "    for child in element.children:\n",
    "        if isinstance(child, Tag):\n",
    "            return False\n",
    "    \n",
    "    return True\n",
    "\n",
    "\n",
    "def _generate_xpath(element: Tag) -> str:\n",
    "    # pages like wiki have multiple elements associated with single id\n",
    "    if isinstance(element, NavigableString):\n",
    "        return _generate_xpath(element.parent) if element.parent else ''\n",
    "    \n",
    "    parts = []\n",
    "    current = element\n",
    "\n",
    "    while current.name != '[document]':\n",
    "        selector = current.name\n",
    "        position = len(current.find_previous_siblings(current.name)) + 1\n",
    "        selector += f'[{position}]'\n",
    "        current = current.parent\n",
    "        parts.append(selector)\n",
    "\n",
    "    return  '//' + '/'.join(reversed(parts)) if parts else ''"
   ]
  },
  {
   "cell_type": "markdown",
   "id": "ea06f0b2",
   "metadata": {},
   "source": [
    "# Extract Content"
   ]
  },
  {
   "cell_type": "code",
   "execution_count": 2345,
   "id": "7daff065",
   "metadata": {},
   "outputs": [],
   "source": [
    "# only interactive ones should have index\n",
    "# soup.body.contents will cause problems. need copy"
   ]
  },
  {
   "cell_type": "code",
   "execution_count": 2354,
   "id": "61125e29",
   "metadata": {},
   "outputs": [],
   "source": [
    "candidate_elements: list[Tag | NavigableString] = []\n",
    "dom_queue = list(soup.body.children)[::-1] if soup.body else []"
   ]
  },
  {
   "cell_type": "code",
   "execution_count": 2355,
   "id": "c7b34957",
   "metadata": {},
   "outputs": [],
   "source": [
    "# do not decompose otherwise wrong element index when using `_generate_xpath` and `checkTextFront`\n",
    "while dom_queue:\n",
    "    element = dom_queue.pop()\n",
    "\n",
    "    if not _quick_element_filter(element):\n",
    "        continue \n",
    "\n",
    "    # Handle both Tag elements and text nodes\n",
    "    if isinstance(element, Tag):\n",
    "        if not _is_element_accepted(element):\n",
    "            continue\n",
    "\n",
    "        for child in reversed(list(element.children)):\n",
    "            dom_queue.append(child)\n",
    "\n",
    "        if _is_interactive_element(element):\n",
    "            candidate_elements.append(element)\n",
    "    \n",
    "    elif isinstance(element, NavigableString) and element.strip():\n",
    "        candidate_elements.append(element)"
   ]
  },
  {
   "cell_type": "code",
   "execution_count": 2356,
   "id": "a5c1eb62",
   "metadata": {},
   "outputs": [
    {
     "data": {
      "text/plain": [
       "656"
      ]
     },
     "execution_count": 2356,
     "metadata": {},
     "output_type": "execute_result"
    }
   ],
   "source": [
    "len(candidate_elements)"
   ]
  },
  {
   "cell_type": "markdown",
   "id": "aafcc57f",
   "metadata": {},
   "source": [
    "## JS visibility and top element checks"
   ]
  },
  {
   "cell_type": "code",
   "execution_count": 2357,
   "metadata": {},
   "outputs": [],
   "source": [
    "candidates = [\n",
    "    {\n",
    "        \"xpath\": _generate_xpath(c),\n",
    "        \"is_text\": not isinstance(c, Tag),\n",
    "        \"node_index\": list(c.parent.children).index(c),\n",
    "    }\n",
    "    for c in candidate_elements\n",
    "]"
   ]
  },
  {
   "cell_type": "code",
   "execution_count": 2358,
   "id": "70766073",
   "metadata": {},
   "outputs": [
    {
     "data": {
      "text/plain": [
       "656"
      ]
     },
     "execution_count": 2358,
     "metadata": {},
     "output_type": "execute_result"
    }
   ],
   "source": [
    "len(candidates)"
   ]
  },
  {
   "cell_type": "markdown",
   "id": "782de157",
   "metadata": {},
   "source": [
    "---"
   ]
  },
  {
   "cell_type": "code",
   "execution_count": 2289,
   "id": "6303e255",
   "metadata": {},
   "outputs": [],
   "source": [
    "js_code = \"\"\"\n",
    "function checkVisibility(candidates) {\n",
    "    const results = [];\n",
    "\n",
    "    for (const candidate of candidates) {\n",
    "\n",
    "        const elem = document.evaluate(\n",
    "            candidate.xpath,\n",
    "            document,\n",
    "            null,\n",
    "            XPathResult.FIRST_ORDERED_NODE_TYPE,\n",
    "            null\n",
    "        ).singleNodeValue;\n",
    "\n",
    "        results.push(true)\n",
    "    }\n",
    "    return results;\n",
    "}\n",
    "\n",
    "const candidates = arguments[0]\n",
    "return checkVisibility(candidates)\n",
    "\"\"\"\n",
    "mask = driver.execute_script(js_code, candidates)"
   ]
  },
  {
   "cell_type": "code",
   "execution_count": 1920,
   "id": "f4898928",
   "metadata": {},
   "outputs": [
    {
     "data": {
      "text/plain": [
       "(17492, 17492)"
      ]
     },
     "execution_count": 1920,
     "metadata": {},
     "output_type": "execute_result"
    }
   ],
   "source": [
    "len(mask), sum(mask)"
   ]
  },
  {
   "cell_type": "code",
   "execution_count": null,
   "id": "c940f152",
   "metadata": {},
   "outputs": [],
   "source": [
    "js_code = \"\"\"\n",
    "function checkVisibility(candidates) {\n",
    "    const results = [];\n",
    "    const elementCache = new Map();\n",
    "\n",
    "    for (const candidate of candidates) {\n",
    "\n",
    "        const xpath = candidate.xpath\n",
    "        let elem;\n",
    "\n",
    "        if (elementCache.has(xpath)) {\n",
    "            elem = elementCache.get(xpath);\n",
    "            \n",
    "        } else {\n",
    "            elem = document.evaluate(\n",
    "                xpath,\n",
    "                document,\n",
    "                null,\n",
    "                XPathResult.FIRST_ORDERED_NODE_TYPE,\n",
    "                null\n",
    "            ).singleNodeValue;\n",
    "\n",
    "            elementCache.set(xpath, elem);\n",
    "        }\n",
    "\n",
    "        results.push(true)\n",
    "\n",
    "    }\n",
    "    return results;\n",
    "}\n",
    "\n",
    "const candidates = arguments[0]\n",
    "return checkVisibility(candidates)\n",
    "\"\"\"\n",
    "mask = driver.execute_script(js_code, candidates)"
   ]
  },
  {
   "cell_type": "code",
   "execution_count": 1922,
   "id": "9d8694fe",
   "metadata": {},
   "outputs": [
    {
     "data": {
      "text/plain": [
       "(17492, 17492)"
      ]
     },
     "execution_count": 1922,
     "metadata": {},
     "output_type": "execute_result"
    }
   ],
   "source": [
    "len(mask), sum(mask)"
   ]
  },
  {
   "cell_type": "code",
   "execution_count": null,
   "id": "35de1750",
   "metadata": {},
   "outputs": [],
   "source": [
    "js_code = \"\"\"\n",
    "function checkVisibility(candidates) {\n",
    "    const results = [];\n",
    "    const elementCache = new Map();\n",
    "\n",
    "    for (const candidate of candidates) {\n",
    "\n",
    "        const xpath = candidate.xpath\n",
    "        let elem;\n",
    "\n",
    "        if (elementCache.has(xpath)) {\n",
    "            elem = elementCache.get(xpath);\n",
    "            \n",
    "        } else {\n",
    "            elem = document.evaluate(\n",
    "                xpath,\n",
    "                document,\n",
    "                null,\n",
    "                XPathResult.FIRST_ORDERED_NODE_TYPE,\n",
    "                null\n",
    "            ).singleNodeValue;\n",
    "\n",
    "            elementCache.set(xpath, elem);\n",
    "        }\n",
    "\n",
    "        if (!elem) {\n",
    "            results.push(false);\n",
    "            continue;\n",
    "        }\n",
    "\n",
    "        const isVisible = elem.checkVisibility({\n",
    "            checkOpacity: true,\n",
    "            checkVisibilityCSS: true\n",
    "        })\n",
    "\n",
    "        if (!isVisible) {\n",
    "            results.push(false);\n",
    "            continue;\n",
    "        }\n",
    "\n",
    "        results.push(true)\n",
    "    }\n",
    "    return results;\n",
    "}\n",
    "\n",
    "const candidates = arguments[0]\n",
    "return checkVisibility(candidates)\n",
    "\"\"\"\n",
    "mask = driver.execute_script(js_code, candidates)"
   ]
  },
  {
   "cell_type": "code",
   "execution_count": 1924,
   "id": "2b533e6e",
   "metadata": {},
   "outputs": [
    {
     "data": {
      "text/plain": [
       "(17492, 16469)"
      ]
     },
     "execution_count": 1924,
     "metadata": {},
     "output_type": "execute_result"
    }
   ],
   "source": [
    "len(mask), sum(mask)"
   ]
  },
  {
   "cell_type": "code",
   "execution_count": null,
   "id": "33228109",
   "metadata": {},
   "outputs": [],
   "source": [
    "js_code = \"\"\"\n",
    "function checkTop(elem) {\n",
    "    const rect = elem.getBoundingClientRect();\n",
    "\n",
    "    const points = [\n",
    "        {x: rect.left + rect.width * 0.2, y: rect.top + rect.height * 0.2},\n",
    "        {x: rect.left + rect.width * 0.8, y: rect.top + rect.height * 0.2}, \n",
    "        {x: rect.left + rect.width * 0.2, y: rect.top + rect.height * 0.8},\n",
    "        {x: rect.left + rect.width * 0.8, y: rect.top + rect.height * 0.8},\n",
    "        {x: rect.left + rect.width / 2, y: rect.top + rect.height / 2}\n",
    "    ];\n",
    "    \n",
    "    return points.some(point => {\n",
    "        const topEl = document.elementFromPoint(point.x, point.y);\n",
    "        return elem.contains(topEl);\n",
    "    });\n",
    "}\n",
    "\n",
    "function checkTextFront(textNode) {\n",
    "    const range = document.createRange();\n",
    "    range.selectNodeContents(textNode);\n",
    "    const rect = range.getBoundingClientRect();\n",
    "    \n",
    "    return (\n",
    "        rect.width !== 0 && \n",
    "        rect.height !== 0 &&\n",
    "        rect.top > 0 &&\n",
    "        rect.bottom < window.innerHeight\n",
    "    );\n",
    "}\n",
    "\n",
    "function checkVisibility(candidates) {\n",
    "    const results = [];\n",
    "    const elementCache = new Map();\n",
    "\n",
    "    for (const candidate of candidates) {\n",
    "        const xpath = candidate.xpath;\n",
    "        let elem;\n",
    "\n",
    "        if (elementCache.has(xpath)) {\n",
    "            elem = elementCache.get(xpath);\n",
    "            \n",
    "        } else {\n",
    "            elem = document.evaluate(\n",
    "                xpath,\n",
    "                document,\n",
    "                null,\n",
    "                XPathResult.FIRST_ORDERED_NODE_TYPE,\n",
    "                null\n",
    "            ).singleNodeValue;\n",
    "\n",
    "            elementCache.set(xpath, elem);\n",
    "        }\n",
    "\n",
    "        if (!elem) {\n",
    "            results.push(false);\n",
    "            continue;\n",
    "        }\n",
    "\n",
    "        const isVisible = elem.checkVisibility({\n",
    "            checkOpacity: true,\n",
    "            checkVisibilityCSS: true\n",
    "        })\n",
    "\n",
    "        if (!isVisible) {\n",
    "            results.push(false);\n",
    "            continue;\n",
    "        }\n",
    "\n",
    "        if (candidate.is_text) {\n",
    "            const textNode = elem.childNodes[candidate.node_index];\n",
    "            const isFrontText = checkTextFront(textNode);\n",
    "\n",
    "            if (!isFrontText) {\n",
    "                results.push(false);\n",
    "                continue;\n",
    "            }\n",
    "        } else {\n",
    "            const isTop = checkTop(elem);\n",
    "\n",
    "            if (!isTop) {\n",
    "                results.push(false);\n",
    "                continue;\n",
    "            }\n",
    "        }\n",
    "\n",
    "        results.push(true)\n",
    "    }\n",
    "    return results;\n",
    "}\n",
    "\n",
    "const candidates = arguments[0]\n",
    "return checkVisibility(candidates)\n",
    "\"\"\"\n",
    "mask = driver.execute_script(js_code, candidates)"
   ]
  },
  {
   "cell_type": "code",
   "execution_count": 1926,
   "id": "a860c378",
   "metadata": {},
   "outputs": [
    {
     "data": {
      "text/plain": [
       "(17492, 345)"
      ]
     },
     "execution_count": 1926,
     "metadata": {},
     "output_type": "execute_result"
    }
   ],
   "source": [
    "len(mask), sum(mask)"
   ]
  },
  {
   "cell_type": "markdown",
   "id": "2e5924cc",
   "metadata": {},
   "source": [
    "---"
   ]
  },
  {
   "cell_type": "code",
   "execution_count": 2322,
   "id": "fe244bf4",
   "metadata": {},
   "outputs": [],
   "source": [
    "js_code = \"\"\"\n",
    "function checkTop(elem) {\n",
    "    const rect = elem.getBoundingClientRect();\n",
    "\n",
    "    const points = [\n",
    "        {x: rect.left + rect.width * 0.2, y: rect.top + rect.height * 0.2},\n",
    "        {x: rect.left + rect.width * 0.8, y: rect.top + rect.height * 0.2}, \n",
    "        {x: rect.left + rect.width * 0.2, y: rect.top + rect.height * 0.8},\n",
    "        {x: rect.left + rect.width * 0.8, y: rect.top + rect.height * 0.8},\n",
    "        {x: rect.left + rect.width / 2, y: rect.top + rect.height / 2}\n",
    "    ];\n",
    "    \n",
    "    return points.some(point => {\n",
    "        const topEl = document.elementFromPoint(point.x, point.y);\n",
    "        return elem.contains(topEl);\n",
    "    });\n",
    "}\n",
    "\n",
    "function checkTextFront(textNode) {\n",
    "    const range = document.createRange();\n",
    "    range.selectNodeContents(textNode);\n",
    "    const rect = range.getBoundingClientRect();\n",
    "    \n",
    "    return (\n",
    "        rect.width !== 0 && \n",
    "        rect.height !== 0 &&\n",
    "        rect.top > 0 &&\n",
    "        rect.bottom < window.innerHeight\n",
    "    );\n",
    "}\n",
    "\n",
    "function checkVisibility(candidates) {\n",
    "    const results = [];\n",
    "    const elementCache = new Map();\n",
    "    const accepted_elem_xpaths = new Set();\n",
    "\n",
    "    for (const candidate of candidates) {\n",
    "        const xpath = candidate.xpath;\n",
    "        let elem;\n",
    "\n",
    "        if (accepted_elem_xpaths.has(xpath)) {\n",
    "            results.push(false);\n",
    "            continue;\n",
    "        }\n",
    "\n",
    "        if (elementCache.has(xpath)) {\n",
    "            elem = elementCache.get(xpath);\n",
    "            \n",
    "        } else {\n",
    "            elem = document.evaluate(\n",
    "                xpath,\n",
    "                document,\n",
    "                null,\n",
    "                XPathResult.FIRST_ORDERED_NODE_TYPE,\n",
    "                null\n",
    "            ).singleNodeValue;\n",
    "\n",
    "            elementCache.set(xpath, elem);\n",
    "        }\n",
    "\n",
    "        if (!elem) {\n",
    "            results.push(false);\n",
    "            continue;\n",
    "        }\n",
    "\n",
    "        const isVisible = elem.checkVisibility({\n",
    "            checkOpacity: true,\n",
    "            checkVisibilityCSS: true\n",
    "        })\n",
    "\n",
    "        if (!isVisible) {\n",
    "            results.push(false);\n",
    "            continue;\n",
    "        }\n",
    "\n",
    "        if (candidate.is_text) {\n",
    "            const textNode = elem.childNodes[candidate.node_index];\n",
    "            const isFrontText = checkTextFront(textNode);\n",
    "\n",
    "            if (!isFrontText) {\n",
    "                results.push(false);\n",
    "                continue;\n",
    "            }\n",
    "        } else {\n",
    "            const isTop = checkTop(elem);\n",
    "\n",
    "            if (!isTop) {\n",
    "                results.push(false);\n",
    "                continue;\n",
    "            }\n",
    "        }\n",
    "\n",
    "        results.push(true)\n",
    "\n",
    "        if (!candidate.is_text) {\n",
    "            accepted_elem_xpaths.add(xpath)     \n",
    "        }\n",
    "        \n",
    "        console.log(elem)\n",
    "    }\n",
    "    return results;\n",
    "}\n",
    "\n",
    "const candidates = arguments[0]\n",
    "return checkVisibility(candidates)\n",
    "\"\"\"\n",
    "mask = driver.execute_script(js_code, candidates)"
   ]
  },
  {
   "cell_type": "code",
   "execution_count": 2323,
   "id": "6e0aadc1",
   "metadata": {},
   "outputs": [
    {
     "data": {
      "text/plain": [
       "(352, 93)"
      ]
     },
     "execution_count": 2323,
     "metadata": {},
     "output_type": "execute_result"
    }
   ],
   "source": [
    "len(mask), sum(mask)"
   ]
  },
  {
   "cell_type": "code",
   "execution_count": 2359,
   "id": "2aca0d94",
   "metadata": {},
   "outputs": [],
   "source": [
    "js_code = \"\"\"\n",
    "function checkTop(elem) {\n",
    "    const rect = elem.getBoundingClientRect();\n",
    "\n",
    "    const points = [\n",
    "        {x: rect.left + rect.width * 0.2, y: rect.top + rect.height * 0.2},\n",
    "        {x: rect.left + rect.width * 0.8, y: rect.top + rect.height * 0.2}, \n",
    "        {x: rect.left + rect.width * 0.2, y: rect.top + rect.height * 0.8},\n",
    "        {x: rect.left + rect.width * 0.8, y: rect.top + rect.height * 0.8},\n",
    "        {x: rect.left + rect.width / 2, y: rect.top + rect.height / 2}\n",
    "    ];\n",
    "    \n",
    "    return points.some(point => {\n",
    "        const topEl = document.elementFromPoint(point.x, point.y);\n",
    "        return elem.contains(topEl);\n",
    "    });\n",
    "}\n",
    "\n",
    "function checkTextFront(textNode) {\n",
    "    const range = document.createRange();\n",
    "    range.selectNodeContents(textNode);\n",
    "    const rect = range.getBoundingClientRect();\n",
    "    \n",
    "    return (\n",
    "        rect.width !== 0 && \n",
    "        rect.height !== 0 &&\n",
    "        rect.top > 0 &&\n",
    "        rect.bottom < window.innerHeight\n",
    "    );\n",
    "}\n",
    "\n",
    "function checkVisibility(candidates) {\n",
    "    const results = [];\n",
    "    const elementCache = new Map();\n",
    "    const accepted_elem_xpaths = new Set();\n",
    "\n",
    "    for (const candidate of candidates) {\n",
    "        const xpath = candidate.xpath;\n",
    "        let elem;\n",
    "\n",
    "        if (candidate.is_text) {\n",
    "            let skip = false;\n",
    "            for (const accepted_xpath of accepted_elem_xpaths) {\n",
    "                if (xpath.startsWith(accepted_xpath)) {\n",
    "                    skip = true;\n",
    "                    break;              \n",
    "                }\n",
    "            }\n",
    "            if (skip) {\n",
    "                results.push(false);\n",
    "                continue;\n",
    "            }\n",
    "        }\n",
    "\n",
    "        if (accepted_elem_xpaths.has(xpath)) {\n",
    "            results.push(false);\n",
    "            continue;\n",
    "        }\n",
    "\n",
    "        if (elementCache.has(xpath)) {\n",
    "            elem = elementCache.get(xpath);\n",
    "            \n",
    "        } else {\n",
    "            elem = document.evaluate(\n",
    "                xpath,\n",
    "                document,\n",
    "                null,\n",
    "                XPathResult.FIRST_ORDERED_NODE_TYPE,\n",
    "                null\n",
    "            ).singleNodeValue;\n",
    "\n",
    "            elementCache.set(xpath, elem);\n",
    "        }\n",
    "\n",
    "        if (!elem) {\n",
    "            results.push(false);\n",
    "            continue;\n",
    "        }\n",
    "\n",
    "        const isVisible = elem.checkVisibility({\n",
    "            checkOpacity: true,\n",
    "            checkVisibilityCSS: true\n",
    "        })\n",
    "\n",
    "        if (!isVisible) {\n",
    "            results.push(false);\n",
    "            continue;\n",
    "        }\n",
    "\n",
    "        if (candidate.is_text) {\n",
    "            const textNode = elem.childNodes[candidate.node_index];\n",
    "            const isFrontText = checkTextFront(textNode);\n",
    "\n",
    "            if (!isFrontText) {\n",
    "                results.push(false);\n",
    "                continue;\n",
    "            }\n",
    "        } else {\n",
    "            const isTop = checkTop(elem);\n",
    "\n",
    "            if (!isTop) {\n",
    "                results.push(false);\n",
    "                continue;\n",
    "            }\n",
    "        }\n",
    "\n",
    "        results.push(true)\n",
    "\n",
    "        if (!candidate.is_text) {\n",
    "            accepted_elem_xpaths.add(xpath)     \n",
    "        }\n",
    "        \n",
    "        console.log(elem)\n",
    "    }\n",
    "    return results;\n",
    "}\n",
    "\n",
    "const candidates = arguments[0]\n",
    "return checkVisibility(candidates)\n",
    "\"\"\"\n",
    "mask = driver.execute_script(js_code, candidates)"
   ]
  },
  {
   "cell_type": "code",
   "execution_count": 2365,
   "id": "d23adcef",
   "metadata": {},
   "outputs": [
    {
     "data": {
      "text/plain": [
       "(656, 69)"
      ]
     },
     "execution_count": 2365,
     "metadata": {},
     "output_type": "execute_result"
    }
   ],
   "source": [
    "len(mask), sum(mask)"
   ]
  },
  {
   "cell_type": "code",
   "execution_count": 2366,
   "id": "b845bcf9",
   "metadata": {},
   "outputs": [],
   "source": [
    "accepted = [\n",
    "    {\n",
    "        \"xpath\": c[\"xpath\"],\n",
    "        \"is_text\": c[\"is_text\"],\n",
    "        \"node_index\": c[\"node_index\"],\n",
    "        \"element\": e,\n",
    "        \n",
    "    }\n",
    "    for e, c, included in \n",
    "    zip(candidate_elements, candidates, mask) if included\n",
    "] "
   ]
  },
  {
   "cell_type": "code",
   "execution_count": 2367,
   "id": "fd527f3a",
   "metadata": {},
   "outputs": [
    {
     "data": {
      "text/plain": [
       "[{'xpath': '//html[1]/body[1]/div[5]/div[1]/div[1]/div[1]/div[1]/div[1]/div[2]/main[1]/div[2]/div[1]/div[1]/div[1]/div[1]/div[1]/div[4]/div[1]/div[2]/div[1]/div[1]/div[1]/div[1]/div[1]/div[2]/div[1]',\n",
       "  'is_text': True,\n",
       "  'node_index': 0,\n",
       "  'element': 'Loteamento Olhos D´agua, Brazil'},\n",
       " {'xpath': '//html[1]/body[1]/div[5]/div[1]/div[1]/div[1]/div[1]/div[1]/div[2]/main[1]/div[2]/div[1]/div[1]/div[1]/div[1]/div[1]/div[4]/div[1]/div[2]/div[1]/div[1]/div[1]/div[1]/div[1]/div[2]/div[3]/span[1]/span[1]',\n",
       "  'is_text': True,\n",
       "  'node_index': 0,\n",
       "  'element': '14,171 kilometers away'},\n",
       " {'xpath': '//html[1]/body[1]/div[5]/div[1]/div[1]/div[1]/div[1]/div[1]/div[2]/main[1]/div[2]/div[1]/div[1]/div[1]/div[1]/div[1]/div[4]/div[1]/div[2]/div[1]/div[1]/div[1]/div[1]/div[1]/div[2]/div[4]/span[1]/span[1]',\n",
       "  'is_text': True,\n",
       "  'node_index': 0,\n",
       "  'element': 'Apr 28\\u2009–\\u2009May 3'},\n",
       " {'xpath': '//html[1]/body[1]/div[5]/div[1]/div[1]/div[1]/div[1]/div[1]/div[2]/main[1]/div[2]/div[1]/div[1]/div[1]/div[1]/div[1]/div[4]/div[1]/div[2]/div[1]/div[1]/div[1]/div[1]/div[1]/div[2]/div[5]/div[2]/div[1]/div[1]/span[1]/div[1]/span[1]',\n",
       "  'is_text': True,\n",
       "  'node_index': 0,\n",
       "  'element': '$311 for 5 nights'},\n",
       " {'xpath': '//html[1]/body[1]/div[5]/div[1]/div[1]/div[1]/div[1]/div[1]/div[2]/main[1]/div[2]/div[1]/div[1]/div[1]/div[1]/div[1]/div[4]/div[1]/div[2]/div[1]/div[1]/div[1]/div[1]/div[1]/div[2]/div[5]/div[2]/div[1]/div[1]/span[1]/div[2]/span[1]',\n",
       "  'is_text': True,\n",
       "  'node_index': 0,\n",
       "  'element': 'for 5 nights'},\n",
       " {'xpath': '//html[1]/body[1]/div[5]/div[1]/div[1]/div[1]/div[1]/div[1]/div[2]/main[1]/div[2]/div[1]/div[1]/div[1]/div[1]/div[1]/div[4]/div[1]/div[2]/div[1]/div[1]/div[1]/div[1]/div[1]/div[2]/div[6]/span[1]/span[1]',\n",
       "  'is_text': True,\n",
       "  'node_index': 0,\n",
       "  'element': '4.83 out of 5 average rating'},\n",
       " {'xpath': '//html[1]/body[1]/div[5]/div[1]/div[1]/div[1]/div[1]/div[1]/div[2]/main[1]/div[2]/div[1]/div[1]/div[1]/div[1]/div[1]/div[5]/div[1]/div[2]/div[1]/div[1]/div[1]/div[1]/div[1]/div[1]/div[1]/div[1]/div[1]/div[1]/div[1]/div[2]/div[1]/button[1]',\n",
       "  'is_text': False,\n",
       "  'node_index': 0,\n",
       "  'element': <button aria-label=\"Add to wishlist: São Paulo, Brazil\" class=\"l1ovpqvx atm_1he2i46_1k8pnbi_10saat9 atm_yxpdqi_1pv6nv4_10saat9 atm_1a0hdzc_w1h1e8_10saat9 atm_2bu6ew_929bqk_10saat9 atm_12oyo1u_73u7pn_10saat9 atm_fiaz40_1etamxe_10saat9 bq05a0m atm_9j_tlke0l atm_mk_h2mmj6 atm_r3_1h6ojuz atm_rd_glywfm atm_70_5j5alw atm_26_d0eyo3 atm_tl_1gw4zv3 atm_9j_13gfvf7_1o5j5ji vq7srz5 atm_bx_48h72j atm_c8_2x1prs atm_g3_1jbyh58 atm_fr_11a07z3 atm_cs_10d11i2 atm_kd_glywfm atm_r2_1j28jx2 atm_h_1h6ojuz atm_2d_1j28jx2 atm_5j_1ssbidh atm_3f_glywfm atm_7l_jt7fhx atm_9s_116y0ak atm_fc_1h6ojuz atm_uc_10d7vwn atm_gi_esb3ot atm_l8_a40nd8 atm_vy_1fdyxx4 atm_e2_1fdyxx4 atm_uc_glywfm__1rrf6b5 atm_kd_glywfm_1w3cfyq atm_uc_aaiy6o_1w3cfyq atm_3f_glywfm_e4a3ld atm_l8_idpfg4_e4a3ld atm_gi_idpfg4_e4a3ld atm_3f_glywfm_1r4qscq atm_kd_glywfm_6y7yyg atm_uc_glywfm_1w3cfyq_1rrf6b5 atm_kd_glywfm_pfnrn2_1oszvuo atm_uc_aaiy6o_pfnrn2_1oszvuo atm_3f_glywfm_1icshfk_1oszvuo atm_l8_idpfg4_1icshfk_1oszvuo atm_gi_idpfg4_1icshfk_1oszvuo atm_3f_glywfm_b5gff8_1oszvuo atm_kd_glywfm_2by9w9_1oszvuo atm_uc_glywfm_pfnrn2_1o31aam atm_k4_kb7nvz_1o5j5ji atm_70_18bflhl_1w3cfyq atm_tr_5cnv85_1w3cfyq atm_tr_ffmgpj_94ny3c atm_70_18bflhl_pfnrn2_1oszvuo atm_tr_5cnv85_pfnrn2_1oszvuo atm_tr_ffmgpj_1a1naid_1oszvuo atm_tr_5cnv85_1nos8r_uv4tnr atm_tr_ffmgpj_z5n1qr_uv4tnr atm_tr_ffmgpj_csw3t1 dir dir-ltr\" data-testid=\"listing-card-save-button\" type=\"button\"><svg aria-hidden=\"true\" focusable=\"false\" role=\"presentation\" style=\"display: block; fill: rgba(0, 0, 0, 0.5); height: 24px; width: 24px; stroke: var(--linaria-theme_palette-icon-primary-inverse); stroke-width: 2; overflow: visible;\" viewbox=\"0 0 32 32\" xmlns=\"http://www.w3.org/2000/svg\"><path d=\"M16 28c7-4.73 14-10 14-17a6.98 6.98 0 0 0-7-7c-1.8 0-3.58.68-4.95 2.05L16 8.1l-2.05-2.05a6.98 6.98 0 0 0-9.9 0A6.98 6.98 0 0 0 2 11c0 7 7 12.27 14 17z\"></path></svg></button>},\n",
       " {'xpath': '//html[1]/body[1]/div[5]/div[1]/div[1]/div[1]/div[1]/div[1]/div[2]/main[1]/div[2]/div[1]/div[1]/div[1]/div[1]/div[1]/div[6]/div[1]/div[2]/div[1]/div[1]/div[1]/div[1]/div[1]/div[1]/div[1]/div[1]/div[1]/div[1]/div[1]/div[2]/div[1]/button[1]',\n",
       "  'is_text': False,\n",
       "  'node_index': 0,\n",
       "  'element': <button aria-label=\"Add to wishlist: Barra Guaratiba, Brazil\" class=\"l1ovpqvx atm_1he2i46_1k8pnbi_10saat9 atm_yxpdqi_1pv6nv4_10saat9 atm_1a0hdzc_w1h1e8_10saat9 atm_2bu6ew_929bqk_10saat9 atm_12oyo1u_73u7pn_10saat9 atm_fiaz40_1etamxe_10saat9 bq05a0m atm_9j_tlke0l atm_mk_h2mmj6 atm_r3_1h6ojuz atm_rd_glywfm atm_70_5j5alw atm_26_d0eyo3 atm_tl_1gw4zv3 atm_9j_13gfvf7_1o5j5ji vq7srz5 atm_bx_48h72j atm_c8_2x1prs atm_g3_1jbyh58 atm_fr_11a07z3 atm_cs_10d11i2 atm_kd_glywfm atm_r2_1j28jx2 atm_h_1h6ojuz atm_2d_1j28jx2 atm_5j_1ssbidh atm_3f_glywfm atm_7l_jt7fhx atm_9s_116y0ak atm_fc_1h6ojuz atm_uc_10d7vwn atm_gi_esb3ot atm_l8_a40nd8 atm_vy_1fdyxx4 atm_e2_1fdyxx4 atm_uc_glywfm__1rrf6b5 atm_kd_glywfm_1w3cfyq atm_uc_aaiy6o_1w3cfyq atm_3f_glywfm_e4a3ld atm_l8_idpfg4_e4a3ld atm_gi_idpfg4_e4a3ld atm_3f_glywfm_1r4qscq atm_kd_glywfm_6y7yyg atm_uc_glywfm_1w3cfyq_1rrf6b5 atm_kd_glywfm_pfnrn2_1oszvuo atm_uc_aaiy6o_pfnrn2_1oszvuo atm_3f_glywfm_1icshfk_1oszvuo atm_l8_idpfg4_1icshfk_1oszvuo atm_gi_idpfg4_1icshfk_1oszvuo atm_3f_glywfm_b5gff8_1oszvuo atm_kd_glywfm_2by9w9_1oszvuo atm_uc_glywfm_pfnrn2_1o31aam atm_k4_kb7nvz_1o5j5ji atm_70_18bflhl_1w3cfyq atm_tr_5cnv85_1w3cfyq atm_tr_ffmgpj_94ny3c atm_70_18bflhl_pfnrn2_1oszvuo atm_tr_5cnv85_pfnrn2_1oszvuo atm_tr_ffmgpj_1a1naid_1oszvuo atm_tr_5cnv85_1nos8r_uv4tnr atm_tr_ffmgpj_z5n1qr_uv4tnr atm_tr_ffmgpj_csw3t1 dir dir-ltr\" data-testid=\"listing-card-save-button\" type=\"button\"><svg aria-hidden=\"true\" focusable=\"false\" role=\"presentation\" style=\"display: block; fill: rgba(0, 0, 0, 0.5); height: 24px; width: 24px; stroke: var(--linaria-theme_palette-icon-primary-inverse); stroke-width: 2; overflow: visible;\" viewbox=\"0 0 32 32\" xmlns=\"http://www.w3.org/2000/svg\"><path d=\"M16 28c7-4.73 14-10 14-17a6.98 6.98 0 0 0-7-7c-1.8 0-3.58.68-4.95 2.05L16 8.1l-2.05-2.05a6.98 6.98 0 0 0-9.9 0A6.98 6.98 0 0 0 2 11c0 7 7 12.27 14 17z\"></path></svg></button>},\n",
       " {'xpath': '//html[1]/body[1]/div[5]/div[1]/div[1]/div[1]/div[1]/div[1]/div[2]/main[1]/div[2]/div[1]/div[1]/div[1]/div[1]/div[1]/div[7]/div[1]/div[2]/div[1]/div[1]/div[1]/div[1]/div[1]/div[1]/div[1]/div[1]/div[1]/div[1]/div[1]/div[2]/div[1]/button[1]',\n",
       "  'is_text': False,\n",
       "  'node_index': 0,\n",
       "  'element': <button aria-label=\"Add to wishlist: Kuala Lumpur, Malaysia\" class=\"l1ovpqvx atm_1he2i46_1k8pnbi_10saat9 atm_yxpdqi_1pv6nv4_10saat9 atm_1a0hdzc_w1h1e8_10saat9 atm_2bu6ew_929bqk_10saat9 atm_12oyo1u_73u7pn_10saat9 atm_fiaz40_1etamxe_10saat9 bq05a0m atm_9j_tlke0l atm_mk_h2mmj6 atm_r3_1h6ojuz atm_rd_glywfm atm_70_5j5alw atm_26_d0eyo3 atm_tl_1gw4zv3 atm_9j_13gfvf7_1o5j5ji vq7srz5 atm_bx_48h72j atm_c8_2x1prs atm_g3_1jbyh58 atm_fr_11a07z3 atm_cs_10d11i2 atm_kd_glywfm atm_r2_1j28jx2 atm_h_1h6ojuz atm_2d_1j28jx2 atm_5j_1ssbidh atm_3f_glywfm atm_7l_jt7fhx atm_9s_116y0ak atm_fc_1h6ojuz atm_uc_10d7vwn atm_gi_esb3ot atm_l8_a40nd8 atm_vy_1fdyxx4 atm_e2_1fdyxx4 atm_uc_glywfm__1rrf6b5 atm_kd_glywfm_1w3cfyq atm_uc_aaiy6o_1w3cfyq atm_3f_glywfm_e4a3ld atm_l8_idpfg4_e4a3ld atm_gi_idpfg4_e4a3ld atm_3f_glywfm_1r4qscq atm_kd_glywfm_6y7yyg atm_uc_glywfm_1w3cfyq_1rrf6b5 atm_kd_glywfm_pfnrn2_1oszvuo atm_uc_aaiy6o_pfnrn2_1oszvuo atm_3f_glywfm_1icshfk_1oszvuo atm_l8_idpfg4_1icshfk_1oszvuo atm_gi_idpfg4_1icshfk_1oszvuo atm_3f_glywfm_b5gff8_1oszvuo atm_kd_glywfm_2by9w9_1oszvuo atm_uc_glywfm_pfnrn2_1o31aam atm_k4_kb7nvz_1o5j5ji atm_70_18bflhl_1w3cfyq atm_tr_5cnv85_1w3cfyq atm_tr_ffmgpj_94ny3c atm_70_18bflhl_pfnrn2_1oszvuo atm_tr_5cnv85_pfnrn2_1oszvuo atm_tr_ffmgpj_1a1naid_1oszvuo atm_tr_5cnv85_1nos8r_uv4tnr atm_tr_ffmgpj_z5n1qr_uv4tnr atm_tr_ffmgpj_csw3t1 dir dir-ltr\" data-testid=\"listing-card-save-button\" type=\"button\"><svg aria-hidden=\"true\" focusable=\"false\" role=\"presentation\" style=\"display: block; fill: rgba(0, 0, 0, 0.5); height: 24px; width: 24px; stroke: var(--linaria-theme_palette-icon-primary-inverse); stroke-width: 2; overflow: visible;\" viewbox=\"0 0 32 32\" xmlns=\"http://www.w3.org/2000/svg\"><path d=\"M16 28c7-4.73 14-10 14-17a6.98 6.98 0 0 0-7-7c-1.8 0-3.58.68-4.95 2.05L16 8.1l-2.05-2.05a6.98 6.98 0 0 0-9.9 0A6.98 6.98 0 0 0 2 11c0 7 7 12.27 14 17z\"></path></svg></button>},\n",
       " {'xpath': '//html[1]/body[1]/div[5]/div[1]/div[1]/div[1]/div[1]/div[1]/div[2]/main[1]/div[2]/div[1]/div[1]/div[1]/div[1]/div[1]/div[8]/div[1]/div[2]/div[1]/div[1]/div[1]/div[1]/div[1]/div[1]/div[1]/div[1]/div[1]/div[1]/div[1]/div[2]/div[1]/button[1]',\n",
       "  'is_text': False,\n",
       "  'node_index': 0,\n",
       "  'element': <button aria-label=\"Add to wishlist: São Paulo, Brazil\" class=\"l1ovpqvx atm_1he2i46_1k8pnbi_10saat9 atm_yxpdqi_1pv6nv4_10saat9 atm_1a0hdzc_w1h1e8_10saat9 atm_2bu6ew_929bqk_10saat9 atm_12oyo1u_73u7pn_10saat9 atm_fiaz40_1etamxe_10saat9 bq05a0m atm_9j_tlke0l atm_mk_h2mmj6 atm_r3_1h6ojuz atm_rd_glywfm atm_70_5j5alw atm_26_d0eyo3 atm_tl_1gw4zv3 atm_9j_13gfvf7_1o5j5ji vq7srz5 atm_bx_48h72j atm_c8_2x1prs atm_g3_1jbyh58 atm_fr_11a07z3 atm_cs_10d11i2 atm_kd_glywfm atm_r2_1j28jx2 atm_h_1h6ojuz atm_2d_1j28jx2 atm_5j_1ssbidh atm_3f_glywfm atm_7l_jt7fhx atm_9s_116y0ak atm_fc_1h6ojuz atm_uc_10d7vwn atm_gi_esb3ot atm_l8_a40nd8 atm_vy_1fdyxx4 atm_e2_1fdyxx4 atm_uc_glywfm__1rrf6b5 atm_kd_glywfm_1w3cfyq atm_uc_aaiy6o_1w3cfyq atm_3f_glywfm_e4a3ld atm_l8_idpfg4_e4a3ld atm_gi_idpfg4_e4a3ld atm_3f_glywfm_1r4qscq atm_kd_glywfm_6y7yyg atm_uc_glywfm_1w3cfyq_1rrf6b5 atm_kd_glywfm_pfnrn2_1oszvuo atm_uc_aaiy6o_pfnrn2_1oszvuo atm_3f_glywfm_1icshfk_1oszvuo atm_l8_idpfg4_1icshfk_1oszvuo atm_gi_idpfg4_1icshfk_1oszvuo atm_3f_glywfm_b5gff8_1oszvuo atm_kd_glywfm_2by9w9_1oszvuo atm_uc_glywfm_pfnrn2_1o31aam atm_k4_kb7nvz_1o5j5ji atm_70_18bflhl_1w3cfyq atm_tr_5cnv85_1w3cfyq atm_tr_ffmgpj_94ny3c atm_70_18bflhl_pfnrn2_1oszvuo atm_tr_5cnv85_pfnrn2_1oszvuo atm_tr_ffmgpj_1a1naid_1oszvuo atm_tr_5cnv85_1nos8r_uv4tnr atm_tr_ffmgpj_z5n1qr_uv4tnr atm_tr_ffmgpj_csw3t1 dir dir-ltr\" data-testid=\"listing-card-save-button\" type=\"button\"><svg aria-hidden=\"true\" focusable=\"false\" role=\"presentation\" style=\"display: block; fill: rgba(0, 0, 0, 0.5); height: 24px; width: 24px; stroke: var(--linaria-theme_palette-icon-primary-inverse); stroke-width: 2; overflow: visible;\" viewbox=\"0 0 32 32\" xmlns=\"http://www.w3.org/2000/svg\"><path d=\"M16 28c7-4.73 14-10 14-17a6.98 6.98 0 0 0-7-7c-1.8 0-3.58.68-4.95 2.05L16 8.1l-2.05-2.05a6.98 6.98 0 0 0-9.9 0A6.98 6.98 0 0 0 2 11c0 7 7 12.27 14 17z\"></path></svg></button>}]"
      ]
     },
     "execution_count": 2367,
     "metadata": {},
     "output_type": "execute_result"
    }
   ],
   "source": [
    "accepted[-10:]"
   ]
  },
  {
   "cell_type": "code",
   "execution_count": 2368,
   "id": "c1846cde",
   "metadata": {},
   "outputs": [],
   "source": [
    "def _cap_text_length(text: str, max_length: int = 150) -> str:\n",
    "    if len(text) > max_length:\n",
    "        half_length = max_length // 2\n",
    "        return text[:half_length] + '...' + text[-half_length:]\n",
    "    return text"
   ]
  },
  {
   "cell_type": "code",
   "execution_count": 2369,
   "id": "db7c0c6d",
   "metadata": {},
   "outputs": [],
   "source": [
    "from pydantic import BaseModel"
   ]
  },
  {
   "cell_type": "code",
   "execution_count": 2370,
   "id": "30a1048e",
   "metadata": {},
   "outputs": [],
   "source": [
    "class DomContentItem(BaseModel):\n",
    "    index: int\n",
    "    text: str\n",
    "    clickable: bool\n",
    "    n_parents: int\n"
   ]
  },
  {
   "cell_type": "code",
   "execution_count": 2371,
   "id": "57e58565",
   "metadata": {},
   "outputs": [],
   "source": [
    "def _get_essential_attributes(element: Tag) -> str:\n",
    "    essential_attributes = [\n",
    "        'id',\n",
    "        # 'class',\n",
    "        'href',\n",
    "        'src',\n",
    "        'readonly',\n",
    "        'disabled',\n",
    "        'checked',\n",
    "        'selected',\n",
    "        'role',\n",
    "        'type',  # Important for inputs, buttons\n",
    "        'name',  # Important for form elements\n",
    "        'value',  # Current value of form elements\n",
    "        'placeholder',  # Helpful for understanding input purpose\n",
    "        'title',  # Additional descriptive text\n",
    "        'alt',  # Alternative text for images\n",
    "        'for',  # Important for label associations\n",
    "        'autocomplete',  # Form field behavior\n",
    "    ]\n",
    "\n",
    "    essential_prefixes = ('aria-', 'data-',)\n",
    "\n",
    "    attrs = []\n",
    "    for attr, value in element.attrs.items():\n",
    "        if attr in essential_attributes or attr.startswith(essential_prefixes):\n",
    "            if isinstance(value, str):\n",
    "                value = value[:50]\n",
    "            elif isinstance(value, (list, tuple)):\n",
    "                value = ' '.join(str(v)[:50] for v in value)\n",
    "            attrs.append(f'{attr}=\"{value}\"')\n",
    "    \n",
    "    return ' '.join(attrs)"
   ]
  },
  {
   "cell_type": "code",
   "execution_count": 2372,
   "id": "96d466ef",
   "metadata": {},
   "outputs": [],
   "source": [
    "xpaths = set(a[\"xpath\"] for a in accepted)"
   ]
  },
  {
   "cell_type": "code",
   "execution_count": 2373,
   "id": "ff7f4551",
   "metadata": {},
   "outputs": [],
   "source": [
    "output_items = []\n",
    "selector_map = {}\n",
    "\n",
    "for index, a in enumerate(accepted):\n",
    "    is_text = a[\"is_text\"]\n",
    "    elem = a[\"element\"]\n",
    "    xpath = a[\"xpath\"]\n",
    "    n_parents = sum(elem_xpath in xpath for elem_xpath in xpaths if elem_xpath != xpath)\n",
    "    \n",
    "    if is_text:\n",
    "        text = _cap_text_length(elem.strip())\n",
    "        output_items.append(\n",
    "            DomContentItem(index=index, text=text, clickable=False, n_parents=n_parents)\n",
    "        )\n",
    "    else:\n",
    "        tag_name = elem.name\n",
    "        text = _cap_text_length(elem.get_text(strip=True, separator=\" | \"))\n",
    "        attributes = _get_essential_attributes(elem)\n",
    "        elm_content = f'<{tag_name}{\" \" + attributes if attributes else \"\"}>{text}</{tag_name}>'\n",
    "        output_items.append(\n",
    "            DomContentItem(index=index, text=elm_content, clickable=True, n_parents=n_parents)\n",
    "        )\n",
    "    \n",
    "    selector_map[index] = xpath"
   ]
  },
  {
   "cell_type": "code",
   "execution_count": 2374,
   "id": "03c5191e",
   "metadata": {},
   "outputs": [],
   "source": [
    "class ProcessedDomContent(BaseModel):\n",
    "\titems: list[DomContentItem]\n",
    "\tselector_map: dict[int, str]\n",
    "\n",
    "\tdef dom_items_to_string(self) -> str:\n",
    "\t\tformatted_text = \"\"\n",
    "\t\tfor item in output_items:\n",
    "\t\t\tindent = \"\\t\"*item.n_parents\n",
    "\t\t\tformatted_text += f\"{item.index if item.clickable else '_':>3}:{indent}{item.text}\\n\"\n",
    "\t\treturn formatted_text"
   ]
  },
  {
   "cell_type": "code",
   "execution_count": 2375,
   "id": "23d86ebc",
   "metadata": {},
   "outputs": [],
   "source": [
    "content = ProcessedDomContent(items=output_items, selector_map=selector_map)"
   ]
  },
  {
   "cell_type": "code",
   "execution_count": 2376,
   "id": "e45ebda9",
   "metadata": {},
   "outputs": [
    {
     "name": "stdout",
     "output_type": "stream",
     "text": [
      "  0:<a aria-label=\"Airbnb homepage\" href=\"/\"></a>\n",
      "  1:<button id=\"search-block-tab-STAYS\" data-testid=\"header-tab-search-block-tab-STAYS\" name=\"refinement_paths[]\" role=\"tab\" aria-selected=\"true\" aria-controls=\"search-tabpanel\" type=\"button\">Homes</button>\n",
      "  2:<button id=\"search-block-tab-EXPERIENCES\" data-testid=\"header-tab-search-block-tab-EXPERIENCES\" name=\"refinement_paths[]\" role=\"tab\" aria-selected=\"false\" aria-controls=\"search-tabpanel\" type=\"button\">Experiences</button>\n",
      "  3:<div aria-labelledby=\"search-block-tab-STAYS\" id=\"search-tabpanel\" role=\"tabpanel\" data-panel-bounds=\"true\">Where | Check in | Add dates | Check out | Add dates | Who | Add guests | Search</div>\n",
      "  4:\t<label for=\"bigsearch-query-location-input\">Where</label>\n",
      "  5:\t\t<input aria-autocomplete=\"none\" autocomplete=\"off\" id=\"bigsearch-query-location-input\" name=\"query\" type=\"search\" aria-describedby=\"bigsearch-query-location-description\" placeholder=\"Search destinations\" data-testid=\"structured-search-input-field-query\" value=\"\"></input>\n",
      "  6:\t<div role=\"button\" aria-expanded=\"false\" data-testid=\"structured-search-input-field-split-dates-0\">Check in | Add dates</div>\n",
      "  7:\t<div role=\"button\" aria-expanded=\"false\" data-testid=\"structured-search-input-field-split-dates-1\">Check out | Add dates</div>\n",
      "  8:\t<div role=\"button\" aria-expanded=\"false\" data-testid=\"structured-search-input-field-guests-button\">Who | Add guests</div>\n",
      "  9:\t<button type=\"button\" data-testid=\"structured-search-input-search-button\">Search</button>\n",
      " 10:<a href=\"/host/homes\">Airbnb your home</a>\n",
      " 11:<button type=\"button\" aria-expanded=\"false\" aria-label=\"Choose a language and currency\"></button>\n",
      " 12:<button type=\"button\" aria-expanded=\"false\" aria-label=\"Main navigation menu\" data-testid=\"cypress-headernav-profile\" data-tooltip-anchor-id=\"headernav-profile-button\"></button>\n",
      "  _:12 of 62 Airbnb Categories showing\n",
      " 14:<label aria-hidden=\"false\">Top cities</label>\n",
      " 15:<label aria-hidden=\"false\">Icons</label>\n",
      " 16:<label aria-hidden=\"false\">Rooms</label>\n",
      " 17:<label aria-hidden=\"false\">Amazing views</label>\n",
      " 18:<label aria-hidden=\"false\">Luxe</label>\n",
      " 19:<label aria-hidden=\"false\">Lakefront</label>\n",
      " 20:<label aria-hidden=\"false\">Mansions</label>\n",
      " 21:<label aria-hidden=\"false\">Tropical</label>\n",
      " 22:<label aria-hidden=\"false\">Tiny homes</label>\n",
      " 23:<label aria-hidden=\"false\">OMG!</label>\n",
      " 24:<label aria-hidden=\"false\">Trending</label>\n",
      " 25:<label aria-hidden=\"false\">Earth homes</label>\n",
      " 26:<button aria-label=\"Next categories page\" data-shared-element-id=\"next-button\" type=\"button\"></button>\n",
      " 27:<button data-testid=\"category-bar-filter-button\" type=\"button\">Filters</button>\n",
      "  _:Prices include all fees\n",
      " 29:<button type=\"button\">Show map</button>\n",
      " 30:<a aria-labelledby=\"title_8860800\" href=\"/rooms/8860800?category_tag=Tag%3A8535&search_mode\"></a>\n",
      "  _:Guest favorite\n",
      " 32:<button aria-label=\"Add to wishlist: Cape Town, South Africa\" data-testid=\"listing-card-save-button\" type=\"button\"></button>\n",
      "  _:Cape Town, South Africa\n",
      "  _:9,442 kilometers away\n",
      "  _:Jun 16 – 21\n",
      "  _:$567 for 5 nights\n",
      "  _:for 5 nights\n",
      "  _:4.86 out of 5 average rating\n",
      " 39:<a aria-labelledby=\"title_41004219\" href=\"/rooms/41004219?category_tag=Tag%3A8535&search_mod\"></a>\n",
      " 40:<button aria-label=\"Add to wishlist: Gaular, Norway\" data-testid=\"listing-card-save-button\" type=\"button\"></button>\n",
      "  _:Gaular, Norway\n",
      "  _:5,580 kilometers away\n",
      "  _:Apr 18 – 23\n",
      "  _:$1,651 for 5 nights\n",
      "  _:for 5 nights\n",
      "  _:4.94 out of 5 average rating\n",
      " 47:<a aria-labelledby=\"title_908611595823138745\" href=\"/rooms/908611595823138745?category_tag=Tag%3A8535&\"></a>\n",
      "  _:Guest favorite\n",
      " 49:<button aria-label=\"Add to wishlist: Göppingen, Germany\" data-testid=\"listing-card-save-button\" type=\"button\"></button>\n",
      "  _:Göppingen, Germany\n",
      "  _:5,399 kilometers away\n",
      "  _:Apr 22 – 27\n",
      "  _:$2,491 for 5 nights\n",
      "  _:for 5 nights\n",
      "  _:5.0 out of 5 average rating\n",
      " 56:<a aria-labelledby=\"title_44252079\" href=\"/rooms/44252079?category_tag=Tag%3A8535&search_mod\"></a>\n",
      "  _:Guest favorite\n",
      " 58:<button aria-label=\"Add to wishlist: Loteamento Olhos D´agua, Brazil\" data-testid=\"listing-card-save-button\" type=\"button\"></button>\n",
      "  _:Loteamento Olhos D´agua, Brazil\n",
      "  _:14,171 kilometers away\n",
      "  _:Apr 28 – May 3\n",
      "  _:$311 for 5 nights\n",
      "  _:for 5 nights\n",
      "  _:4.83 out of 5 average rating\n",
      " 65:<button aria-label=\"Add to wishlist: São Paulo, Brazil\" data-testid=\"listing-card-save-button\" type=\"button\"></button>\n",
      " 66:<button aria-label=\"Add to wishlist: Barra Guaratiba, Brazil\" data-testid=\"listing-card-save-button\" type=\"button\"></button>\n",
      " 67:<button aria-label=\"Add to wishlist: Kuala Lumpur, Malaysia\" data-testid=\"listing-card-save-button\" type=\"button\"></button>\n",
      " 68:<button aria-label=\"Add to wishlist: São Paulo, Brazil\" data-testid=\"listing-card-save-button\" type=\"button\"></button>\n",
      "\n"
     ]
    }
   ],
   "source": [
    "print(content.dom_items_to_string())"
   ]
  },
  {
   "cell_type": "markdown",
   "id": "8863a8a2",
   "metadata": {},
   "source": [
    "Exclude leaf elements? as they are not interactive and only give text while text can also be obtained without them.\n",
    "\n",
    "Exclude texts if their ancestor is accepted"
   ]
  },
  {
   "cell_type": "code",
   "execution_count": null,
   "id": "05271171",
   "metadata": {},
   "outputs": [],
   "source": []
  },
  {
   "cell_type": "code",
   "execution_count": null,
   "metadata": {},
   "outputs": [],
   "source": []
  }
 ],
 "metadata": {
  "kernelspec": {
   "display_name": "scraping",
   "language": "python",
   "name": "python3"
  },
  "language_info": {
   "codemirror_mode": {
    "name": "ipython",
    "version": 3
   },
   "file_extension": ".py",
   "mimetype": "text/x-python",
   "name": "python",
   "nbconvert_exporter": "python",
   "pygments_lexer": "ipython3",
   "version": "3.10.16"
  }
 },
 "nbformat": 4,
 "nbformat_minor": 5
}
