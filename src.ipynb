{
 "cells": [
  {
   "cell_type": "code",
   "execution_count": 63,
   "metadata": {},
   "outputs": [
    {
     "name": "stdout",
     "output_type": "stream",
     "text": [
      "The autoreload extension is already loaded. To reload it, use:\n",
      "  %reload_ext autoreload\n"
     ]
    }
   ],
   "source": [
    "%load_ext autoreload\n",
    "%autoreload 2"
   ]
  },
  {
   "cell_type": "code",
   "execution_count": 135,
   "metadata": {},
   "outputs": [],
   "source": [
    "from src.driver.service import DriverService\n",
    "from src.state_manager.state import StateManager\n",
    "from src.actions.browser_actions import BrowserActions\n",
    "from src.agent_interface.planing_agent import PlaningAgent\n",
    "from src.actions.browser_actions import ActionResult\n",
    "from src.state_manager.utils import save_formatted_html\n",
    "\n",
    "import os\n",
    "from datetime import datetime"
   ]
  },
  {
   "cell_type": "code",
   "execution_count": 194,
   "metadata": {},
   "outputs": [],
   "source": [
    "driver = DriverService().get_driver()\n",
    "state_manager = StateManager(driver)\n",
    "actions = BrowserActions(driver)"
   ]
  },
  {
   "cell_type": "code",
   "execution_count": 195,
   "metadata": {},
   "outputs": [],
   "source": [
    "timestamp = datetime.now().strftime('%Y%m%d_%H%M%S')\n",
    "run_folder = f'temp/run_{timestamp}'\n",
    "if not os.path.exists(run_folder):\n",
    "    os.makedirs(run_folder)"
   ]
  },
  {
   "cell_type": "code",
   "execution_count": 196,
   "metadata": {},
   "outputs": [],
   "source": [
    "task = 'Go to kayak.com and find a flight from Zürich to (ask the user for the destination) on 2025-04-25 with return on 2025-06-05 for 2 people.'"
   ]
  },
  {
   "cell_type": "code",
   "execution_count": 197,
   "metadata": {},
   "outputs": [
    {
     "name": "stdout",
     "output_type": "stream",
     "text": [
      "{'ask_user': 'text: string', 'send_user_text': 'text: string', 'search_google': 'text: string', 'go_to_url': 'url: string', 'done': '', 'go_back': '', 'click': 'id: int', 'input': 'id: int, text: string', 'nothing': ''}\n"
     ]
    }
   ],
   "source": [
    "print(actions.get_default_actions())"
   ]
  },
  {
   "cell_type": "code",
   "execution_count": 198,
   "metadata": {},
   "outputs": [],
   "source": [
    "agent = PlaningAgent(default_actions=actions.get_default_actions(), model=\"gpt-4o\")"
   ]
  },
  {
   "cell_type": "code",
   "execution_count": 199,
   "metadata": {},
   "outputs": [],
   "source": [
    "agent.add_user_prompt(f'Your task is: {task}', after_system=True)"
   ]
  },
  {
   "cell_type": "code",
   "execution_count": 200,
   "metadata": {},
   "outputs": [],
   "source": [
    "url_history = []\n",
    "output = ActionResult()"
   ]
  },
  {
   "cell_type": "code",
   "execution_count": 201,
   "metadata": {},
   "outputs": [],
   "source": [
    "i = 0"
   ]
  },
  {
   "cell_type": "code",
   "execution_count": 202,
   "metadata": {},
   "outputs": [],
   "source": [
    "previous_state = None"
   ]
  },
  {
   "cell_type": "markdown",
   "metadata": {},
   "source": [
    "---"
   ]
  },
  {
   "cell_type": "code",
   "execution_count": 263,
   "metadata": {},
   "outputs": [],
   "source": [
    "current_state = state_manager.get_current_state()"
   ]
  },
  {
   "cell_type": "code",
   "execution_count": 264,
   "metadata": {},
   "outputs": [],
   "source": [
    "save_formatted_html(driver.page_source, f'{run_folder}/html_{i}.html')"
   ]
  },
  {
   "cell_type": "code",
   "execution_count": 265,
   "metadata": {},
   "outputs": [],
   "source": [
    "url_history.append(driver.current_url)\n",
    "text = f'Elements: {state_manager.get_compared_elements(current_state, previous_state)}, Url history: {url_history}'"
   ]
  },
  {
   "cell_type": "code",
   "execution_count": 266,
   "metadata": {},
   "outputs": [
    {
     "name": "stdout",
     "output_type": "stream",
     "text": [
      "Elements: 2:<div aria-label=\"Open main navigation\"></div>\n",
      "3:<a href=\"/\" aria-label=\"Go to the kayak homepage\"></a>\n",
      "4:<div aria-label=\"Open Trips drawer\"></div>\n",
      "5:<div>Sign in</div>\n",
      "6:<span>Sign in</span>\n",
      "372:<div aria-haspopup=\"listbox\" aria-expanded=\"false\" aria-label=\"Trip type Round-trip\">Round-trip</div>\n",
      "373:<span>Round-trip</span>\n",
      "375:<div>0 bags</div>\n",
      "376:<span>0 bags</span>\n",
      "378:<div>ISB</div>\n",
      "380:<div aria-label=\"Remove value\"></div>\n",
      "381:<div>ZRH</div>\n",
      "383:<div aria-label=\"Remove value\"></div>\n",
      "384:<input type=\"text\" aria-readonly=\"false\" placeholder=\"\" aria-label=\"Flight origin input\" aria-autocomplete=\"list\" aria-haspopup=\"listbox\" value=\"\" aria-controls=\"flight-origin-smarty-input-list\"></input>\n",
      "385:<div aria-label=\"Swap departure airport and destination airport\"></div>\n",
      "(+) 386:<div>Denpasar, Bali, Indonesia (DPS)</div>\n",
      "388:<div aria-label=\"Remove value\"></div>\n",
      "390:<div aria-label=\"Departure\">Departure</div>\n",
      "391:<span>Departure</span>\n",
      "393:<div aria-label=\"Return\">Return</div>\n",
      "394:<span>Return</span>\n",
      "396:<div aria-haspopup=\"listbox\" aria-expanded=\"false\" aria-label=\"Trip type\">1 adult, Economy</div>\n",
      "397:<span>1 adult, Economy</span>\n",
      "399:<button aria-disabled=\"false\" type=\"submit\" aria-label=\"Search\"></button>\n",
      "410:<span>Travelers love us</span>\n",
      "412:<span>1M+ ratings on our app</span>\n",
      "(+) 2708:<label aria-label=\"Dates\" aria-checked=\"true\">Dates</label>\n",
      "(+) 2711:<label aria-label=\"Weekend\" aria-checked=\"false\">Weekend</label>\n",
      "(+) 2714:<label aria-label=\"Month\" aria-checked=\"false\">Month</label>\n",
      "(+) 2716:<span id=\"c257d69f72b77\">Departure</span>\n",
      "(+) 2718:<div aria-haspopup=\"listbox\" aria-expanded=\"false\" aria-labelledby=\"c257d69f72b77\">exact</div>\n",
      "(+) 2721:<span id=\"51a1edbcff731\">Return</span>\n",
      "(+) 2723:<div aria-haspopup=\"listbox\" aria-expanded=\"false\" aria-labelledby=\"51a1edbcff731\">exact</div>\n",
      "(+) 2726:<div aria-label=\"Next Month\"></div>\n",
      "(+) 2727:<table aria-multiselectable=\"true\">April 2025 | S | M | T | W | T | F | S | 1 | 2 | 3 | 4 | 5 | 6 | 7 | 8 | 9 | 10 | 11 | 12 | 13 | 14 | 15 | 16 | 17 | 18 | 19 | 20 | 21 | 22 | 23 | 24 | 25 | 26 | 27 | 28 | 29 | 30</table>\n",
      "(+) 2730:<abbr>S</abbr>\n",
      "(+) 2732:<abbr>M</abbr>\n",
      "(+) 2734:<abbr>T</abbr>\n",
      "(+) 2736:<abbr>W</abbr>\n",
      "(+) 2738:<abbr>T</abbr>\n",
      "(+) 2740:<abbr>F</abbr>\n",
      "(+) 2742:<abbr>S</abbr>\n",
      "(+) 2744:1\n",
      "(+) 2745:2\n",
      "(+) 2746:3\n",
      "(+) 2747:4\n",
      "(+) 2748:5\n",
      "(+) 2749:6\n",
      "(+) 2750:7\n",
      "(+) 2751:8\n",
      "(+) 2752:9\n",
      "(+) 2753:<div aria-label=\"April 10, 2025 Prices on this day are above average\">10</div>\n",
      "(+) 2755:<div aria-label=\"April 11, 2025 Prices on this day are above average\">11</div>\n",
      "(+) 2757:<div aria-label=\"April 12, 2025 Prices on this day are above average\">12</div>\n",
      "(+) 2759:<div aria-label=\"April 13, 2025 Prices on this day are around average\">13</div>\n",
      "(+) 2761:<div aria-label=\"April 14, 2025 Prices on this day are around average\">14</div>\n",
      "(+) 2763:<div aria-label=\"April 15, 2025 Prices on this day are around average\">15</div>\n",
      "(+) 2765:<div aria-label=\"April 16, 2025 Prices on this day are around average\">16</div>\n",
      "(+) 2767:<div aria-label=\"April 17, 2025 Prices on this day are around average\">17</div>\n",
      "(+) 2769:<div aria-label=\"April 18, 2025 Prices on this day are around average\">18</div>\n",
      "(+) 2771:<div aria-label=\"April 19, 2025 Prices on this day are around average\">19</div>\n",
      "(+) 2773:<div aria-label=\"April 20, 2025 Prices on this day are around average\">20</div>\n",
      "(+) 2775:<div aria-label=\"April 21, 2025 Prices on this day are around average\">21</div>\n",
      "(+) 2777:<div aria-label=\"April 22, 2025 Prices on this day are around average\">22</div>\n",
      "(+) 2779:<div aria-label=\"April 23, 2025 Prices on this day are around average\">23</div>\n",
      "(+) 2781:<div aria-label=\"April 24, 2025 Prices on this day are around average\">24</div>\n",
      "(+) 2783:<div aria-label=\"April 25, 2025 Prices on this day are around average\">25</div>\n",
      "(+) 2785:<div aria-label=\"April 26, 2025 Prices on this day are around average\">26</div>\n",
      "(+) 2787:<div aria-label=\"April 27, 2025 Prices on this day are around average\">27</div>\n",
      "(+) 2789:<div aria-label=\"April 28, 2025 Prices on this day are below average\">28</div>\n",
      "(+) 2791:<div aria-label=\"April 29, 2025 Prices on this day are below average\">29</div>\n",
      "(+) 2793:<div aria-label=\"April 30, 2025 Prices on this day are below average\">30</div>\n",
      "(+) 2795:<table aria-multiselectable=\"true\">May 2025 | S | M | T | W | T | F | S | 1 | 2 | 3 | 4 | 5 | 6 | 7 | 8 | 9 | 10 | 11 | 12 | 13 | 14 | 15 | 16 | 17 | 18 | 19 | 20 | 21 | 22 | 23 | 24 | 25 | 26 | 27 | 28 | 29 | 30 | 31</table>\n",
      "(+) 2798:<abbr>S</abbr>\n",
      "(+) 2800:<abbr>M</abbr>\n",
      "(+) 2802:<abbr>T</abbr>\n",
      "(+) 2804:<abbr>W</abbr>\n",
      "(+) 2806:<abbr>T</abbr>\n",
      "(+) 2808:<abbr>F</abbr>\n",
      "(+) 2810:<abbr>S</abbr>\n",
      "(+) 2812:<div aria-label=\"May 1, 2025 Prices on this day are around average\">1</div>\n",
      "(+) 2814:<div aria-label=\"May 2, 2025 Prices on this day are around average\">2</div>\n",
      "(+) 2816:<div aria-label=\"May 3, 2025 Prices on this day are around average\">3</div>\n",
      "(+) 2818:<div aria-label=\"May 4, 2025 Prices on this day are below average\">4</div>\n",
      "(+) 2820:<div aria-label=\"May 5, 2025 Prices on this day are below average\">5</div>\n",
      "(+) 2822:<div aria-label=\"May 6, 2025 Prices on this day are below average\">6</div>\n",
      "(+) 2824:<div aria-label=\"May 7, 2025 Prices on this day are below average\">7</div>\n",
      "(+) 2826:<div aria-label=\"May 8, 2025 Prices on this day are below average\">8</div>\n",
      "(+) 2828:<div aria-label=\"May 9, 2025 Prices on this day are around average\">9</div>\n",
      "(+) 2830:<div aria-label=\"May 10, 2025 Prices on this day are below average\">10</div>\n",
      "(+) 2832:<div aria-label=\"May 11, 2025 Prices on this day are around average\">11</div>\n",
      "(+) 2834:<div aria-label=\"May 12, 2025 Prices on this day are around average\">12</div>\n",
      "(+) 2836:<div aria-label=\"May 13, 2025 Prices on this day are below average\">13</div>\n",
      "(+) 2838:<div aria-label=\"May 14, 2025 Prices on this day are below average\">14</div>\n",
      "(+) 2840:<div aria-label=\"May 15, 2025 Prices on this day are around average\">15</div>\n",
      "(+) 2842:<div aria-label=\"May 16, 2025 Prices on this day are above average\">16</div>\n",
      "(+) 2844:<div aria-label=\"May 17, 2025 Prices on this day are around average\">17</div>\n",
      "(+) 2846:<div aria-label=\"May 18, 2025 Prices on this day are around average\">18</div>\n",
      "(+) 2848:<div aria-label=\"May 19, 2025 Prices on this day are around average\">19</div>\n",
      "(+) 2850:<div aria-label=\"May 20, 2025 Prices on this day are below average\">20</div>\n",
      "(+) 2852:<div aria-label=\"May 21, 2025 Prices on this day are around average\">21</div>\n",
      "(+) 2854:<div aria-label=\"May 22, 2025 Prices on this day are around average\">22</div>\n",
      "(+) 2856:<div aria-label=\"May 23, 2025 Prices on this day are around average\">23</div>\n",
      "(+) 2858:<div aria-label=\"May 24, 2025 Prices on this day are below average\">24</div>\n",
      "(+) 2860:<div aria-label=\"May 25, 2025 Prices on this day are below average\">25</div>\n",
      "(+) 2862:<div aria-label=\"May 26, 2025 Prices on this day are below average\">26</div>\n",
      "(+) 2864:<div aria-label=\"May 27, 2025 Prices on this day are below average\">27</div>\n",
      "(+) 2866:<div aria-label=\"May 28, 2025 Prices on this day are below average\">28</div>\n",
      "(+) 2868:<div aria-label=\"May 29, 2025 Prices on this day are around average\">29</div>\n",
      "(+) 2870:<div aria-label=\"May 30, 2025 Prices on this day are around average\">30</div>\n",
      "(+) 2872:<div aria-label=\"May 31, 2025 Prices on this day are around average\">31</div>\n",
      "(+) 2874:<div>$759+</div>\n",
      "(+) 2876:<div>$814+</div>\n",
      "(+) 2878:<div>$864+</div>\n",
      "(+) 2880:<div>Estimated prices for round-trip flights</div>\n",
      ", Url history: ['data:,', 'https://www.kayak.com/', 'https://www.kayak.com/', 'https://www.kayak.com/', 'https://www.kayak.com/', 'https://www.kayak.com/', 'https://www.kayak.com/']\n"
     ]
    }
   ],
   "source": [
    "print(text)"
   ]
  },
  {
   "cell_type": "code",
   "execution_count": null,
   "metadata": {},
   "outputs": [],
   "source": [
    "if output.user_input:\n",
    "    agent.add_user_prompt(output.user_input)\n",
    "if output.error:\n",
    "    text += f', Previous action error: {output.error}'\n",
    "action = agent.chat(text, store_conversation=f'{run_folder}/conversation_{i}.txt')"
   ]
  },
  {
   "cell_type": "code",
   "execution_count": null,
   "metadata": {},
   "outputs": [
    {
     "data": {
      "text/plain": [
       "Action(valuation_previous_goal=\"Successfully input 'Bali' in the destination field and suggestions appeared.\", goal=\"Select 'Denpasar, Bali, Indonesia' from destination suggestions.\", action='click', params=ActionParams(url=None, id=2706, text=None))"
      ]
     },
     "execution_count": 258,
     "metadata": {},
     "output_type": "execute_result"
    }
   ],
   "source": [
    "action"
   ]
  },
  {
   "cell_type": "code",
   "execution_count": null,
   "metadata": {},
   "outputs": [
    {
     "name": "stdout",
     "output_type": "stream",
     "text": [
      "{\n",
      "    \"valuation_previous_goal\": \"Successfully input 'Bali' in the destination field and suggestions appeared.\",\n",
      "    \"goal\": \"Select 'Denpasar, Bali, Indonesia' from destination suggestions.\",\n",
      "    \"action\": \"click\",\n",
      "    \"params\": {\n",
      "        \"url\": null,\n",
      "        \"id\": 2706,\n",
      "        \"text\": null\n",
      "    }\n",
      "}\n"
     ]
    }
   ],
   "source": [
    "output = actions.execute_action(action, current_state.selector_map)"
   ]
  },
  {
   "cell_type": "code",
   "execution_count": null,
   "metadata": {},
   "outputs": [],
   "source": [
    "if output.done:\n",
    "    print('Task completed')\n",
    "    driver.quit()"
   ]
  },
  {
   "cell_type": "code",
   "execution_count": null,
   "metadata": {},
   "outputs": [],
   "source": [
    "i += 1"
   ]
  },
  {
   "cell_type": "code",
   "execution_count": null,
   "metadata": {},
   "outputs": [],
   "source": [
    "previous_state = current_state"
   ]
  },
  {
   "cell_type": "markdown",
   "metadata": {},
   "source": [
    "---"
   ]
  },
  {
   "cell_type": "code",
   "execution_count": 268,
   "metadata": {},
   "outputs": [],
   "source": [
    "driver.quit()"
   ]
  },
  {
   "cell_type": "code",
   "execution_count": null,
   "metadata": {},
   "outputs": [],
   "source": []
  }
 ],
 "metadata": {
  "kernelspec": {
   "display_name": "scraping",
   "language": "python",
   "name": "python3"
  },
  "language_info": {
   "codemirror_mode": {
    "name": "ipython",
    "version": 3
   },
   "file_extension": ".py",
   "mimetype": "text/x-python",
   "name": "python",
   "nbconvert_exporter": "python",
   "pygments_lexer": "ipython3",
   "version": "3.10.16"
  }
 },
 "nbformat": 4,
 "nbformat_minor": 2
}
