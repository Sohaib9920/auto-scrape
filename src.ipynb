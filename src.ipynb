{
 "cells": [
  {
   "cell_type": "code",
   "execution_count": 647,
   "metadata": {},
   "outputs": [
    {
     "name": "stdout",
     "output_type": "stream",
     "text": [
      "The autoreload extension is already loaded. To reload it, use:\n",
      "  %reload_ext autoreload\n"
     ]
    }
   ],
   "source": [
    "%load_ext autoreload\n",
    "%autoreload 2"
   ]
  },
  {
   "cell_type": "code",
   "execution_count": 648,
   "metadata": {},
   "outputs": [],
   "source": [
    "from src.driver.service import DriverService\n",
    "from src.state_manager.state import StateManager\n",
    "from src.actions.browser_actions import BrowserActions\n",
    "from src.agent_interface.planing_agent import PlaningAgent"
   ]
  },
  {
   "cell_type": "code",
   "execution_count": 649,
   "metadata": {},
   "outputs": [],
   "source": [
    "task = 'Go to the url kayak.com and then find a flight from Zürich to Bali on 2025-04-25 with return on 2025-06-05 for 2 people.'"
   ]
  },
  {
   "cell_type": "code",
   "execution_count": 650,
   "metadata": {},
   "outputs": [],
   "source": [
    "# Start with blank.\n",
    "# let llm decide decide the search action from the set of possible actions\n",
    "# execute the action to search the daraz.pk\n",
    "# get that page\n",
    "# process the page to get index mappings of only interactable elements, texts and leaf elements containing text\n",
    "# give this to llm to select new action. \n",
    "# It will specify the element to click/input. you will use the index to get the location of that element and actually clicks it"
   ]
  },
  {
   "cell_type": "code",
   "execution_count": 651,
   "metadata": {},
   "outputs": [],
   "source": [
    "driver = DriverService().get_driver()\n",
    "state_manager = StateManager(driver)\n",
    "actions = BrowserActions(driver)"
   ]
  },
  {
   "cell_type": "code",
   "execution_count": 652,
   "metadata": {},
   "outputs": [],
   "source": [
    "agent = PlaningAgent(task=task, default_actions=actions.get_default_actions(), model=\"gpt-4o\")"
   ]
  },
  {
   "cell_type": "code",
   "execution_count": 653,
   "metadata": {},
   "outputs": [],
   "source": [
    "url_history = []"
   ]
  },
  {
   "cell_type": "markdown",
   "metadata": {},
   "source": [
    "---"
   ]
  },
  {
   "cell_type": "code",
   "execution_count": 852,
   "metadata": {},
   "outputs": [],
   "source": [
    "current_state = state_manager.get_current_state()"
   ]
  },
  {
   "cell_type": "code",
   "execution_count": 853,
   "metadata": {},
   "outputs": [],
   "source": [
    "url_history.append(driver.current_url)\n",
    "text = f'Elements: {current_state.interactable_elements}, Url history: {url_history}'"
   ]
  },
  {
   "cell_type": "code",
   "execution_count": 854,
   "metadata": {},
   "outputs": [
    {
     "name": "stdout",
     "output_type": "stream",
     "text": [
      "Elements: 2:<div aria-label=\"Open main navigation\"></div>\n",
      "3:<a href=\"/\" aria-label=\"Go to the kayak homepage\"></a>\n",
      "4:<div aria-label=\"Open Trips drawer\"></div>\n",
      "5:<div>Sign in</div>\n",
      "6:<span>Sign in</span>\n",
      "372:<div aria-haspopup=\"listbox\" aria-expanded=\"false\" aria-label=\"Trip type Round-trip\">Round-trip</div>\n",
      "373:<span>Round-trip</span>\n",
      "375:<div>0 bags</div>\n",
      "376:<span>0 bags</span>\n",
      "378:<div>ISB</div>\n",
      "380:<div aria-label=\"Remove value\"></div>\n",
      "381:<div>ZRH</div>\n",
      "383:<div aria-label=\"Remove value\"></div>\n",
      "384:<input aria-readonly=\"false\" aria-label=\"Flight origin input\" aria-autocomplete=\"list\" aria-haspopup=\"listbox\" aria-controls=\"flight-origin-smarty-input-list\"></input>\n",
      "385:<div aria-label=\"Swap departure airport and destination airport\"></div>\n",
      "386:<div>Denpasar, Bali, Indonesia (DPS)</div>\n",
      "388:<div aria-label=\"Remove value\"></div>\n",
      "390:<div aria-label=\"Departure\">Fri 4/25</div>\n",
      "391:<span>Fri 4/25</span>\n",
      "393:<div aria-hidden=\"true\">–</div>\n",
      "395:<div aria-label=\"Return\">Thu 6/5</div>\n",
      "396:<span>Thu 6/5</span>\n",
      "398:<div aria-haspopup=\"listbox\" aria-expanded=\"true\" aria-label=\"Trip type\">2 travelers, Economy</div>\n",
      "399:<span>2 travelers, Economy</span>\n",
      "401:<button aria-disabled=\"false\" aria-label=\"Search\"></button>\n",
      "402:<span>Save when you compare</span>\n",
      "404:<span>More deals. More sites. One search</span>\n",
      "408:<div>41,000,000+</div>\n",
      "410:<span>searches this week</span>\n",
      "412:<span>Travelers love us</span>\n",
      "414:<span>1M+ ratings on our app</span>\n",
      "2484:<div>Travelers</div>\n",
      "2486:Adults\n",
      "2487:<span>18-64</span>\n",
      "2489:<button aria-label=\"Decrement\" aria-disabled=\"false\"></button>\n",
      "2490:<input aria-valuenow=\"2\" aria-valuemin=\"0\" aria-valuemax=\"9\" aria-label=\"Adults\"></input>\n",
      "2491:<button aria-label=\"Increment\" aria-disabled=\"false\"></button>\n",
      "2492:Students\n",
      "2493:<span>over 18</span>\n",
      "2495:<input aria-valuenow=\"0\" aria-valuemin=\"0\" aria-valuemax=\"7\" aria-label=\"Students\"></input>\n",
      "2496:<button aria-label=\"Increment\" aria-disabled=\"false\"></button>\n",
      "2497:Seniors\n",
      "2498:<span>over 65</span>\n",
      "2500:<input aria-valuenow=\"0\" aria-valuemin=\"0\" aria-valuemax=\"7\" aria-label=\"Seniors\"></input>\n",
      "2501:<button aria-label=\"Increment\" aria-disabled=\"false\"></button>\n",
      "2502:Youths\n",
      "2503:<span>12-17</span>\n",
      "2505:<input aria-valuenow=\"0\" aria-valuemin=\"0\" aria-valuemax=\"7\" aria-label=\"Youths\"></input>\n",
      "2506:<button aria-label=\"Increment\" aria-disabled=\"false\"></button>\n",
      "2507:Children\n",
      "2508:<span>2-11</span>\n",
      "2510:<input aria-valuenow=\"0\" aria-valuemin=\"0\" aria-valuemax=\"7\" aria-label=\"Children\"></input>\n",
      "2511:<button aria-label=\"Increment\" aria-disabled=\"false\"></button>\n",
      "2512:Toddlers in own seat\n",
      "2513:<span>under 2</span>\n",
      "2515:<input aria-valuenow=\"0\" aria-valuemin=\"0\" aria-valuemax=\"7\" aria-label=\"Toddlers in own seat\"></input>\n",
      "2516:<button aria-label=\"Increment\" aria-disabled=\"false\"></button>\n",
      "2517:Infants on lap\n",
      "2518:<span>under 2</span>\n",
      "2520:<input aria-valuenow=\"0\" aria-valuemin=\"0\" aria-valuemax=\"2\" aria-label=\"Infants on lap\"></input>\n",
      "2521:<button aria-label=\"Increment\" aria-disabled=\"false\"></button>\n",
      "2522:<div>Cabin Class</div>\n",
      "2525:<label aria-label=\"Economy\" aria-checked=\"true\">Economy</label>\n",
      "2528:<label aria-label=\"Premium Economy\" aria-checked=\"false\">Premium Economy</label>\n",
      "2531:<label aria-label=\"Business\" aria-checked=\"false\">Business</label>\n",
      "2534:<label aria-label=\"First\" aria-checked=\"false\">First</label>\n",
      ", Url history: ['data:,', 'https://www.kayak.com/errors/404?url=/Flights-from-Z%C3%BCrich-to-Bali.ZRH.DPS.cl.ksp', 'https://www.kayak.com/flights', 'https://www.kayak.com/flights', 'https://www.kayak.com/flights', 'https://www.kayak.com/flights', 'https://www.kayak.com/flights', 'https://www.kayak.com/flights', 'https://www.kayak.com/flights', 'https://www.kayak.com/flights', 'https://www.kayak.com/flights', 'https://www.kayak.com/flights', 'https://www.kayak.com/flights', 'https://www.kayak.com/flights', 'https://www.kayak.com/flights', 'https://www.kayak.com/flights', 'https://www.kayak.com/flights', 'https://www.kayak.com/flights', 'https://www.kayak.com/flights', 'https://www.kayak.com/flights', 'https://www.kayak.com/flights', 'https://www.kayak.com/flights', 'https://www.kayak.com/flights', 'https://www.kayak.com/flights', 'https://www.kayak.com/flights', 'https://www.kayak.com/flights', 'https://www.kayak.com/flights']\n"
     ]
    }
   ],
   "source": [
    "print(text)"
   ]
  },
  {
   "cell_type": "code",
   "execution_count": 855,
   "metadata": {},
   "outputs": [
    {
     "name": "stdout",
     "output_type": "stream",
     "text": [
      "Total prompt cost:  $0.01 Total tokens:  2,390\n"
     ]
    }
   ],
   "source": [
    "action = agent.chat(text)"
   ]
  },
  {
   "cell_type": "code",
   "execution_count": 856,
   "metadata": {},
   "outputs": [
    {
     "name": "stdout",
     "output_type": "stream",
     "text": [
      "system:\n",
      "\n",
      "You are an AI agent that helps users navigate websites and perform actions.\n",
      "\n",
      "## Task:\n",
      "Go to the url kayak.com and then find a flight from Zürich to Bali on 2025-04-25 with return on 2025-06-05 for 2 people.\n",
      "\n",
      "## Available actions:\n",
      "At each step, you must choose an action from the predefined set of actions in the format:  \n",
      "{name: arguments_definition}\n",
      "The available actions are:  \n",
      "{'search_google': 'text: string', 'go_to_url': 'url: string', 'done': '', 'go_back': '', 'click': 'id: int', 'input': 'id: int, text: string', 'nothing': ''}  \n",
      "\n",
      "## Input:\n",
      "The page content will be provided as numbered elements like this:\n",
      "0:<button>Click me</button>\n",
      "1:<a href=\"/test\">Link text</a>\n",
      "2:Some visible text content \n",
      "\n",
      "Additionally you get sequence of previous actions.\n",
      "\n",
      "## Instructions:\n",
      "- Provide your next action based on the available actions, previous actions and visible elements. \n",
      "- Make sure to follow action's argument_definition\n",
      "- Each element has a unique index that can be used to interact with it. To interact with elements, use their index number in the click() or input() actions. Make 100% sure that the index is ALWAYS present if you use the click() or input() actions.\n",
      "- Validate if previous goal was successfully achieved without violating any task requirements. If it wasn't, take the necessary next action to correct it or move closer to completing the goal.\n",
      "- Do not repeat the same action again and again. If you get stuck, try to find a new element that can help you achieve your goal or if persistent, go back or reload the page.\n",
      "- Do not interact with ADS.\n",
      "- Respond with a valid JSON object containing the action and any required parameters and your current goal of this action.\n",
      "\n",
      "## Response format:\n",
      "\n",
      "{\"action\": \"action_name\", \"params\": {\"param_name\": \"param_value\"}, \"goal\": \"short description what you want to achieve\", \"valuation_previous_goal\": \"Success if completed, else short sentence of why not successful.\"}\n",
      "\n",
      "\n",
      "\n",
      "\n",
      "user:\n",
      "... execute action ...\n",
      "\n",
      "assistant:\n",
      "{\"action\":\"click\",\"params\":{\"url\":null,\"id\":2606,\"text\":null},\"goal\":\"Select June 5, 2025 as the return date\",\"valuation_previous_goal\":\"Still need to select a return date, now navigating correctly selecting intended day.\"}\n",
      "\n",
      "user:\n",
      "... execute action ...\n",
      "\n",
      "assistant:\n",
      "{\"action\":\"click\",\"params\":{\"url\":null,\"id\":2490,\"text\":null},\"goal\":\"Increase the number of adults to 2\",\"valuation_previous_goal\":\"Selected June 5, 2025 successfully as the return date. Next objective is configuring the travelers for the trip.\"}\n",
      "\n",
      "user:\n",
      "... execute action ...\n",
      "\n",
      "assistant:\n",
      "{\"action\":\"click\",\"params\":{\"url\":null,\"id\":2491,\"text\":null},\"goal\":\"Increase the number of adults to 2 travelers\",\"valuation_previous_goal\":\"The return date was successfully selected. The next step is setting the correct number of travelers to 2.\"}\n",
      "\n",
      "user:\n",
      "... execute action ...\n",
      "\n",
      "assistant:\n",
      "{\"action\":\"click\",\"params\":{\"url\":null,\"id\":2491,\"text\":null},\"goal\":\"Increase the number of adults to 2 travelers\",\"valuation_previous_goal\":\"Was not successful in increasing the number of adults. Attempting again to properly add adults to the count.\"}\n",
      "\n",
      "user:\n",
      "... execute action ...\n",
      "\n",
      "assistant:\n",
      "{\"action\":\"click\",\"params\":{\"url\":null,\"id\":2491,\"text\":null},\"goal\":\"Increase number of adults from 4 to 2\",\"valuation_previous_goal\":\"Was not successful increasing adults to exactly 2. Re-attempting to accurately adjust traveler count.\"}\n",
      "\n",
      "user:\n",
      "... execute action ...\n",
      "\n",
      "assistant:\n",
      "{\"action\":\"click\",\"params\":{\"url\":null,\"id\":2491,\"text\":null},\"goal\":\"Successfully increase the number of adults to 2 travelers\",\"valuation_previous_goal\":\"Attempts to adjust adults were unsuccessful as it remains at 5. Need further accurate interaction to reach desired count.\"}\n",
      "\n",
      "user:\n",
      "... execute action ...\n",
      "\n",
      "assistant:\n",
      "{\"action\":\"click\",\"params\":{\"url\":null,\"id\":2489,\"text\":null},\"goal\":\"Decrease the number of adults to 2\",\"valuation_previous_goal\":\"Analyzed current situation displaying 6 travelers overall pursuit. Current goal is reducing adult count from 6 to right value of 2.\"}\n",
      "\n",
      "user:\n",
      "... execute action ...\n",
      "\n",
      "assistant:\n",
      "{\"action\":\"click\",\"params\":{\"url\":null,\"id\":2489,\"text\":null},\"goal\":\"Decrease the number of adults to 2\",\"valuation_previous_goal\":\"Efforts to adjust travelers were not productive as retains original number. Ensuring again access to diminishing presence of adult travelers purely.\"}\n",
      "\n",
      "user:\n",
      "... execute action ...\n",
      "\n",
      "assistant:\n",
      "{\"action\":\"click\",\"params\":{\"url\":null,\"id\":2489,\"text\":null},\"goal\":\"Reduce the number of adults to exactly 2 for the travelers\",\"valuation_previous_goal\":\"The number of adults needs adjustment, failed to decrement earlier. Will reduce further.\"}\n",
      "\n",
      "user:\n",
      "... execute action ...\n",
      "\n",
      "assistant:\n",
      "{\"action\":\"click\",\"params\":{\"url\":null,\"id\":2489,\"text\":null},\"goal\":\"Decrease the number of adults to 2\",\"valuation_previous_goal\":\"The number of adults needs further adjustment, reducing it currently to meet target age-based filtering.\"}\n",
      "\n",
      "user:\n",
      "Elements: 2:<div aria-label=\"Open main navigation\"></div>\n",
      "3:<a href=\"/\" aria-label=\"Go to the kayak homepage\"></a>\n",
      "4:<div aria-label=\"Open Trips drawer\"></div>\n",
      "5:<div>Sign in</div>\n",
      "6:<span>Sign in</span>\n",
      "372:<div aria-haspopup=\"listbox\" aria-expanded=\"false\" aria-label=\"Trip type Round-trip\">Round-trip</div>\n",
      "373:<span>Round-trip</span>\n",
      "375:<div>0 bags</div>\n",
      "376:<span>0 bags</span>\n",
      "378:<div>ISB</div>\n",
      "380:<div aria-label=\"Remove value\"></div>\n",
      "381:<div>ZRH</div>\n",
      "383:<div aria-label=\"Remove value\"></div>\n",
      "384:<input aria-readonly=\"false\" aria-label=\"Flight origin input\" aria-autocomplete=\"list\" aria-haspopup=\"listbox\" aria-controls=\"flight-origin-smarty-input-list\"></input>\n",
      "385:<div aria-label=\"Swap departure airport and destination airport\"></div>\n",
      "386:<div>Denpasar, Bali, Indonesia (DPS)</div>\n",
      "388:<div aria-label=\"Remove value\"></div>\n",
      "390:<div aria-label=\"Departure\">Fri 4/25</div>\n",
      "391:<span>Fri 4/25</span>\n",
      "393:<div aria-hidden=\"true\">–</div>\n",
      "395:<div aria-label=\"Return\">Thu 6/5</div>\n",
      "396:<span>Thu 6/5</span>\n",
      "398:<div aria-haspopup=\"listbox\" aria-expanded=\"true\" aria-label=\"Trip type\">2 travelers, Economy</div>\n",
      "399:<span>2 travelers, Economy</span>\n",
      "401:<button aria-disabled=\"false\" aria-label=\"Search\"></button>\n",
      "402:<span>Save when you compare</span>\n",
      "404:<span>More deals. More sites. One search</span>\n",
      "408:<div>41,000,000+</div>\n",
      "410:<span>searches this week</span>\n",
      "412:<span>Travelers love us</span>\n",
      "414:<span>1M+ ratings on our app</span>\n",
      "2484:<div>Travelers</div>\n",
      "2486:Adults\n",
      "2487:<span>18-64</span>\n",
      "2489:<button aria-label=\"Decrement\" aria-disabled=\"false\"></button>\n",
      "2490:<input aria-valuenow=\"2\" aria-valuemin=\"0\" aria-valuemax=\"9\" aria-label=\"Adults\"></input>\n",
      "2491:<button aria-label=\"Increment\" aria-disabled=\"false\"></button>\n",
      "2492:Students\n",
      "2493:<span>over 18</span>\n",
      "2495:<input aria-valuenow=\"0\" aria-valuemin=\"0\" aria-valuemax=\"7\" aria-label=\"Students\"></input>\n",
      "2496:<button aria-label=\"Increment\" aria-disabled=\"false\"></button>\n",
      "2497:Seniors\n",
      "2498:<span>over 65</span>\n",
      "2500:<input aria-valuenow=\"0\" aria-valuemin=\"0\" aria-valuemax=\"7\" aria-label=\"Seniors\"></input>\n",
      "2501:<button aria-label=\"Increment\" aria-disabled=\"false\"></button>\n",
      "2502:Youths\n",
      "2503:<span>12-17</span>\n",
      "2505:<input aria-valuenow=\"0\" aria-valuemin=\"0\" aria-valuemax=\"7\" aria-label=\"Youths\"></input>\n",
      "2506:<button aria-label=\"Increment\" aria-disabled=\"false\"></button>\n",
      "2507:Children\n",
      "2508:<span>2-11</span>\n",
      "2510:<input aria-valuenow=\"0\" aria-valuemin=\"0\" aria-valuemax=\"7\" aria-label=\"Children\"></input>\n",
      "2511:<button aria-label=\"Increment\" aria-disabled=\"false\"></button>\n",
      "2512:Toddlers in own seat\n",
      "2513:<span>under 2</span>\n",
      "2515:<input aria-valuenow=\"0\" aria-valuemin=\"0\" aria-valuemax=\"7\" aria-label=\"Toddlers in own seat\"></input>\n",
      "2516:<button aria-label=\"Increment\" aria-disabled=\"false\"></button>\n",
      "2517:Infants on lap\n",
      "2518:<span>under 2</span>\n",
      "2520:<input aria-valuenow=\"0\" aria-valuemin=\"0\" aria-valuemax=\"2\" aria-label=\"Infants on lap\"></input>\n",
      "2521:<button aria-label=\"Increment\" aria-disabled=\"false\"></button>\n",
      "2522:<div>Cabin Class</div>\n",
      "2525:<label aria-label=\"Economy\" aria-checked=\"true\">Economy</label>\n",
      "2528:<label aria-label=\"Premium Economy\" aria-checked=\"false\">Premium Economy</label>\n",
      "2531:<label aria-label=\"Business\" aria-checked=\"false\">Business</label>\n",
      "2534:<label aria-label=\"First\" aria-checked=\"false\">First</label>\n",
      ", Url history: ['data:,', 'https://www.kayak.com/errors/404?url=/Flights-from-Z%C3%BCrich-to-Bali.ZRH.DPS.cl.ksp', 'https://www.kayak.com/flights', 'https://www.kayak.com/flights', 'https://www.kayak.com/flights', 'https://www.kayak.com/flights', 'https://www.kayak.com/flights', 'https://www.kayak.com/flights', 'https://www.kayak.com/flights', 'https://www.kayak.com/flights', 'https://www.kayak.com/flights', 'https://www.kayak.com/flights', 'https://www.kayak.com/flights', 'https://www.kayak.com/flights', 'https://www.kayak.com/flights', 'https://www.kayak.com/flights', 'https://www.kayak.com/flights', 'https://www.kayak.com/flights', 'https://www.kayak.com/flights', 'https://www.kayak.com/flights', 'https://www.kayak.com/flights', 'https://www.kayak.com/flights', 'https://www.kayak.com/flights', 'https://www.kayak.com/flights', 'https://www.kayak.com/flights', 'https://www.kayak.com/flights', 'https://www.kayak.com/flights']\n"
     ]
    }
   ],
   "source": [
    "input_ = \"\\n\\n\".join([f\"{msg['role']}:\\n{msg['content']}\" for msg in agent.input_messages])\n",
    "print(input_)"
   ]
  },
  {
   "cell_type": "code",
   "execution_count": 859,
   "metadata": {},
   "outputs": [
    {
     "data": {
      "text/plain": [
       "Action(action='done', params=None, goal='Complete and finalize the input as was successfully set to target 2 adults for travel', valuation_previous_goal='Success! The number of adults is now correctly set to 2 for the flight search.')"
      ]
     },
     "execution_count": 859,
     "metadata": {},
     "output_type": "execute_result"
    }
   ],
   "source": [
    "action"
   ]
  },
  {
   "cell_type": "code",
   "execution_count": 860,
   "metadata": {},
   "outputs": [
    {
     "name": "stdout",
     "output_type": "stream",
     "text": [
      "{\n",
      "    \"action\": \"done\",\n",
      "    \"params\": null,\n",
      "    \"goal\": \"Complete and finalize the input as was successfully set to target 2 adults for travel\",\n",
      "    \"valuation_previous_goal\": \"Success! The number of adults is now correctly set to 2 for the flight search.\"\n",
      "}\n"
     ]
    }
   ],
   "source": [
    "done = actions.execute_action(action, current_state.selector_map)"
   ]
  },
  {
   "cell_type": "code",
   "execution_count": 837,
   "metadata": {},
   "outputs": [],
   "source": [
    "done"
   ]
  },
  {
   "cell_type": "markdown",
   "metadata": {},
   "source": [
    "---"
   ]
  },
  {
   "cell_type": "code",
   "execution_count": 861,
   "metadata": {},
   "outputs": [],
   "source": [
    "driver.quit()"
   ]
  },
  {
   "cell_type": "code",
   "execution_count": null,
   "metadata": {},
   "outputs": [],
   "source": []
  }
 ],
 "metadata": {
  "kernelspec": {
   "display_name": "scraping",
   "language": "python",
   "name": "python3"
  },
  "language_info": {
   "codemirror_mode": {
    "name": "ipython",
    "version": 3
   },
   "file_extension": ".py",
   "mimetype": "text/x-python",
   "name": "python",
   "nbconvert_exporter": "python",
   "pygments_lexer": "ipython3",
   "version": "3.10.16"
  }
 },
 "nbformat": 4,
 "nbformat_minor": 2
}
