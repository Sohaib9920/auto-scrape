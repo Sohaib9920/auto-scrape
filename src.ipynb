{
 "cells": [
  {
   "cell_type": "code",
   "execution_count": 1,
   "metadata": {},
   "outputs": [],
   "source": [
    "%load_ext autoreload\n",
    "%autoreload 2"
   ]
  },
  {
   "cell_type": "code",
   "execution_count": 130,
   "metadata": {},
   "outputs": [],
   "source": [
    "from src.driver.service import DriverService\n",
    "from src.state_manager.state import StateManager\n",
    "from src.actions.browser_actions import BrowserActions\n",
    "from src.agent_interface.planing_agent import PlaningAgent\n",
    "from src.actions.browser_actions import ActionResult\n",
    "from src.state_manager.utils import save_formatted_html\n",
    "\n",
    "import os\n",
    "from datetime import datetime"
   ]
  },
  {
   "cell_type": "code",
   "execution_count": 131,
   "metadata": {},
   "outputs": [],
   "source": [
    "driver = DriverService().get_driver()\n",
    "state_manager = StateManager(driver)\n",
    "actions = BrowserActions(driver)"
   ]
  },
  {
   "cell_type": "code",
   "execution_count": 132,
   "metadata": {},
   "outputs": [],
   "source": [
    "timestamp = datetime.now().strftime('%Y%m%d_%H%M%S')\n",
    "run_folder = f'temp/run_{timestamp}'\n",
    "if not os.path.exists(run_folder):\n",
    "    os.makedirs(run_folder)"
   ]
  },
  {
   "cell_type": "code",
   "execution_count": 133,
   "metadata": {},
   "outputs": [],
   "source": [
    "task = 'Go to kayak.com and find a flight from Zürich to (ask the user for the destination) on 2025-04-25 with return on 2025-06-05 for 2 people.'"
   ]
  },
  {
   "cell_type": "code",
   "execution_count": 134,
   "metadata": {},
   "outputs": [
    {
     "name": "stdout",
     "output_type": "stream",
     "text": [
      "{'ask_user': 'text: string', 'send_user_text': 'text: string', 'search_google': 'text: string', 'go_to_url': 'url: string', 'done': '', 'go_back': '', 'click': 'id: int', 'input': 'id: int, text: string', 'nothing': ''}\n"
     ]
    }
   ],
   "source": [
    "print(actions.get_default_actions())"
   ]
  },
  {
   "cell_type": "code",
   "execution_count": 135,
   "metadata": {},
   "outputs": [],
   "source": [
    "agent = PlaningAgent(default_actions=actions.get_default_actions(), model=\"gpt-4o\")"
   ]
  },
  {
   "cell_type": "code",
   "execution_count": 136,
   "metadata": {},
   "outputs": [],
   "source": [
    "agent.add_user_prompt(f'Your task is: {task}', after_system=True)"
   ]
  },
  {
   "cell_type": "code",
   "execution_count": 137,
   "metadata": {},
   "outputs": [],
   "source": [
    "url_history = []\n",
    "output = ActionResult()"
   ]
  },
  {
   "cell_type": "code",
   "execution_count": 138,
   "metadata": {},
   "outputs": [],
   "source": [
    "i = 0"
   ]
  },
  {
   "cell_type": "code",
   "execution_count": 139,
   "metadata": {},
   "outputs": [],
   "source": [
    "previous_state = None"
   ]
  },
  {
   "cell_type": "markdown",
   "metadata": {},
   "source": [
    "### Repeat the following block!"
   ]
  },
  {
   "cell_type": "markdown",
   "metadata": {},
   "source": [
    "---"
   ]
  },
  {
   "cell_type": "code",
   "execution_count": 209,
   "metadata": {},
   "outputs": [],
   "source": [
    "current_state = state_manager.get_current_state(run_folder=run_folder, step=i)"
   ]
  },
  {
   "cell_type": "code",
   "execution_count": 210,
   "metadata": {},
   "outputs": [],
   "source": [
    "state_manager.add_change_info(current_state=current_state, previous_state=previous_state)"
   ]
  },
  {
   "cell_type": "code",
   "execution_count": 211,
   "metadata": {},
   "outputs": [],
   "source": [
    "save_formatted_html(driver.page_source, f'{run_folder}/html_{i}.html')"
   ]
  },
  {
   "cell_type": "code",
   "execution_count": 212,
   "metadata": {},
   "outputs": [],
   "source": [
    "url_history.append(driver.current_url)"
   ]
  },
  {
   "cell_type": "code",
   "execution_count": 213,
   "metadata": {},
   "outputs": [],
   "source": [
    "elem_text = current_state.dom_content.dom_items_to_string()"
   ]
  },
  {
   "cell_type": "code",
   "execution_count": 214,
   "metadata": {},
   "outputs": [],
   "source": [
    "text = f'Elements:\\n{elem_text}\\nUrl history: {url_history}'"
   ]
  },
  {
   "cell_type": "code",
   "execution_count": 215,
   "metadata": {},
   "outputs": [
    {
     "name": "stdout",
     "output_type": "stream",
     "text": [
      "Elements:\n",
      "      0:<div role=\"button\" aria-label=\"Open main navigation\"></div>\n",
      "      1:<a href=\"/\" aria-label=\"Go to the kayak homepage\"></a>\n",
      "      2:<div role=\"button\" aria-label=\"Open Trips drawer\"></div>\n",
      "      3:<div role=\"button\">Sign in</div>\n",
      "      _:Flights\n",
      "      _:Stays\n",
      "      _:Cars\n",
      "      _:Packages\n",
      "      _:KAYAK.ai\n",
      "      _:BETA\n",
      "      _:Plan your trip\n",
      "      _:Explore\n",
      "      _:Flight Tracker\n",
      "      _:Travel tips\n",
      "      _:KAYAK for Business\n",
      "      _:NEW\n",
      "      _:Trips\n",
      "      _:English\n",
      "      _:$\n",
      "      _:United States dollar\n",
      "      _:Feedback\n",
      "     21:<div role=\"combobox\" aria-controls=\"flight-trip-type-dropdown\" aria-haspopup=\"listbox\" aria-expanded=\"false\" aria-label=\"Trip type Round-trip\">Round-trip</div>\n",
      "     22:<div role=\"button\">0 bags</div>\n",
      "     23:<div role=\"list\">Islamabad (ISB)</div>\n",
      "     24:\t<div role=\"listitem\">Islamabad (ISB)</div>\n",
      "     25:\t\t<div role=\"button\" aria-label=\"Remove value\"></div>\n",
      "     26:<input type=\"text\" aria-readonly=\"false\" placeholder=\"From?\" aria-label=\"Flight origin input\" aria-autocomplete=\"list\" aria-haspopup=\"listbox\" data-test-origin=\"ISB\" value=\"Zürich\" aria-controls=\"flight-origin-smarty-input-list\"></input>\n",
      "     27:<div role=\"button\" aria-label=\"Swap departure airport and destination airport\"></div>\n",
      "     28:<input type=\"text\" aria-readonly=\"false\" placeholder=\"To?\" aria-label=\"Flight destination input\" aria-autocomplete=\"list\" aria-haspopup=\"listbox\" data-test-destination=\"\" value=\"Bali\" aria-controls=\"flight-destination-smarty-input-list\"></input>\n",
      "     29:<div role=\"button\" aria-label=\"Departure\">Departure</div>\n",
      "     30:<div role=\"button\" aria-label=\"Return\">Return</div>\n",
      "     31:<div role=\"combobox\" aria-controls=\"flight-horizontal-search-form-travelers-dropdown\" aria-haspopup=\"listbox\" aria-expanded=\"false\" aria-label=\"Trip type\">1 adult, Economy</div>\n",
      "     32:<button role=\"button\" aria-disabled=\"false\" type=\"submit\" aria-label=\"Search\"></button>\n",
      "      _:Save when you compare\n",
      "      _:More deals. More sites. One search\n",
      "      _:41,000,000+\n",
      "      _:searches this week\n",
      "      _:Travelers love us\n",
      "      _:1M+ ratings on our app\n",
      "     39:<ul id=\"flight-origin-smarty-input-list\" role=\"listbox\" aria-haspopup=\"true\">Zurich, Switzerland | ZRH | Zurich</ul>\n",
      "     40:\t<li role=\"option\" aria-label=\"Zurich, Switzerland\" aria-selected=\"false\" id=\"ZRH_ap_Zurich-Zurich-Switzerland-ZRH\">Zurich, Switzerland | ZRH | Zurich</li>\n",
      "(+)  41:<ul id=\"flight-destination-smarty-input-list\" role=\"listbox\" aria-haspopup=\"true\">Denpasar, Bali, Indonesia | DPS | Bali Ngurah Rai | Balikpapan, East Kalima...nggan | Krakow, Poland | KRK | J. Paul II Balice | Bali, Indonesia | Region</ul>\n",
      "(+)  42:\t<li role=\"option\" aria-label=\"Denpasar, Bali, Indonesia\" aria-selected=\"false\" id=\"DPS_ap_Bali-Ngurah-Rai-Denpasar-Bali-Indonesia-DPS\">Denpasar, Bali, Indonesia | DPS | Bali Ngurah Rai</li>\n",
      "(+)  43:\t<li role=\"option\" aria-label=\"Balikpapan, East Kalimantan, Indonesia\" aria-selected=\"false\" id=\"BPN_ap_Sepinnggan-Balikpapan-East-Kalimantan-Indon\">Balikpapan, East Kalimantan, Indonesia | BPN | Sepinnggan</li>\n",
      "(+)  44:\t<li role=\"option\" aria-label=\"Krakow, Poland\" aria-selected=\"false\" id=\"KRK_ap_J.-Paul-II-Balice-Krakow-Poland-KRK\">Krakow, Poland | KRK | J. Paul II Balice</li>\n",
      "(+)  45:\t<li role=\"option\" aria-label=\"Bali, Indonesia\" aria-selected=\"false\" id=\"94_reg_Bali-Indonesia\">Bali, Indonesia | Region</li>\n",
      "\n",
      "Url history: ['data:,', 'data:,', 'https://www.kayak.com/flights', 'https://www.kayak.com/flights', 'https://www.kayak.com/flights', 'https://www.kayak.com/flights']\n"
     ]
    }
   ],
   "source": [
    "print(text)"
   ]
  },
  {
   "cell_type": "code",
   "execution_count": 216,
   "metadata": {},
   "outputs": [
    {
     "name": "stdout",
     "output_type": "stream",
     "text": [
      "Text $0.0053 + Image $0.0002 = $0.0060 for 2180  tokens\n"
     ]
    }
   ],
   "source": [
    "if output.user_input:\n",
    "    agent.add_user_prompt(output.user_input)\n",
    "if output.error:\n",
    "    text += f', Previous action error: {output.error}'\n",
    "action = agent.chat(\n",
    "    text, \n",
    "    store_conversation=f'{run_folder}/conversation_{i}.txt',\n",
    "    image=current_state.screenshot\n",
    ")"
   ]
  },
  {
   "cell_type": "code",
   "execution_count": 217,
   "metadata": {},
   "outputs": [
    {
     "data": {
      "text/plain": [
       "Action(valuation_previous_goal='Failed to select the Bali destination option.', goal=\"Select 'Denpasar, Bali, Indonesia' as the destination.\", action='click', params=ActionParams(url=None, id=42, text=None))"
      ]
     },
     "execution_count": 217,
     "metadata": {},
     "output_type": "execute_result"
    }
   ],
   "source": [
    "action"
   ]
  },
  {
   "cell_type": "code",
   "execution_count": 218,
   "metadata": {},
   "outputs": [
    {
     "name": "stdout",
     "output_type": "stream",
     "text": [
      "{\n",
      "    \"valuation_previous_goal\": \"Failed to select the Bali destination option.\",\n",
      "    \"goal\": \"Select 'Denpasar, Bali, Indonesia' as the destination.\",\n",
      "    \"action\": \"click\",\n",
      "    \"params\": {\n",
      "        \"url\": null,\n",
      "        \"id\": 42,\n",
      "        \"text\": null\n",
      "    }\n",
      "}\n"
     ]
    }
   ],
   "source": [
    "output = actions.execute_action(action, current_state.dom_content.selector_map)"
   ]
  },
  {
   "cell_type": "code",
   "execution_count": 219,
   "metadata": {},
   "outputs": [],
   "source": [
    "if output.done:\n",
    "    print('Task completed')\n",
    "    driver.quit()"
   ]
  },
  {
   "cell_type": "code",
   "execution_count": 220,
   "metadata": {},
   "outputs": [],
   "source": [
    "i += 1"
   ]
  },
  {
   "cell_type": "code",
   "execution_count": 221,
   "metadata": {},
   "outputs": [],
   "source": [
    "previous_state = current_state"
   ]
  },
  {
   "cell_type": "markdown",
   "metadata": {},
   "source": [
    "---"
   ]
  },
  {
   "cell_type": "code",
   "execution_count": 222,
   "metadata": {},
   "outputs": [],
   "source": [
    "driver.quit()"
   ]
  },
  {
   "cell_type": "code",
   "execution_count": null,
   "metadata": {},
   "outputs": [],
   "source": []
  }
 ],
 "metadata": {
  "kernelspec": {
   "display_name": "scraping",
   "language": "python",
   "name": "python3"
  },
  "language_info": {
   "codemirror_mode": {
    "name": "ipython",
    "version": 3
   },
   "file_extension": ".py",
   "mimetype": "text/x-python",
   "name": "python",
   "nbconvert_exporter": "python",
   "pygments_lexer": "ipython3",
   "version": "3.10.16"
  }
 },
 "nbformat": 4,
 "nbformat_minor": 2
}
