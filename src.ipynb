{
 "cells": [
  {
   "cell_type": "code",
   "execution_count": 1,
   "metadata": {},
   "outputs": [],
   "source": [
    "%load_ext autoreload\n",
    "%autoreload 2"
   ]
  },
  {
   "cell_type": "code",
   "execution_count": 67,
   "metadata": {},
   "outputs": [],
   "source": [
    "from src.driver.service import DriverService\n",
    "from src.state_manager.state import StateManager\n",
    "from src.actions.browser_actions import BrowserActions\n",
    "from src.agent_interface.planing_agent import PlaningAgent\n",
    "from src.actions.browser_actions import ActionResult\n",
    "from src.state_manager.utils import save_formatted_html\n",
    "\n",
    "import os\n",
    "from datetime import datetime"
   ]
  },
  {
   "cell_type": "code",
   "execution_count": 68,
   "metadata": {},
   "outputs": [],
   "source": [
    "driver = DriverService().get_driver()\n",
    "state_manager = StateManager(driver)\n",
    "actions = BrowserActions(driver)"
   ]
  },
  {
   "cell_type": "code",
   "execution_count": 69,
   "metadata": {},
   "outputs": [],
   "source": [
    "timestamp = datetime.now().strftime('%Y%m%d_%H%M%S')\n",
    "run_folder = f'temp/run_{timestamp}'\n",
    "if not os.path.exists(run_folder):\n",
    "    os.makedirs(run_folder)"
   ]
  },
  {
   "cell_type": "code",
   "execution_count": 70,
   "metadata": {},
   "outputs": [],
   "source": [
    "task = 'Go to kayak.com and find a flight from Zürich to (ask the user for the destination) on 2025-04-25 with return on 2025-06-05 for 2 people.'"
   ]
  },
  {
   "cell_type": "code",
   "execution_count": 71,
   "metadata": {},
   "outputs": [
    {
     "name": "stdout",
     "output_type": "stream",
     "text": [
      "{'ask_user': 'text: string', 'send_user_text': 'text: string', 'search_google': 'text: string', 'go_to_url': 'url: string', 'done': '', 'go_back': '', 'click': 'id: int', 'input': 'id: int, text: string', 'nothing': ''}\n"
     ]
    }
   ],
   "source": [
    "print(actions.get_default_actions())"
   ]
  },
  {
   "cell_type": "code",
   "execution_count": 72,
   "metadata": {},
   "outputs": [],
   "source": [
    "agent = PlaningAgent(default_actions=actions.get_default_actions(), model=\"gpt-4o\")"
   ]
  },
  {
   "cell_type": "code",
   "execution_count": 73,
   "metadata": {},
   "outputs": [],
   "source": [
    "agent.add_user_prompt(f'Your task is: {task}', after_system=True)"
   ]
  },
  {
   "cell_type": "code",
   "execution_count": 74,
   "metadata": {},
   "outputs": [],
   "source": [
    "url_history = []\n",
    "output = ActionResult()"
   ]
  },
  {
   "cell_type": "code",
   "execution_count": 75,
   "metadata": {},
   "outputs": [],
   "source": [
    "i = 0"
   ]
  },
  {
   "cell_type": "code",
   "execution_count": 76,
   "metadata": {},
   "outputs": [],
   "source": [
    "previous_state = None"
   ]
  },
  {
   "cell_type": "markdown",
   "metadata": {},
   "source": [
    "---"
   ]
  },
  {
   "cell_type": "code",
   "execution_count": 257,
   "metadata": {},
   "outputs": [],
   "source": [
    "current_state = state_manager.get_current_state(run_folder=run_folder, step=i)"
   ]
  },
  {
   "cell_type": "code",
   "execution_count": 258,
   "metadata": {},
   "outputs": [],
   "source": [
    "state_manager.add_change_info(current_state=current_state, previous_state=previous_state)\n",
    "state_manager.add_parent_info(current_state=current_state)"
   ]
  },
  {
   "cell_type": "code",
   "execution_count": 259,
   "metadata": {},
   "outputs": [],
   "source": [
    "save_formatted_html(driver.page_source, f'{run_folder}/html_{i}.html')"
   ]
  },
  {
   "cell_type": "code",
   "execution_count": 260,
   "metadata": {},
   "outputs": [],
   "source": [
    "url_history.append(driver.current_url)"
   ]
  },
  {
   "cell_type": "code",
   "execution_count": 261,
   "metadata": {},
   "outputs": [],
   "source": [
    "elem_text = \"\\n\".join([e.get_text() for e in current_state.interactable_elements])\n",
    "text = f'Elements:\\n{elem_text}\\nUrl history: {url_history}'"
   ]
  },
  {
   "cell_type": "code",
   "execution_count": 262,
   "metadata": {},
   "outputs": [
    {
     "name": "stdout",
     "output_type": "stream",
     "text": [
      "Elements:\n",
      "      6:<div role=\"button\" aria-label=\"Open main navigation\"></div>\n",
      "      7:<a href=\"/\" aria-label=\"Go to the kayak homepage\"></a>\n",
      "     49:<div role=\"button\" aria-label=\" Round-trip\">Round-trip</div>\n",
      "     50:\t<span>Round-trip</span>\n",
      "     52:<div role=\"button\" aria-label=\" ISB, ZRH\">From? | ISB, ZRH</div>\n",
      "     55:\t<div role=\"option\" aria-label=\"ISB, ZRH\" aria-selected=\"false\">ISB, ZRH</div>\n",
      "     56:\t\t<div>ISB, ZRH</div>\n",
      "     58:\t<div role=\"button\" aria-label=\"Add\" aria-hidden=\"false\"></div>\n",
      "     59:<div role=\"button\" aria-label=\"Swap departure airport and destination airport\"></div>\n",
      "     60:<div role=\"button\" aria-label=\" Denpasar, Bali, Indonesia\">To? | Denpasar, Bali, Indonesia</div>\n",
      "     63:\t<div role=\"option\" aria-label=\"Denpasar, Bali, Indonesia\" aria-selected=\"false\">Denpasar, Bali, Indonesia</div>\n",
      "     64:\t\t<div>Denpasar, Bali, Indonesia</div>\n",
      "     66:\t\t<div role=\"button\" aria-label=\"Remove\"></div>\n",
      "     67:\t\t\t<div role=\"button\"></div>\n",
      "     68:\t<div role=\"button\" aria-label=\"Add\" aria-hidden=\"false\"></div>\n",
      "     69:<div role=\"button\" aria-label=\" Fri 4/25\">Add dates | Fri 4/25</div>\n",
      "     72:\t<span>Fri 4/25</span>\n",
      "     74:\t<span role=\"button\" aria-label=\"Decrement date by one day\"></span>\n",
      "     75:\t<span role=\"button\" aria-label=\"Increment date by one day\"></span>\n",
      "     76:<div role=\"button\" aria-label=\" Thu 6/5\">Add dates | Thu 6/5</div>\n",
      "     79:\t<span>Thu 6/5</span>\n",
      "     81:\t<span role=\"button\" aria-label=\"Decrement date by one day\"></span>\n",
      "     82:\t<span role=\"button\" aria-label=\"Increment date by one day\"></span>\n",
      "     83:<div role=\"button\" aria-label=\" 2 travelers\">2 travelers</div>\n",
      "     84:\t<span>2 travelers</span>\n",
      "     86:<div role=\"button\" aria-label=\" Economy\">Economy</div>\n",
      "     87:\t<span>Economy</span>\n",
      "     89:<button role=\"button\" aria-disabled=\"false\" title=\"\" type=\"submit\" aria-label=\"Search\"></button>\n",
      "     90:<div role=\"button\" aria-label=\"Open Trips drawer\"></div>\n",
      "     91:<div role=\"button\">Sign in</div>\n",
      "     92:\t<span>Sign in</span>\n",
      "     94:<a href=\"/flights\" aria-label=\"Search for flights \" aria-current=\"page\">Flights</a>\n",
      "     97:<a href=\"/stays\" aria-label=\"Search for hotels \" aria-current=\"false\">Stays</a>\n",
      "    100:<a href=\"/cars\" aria-label=\"Search for cars \" aria-current=\"false\">Cars</a>\n",
      "    103:<a href=\"/packages\" aria-label=\"Search for packages \" aria-current=\"false\">Packages</a>\n",
      "    106:<a href=\"https://kayak.ai\" aria-label=\"Go to KAYAK.ai BETA\" aria-current=\"false\">KAYAK.ai | BETA</a>\n",
      "    111:<a href=\"#\" aria-label=\"Travel like a pro with KAYAK Navigator. Check out our favorite tools for planning, booking and organizing your travels. \" aria-current=\"false\">Plan your trip</a>\n",
      "    114:<a href=\"#\" aria-label=\"Go to Explore \" aria-current=\"false\">Explore</a>\n",
      "    117:<a href=\"#\" aria-label=\"Track a flight \" aria-current=\"false\">Flight Tracker</a>\n",
      "    120:<a href=\"#\" aria-label=\"Go to our blog \" aria-current=\"false\">Travel tips</a>\n",
      "    123:<a href=\"#\" aria-label=\"KAYAK for Business NEW\" aria-current=\"false\">KAYAK for Business | NEW</a>\n",
      "    128:<a href=\"#\" aria-label=\"Trips \" aria-current=\"false\">Trips</a>\n",
      "    131:<div role=\"button\" aria-label=\"English \">English</div>\n",
      "    134:<div role=\"button\" aria-label=\"United States dollar \">$ | United States dollar</div>\n",
      "    135:\t<span>$</span>\n",
      "    139:<div role=\"button\" aria-label=\"Submit feedback about our site \">Feedback</div>\n",
      "    446:Smart Filters\n",
      "    447:\t<span>.</span>\n",
      "    449:BETA • Powered by ChatGPT\n",
      "    450:<div role=\"button\" data-track=\"assistant-collapse-control\"></div>\n",
      "    451:\t<span>1726</span>\n",
      "    453:of\n",
      "    454:\t<div role=\"button\">1835 flights</div>\n",
      "    456:<div role=\"button\" aria-label=\"Stops\" aria-expanded=\"true\">Stops | Reset</div>\n",
      "    457:\t<div>Stops</div>\n",
      "    460:<label for=\"valueSetFilter-vertical-stops-0\" id=\"valueSetFilter-vertical-stops-0-label\">Nonstop</label>\n",
      "    461:\t<div>Nonstop</div>\n",
      "    464:<label for=\"valueSetFilter-vertical-stops-1\" id=\"valueSetFilter-vertical-stops-1-label\">1 stop</label>\n",
      "    465:\t<div>1 stop</div>\n",
      "    469:$942\n",
      "    471:<label for=\"valueSetFilter-vertical-stops-2\" id=\"valueSetFilter-vertical-stops-2-label\">2+ stops</label>\n",
      "    472:\t<div>2+ stops</div>\n",
      "    476:$866\n",
      "    477:<div role=\"button\" aria-label=\"Airports\" aria-expanded=\"true\">Airports | Reset</div>\n",
      "    478:\t<div>Airports</div>\n",
      "    482:<label for=\"valueSetFilter-vertical-sameair-sameair\" id=\"valueSetFilter-vertical-sameair-sameair-label\">Depart/return same</label>\n",
      "    483:\t<div>Depart/return same</div>\n",
      "    485:<div>Takeoff Airports</div>\n",
      "    488:<label for=\"valueSetFilter-vertical-airports-ZRH\" id=\"valueSetFilter-vertical-airports-ZRH-label\">ZRH: Zurich</label>\n",
      "    489:\t<div>ZRH: Zurich</div>\n",
      "    493:$866\n",
      "    495:<label for=\"valueSetFilter-vertical-airports-ISB\" id=\"valueSetFilter-vertical-airports-ISB-label\">ISB: Islamabad Intl</label>\n",
      "    496:\t<div>ISB: Islamabad Intl</div>\n",
      "    500:$934\n",
      "    501:<div>Denpasar</div>\n",
      "    504:<label for=\"valueSetFilter-vertical-airports-DPS\" id=\"valueSetFilter-vertical-airports-DPS-label\">DPS: Bali Ngurah Rai</label>\n",
      "    505:\t<div>DPS: Bali Ngurah Rai</div>\n",
      "    509:$866\n",
      "    510:<div role=\"button\" aria-label=\"Fee Assistant\" aria-expanded=\"true\">Fee Assistant | Reset</div>\n",
      "    511:\tFee Assistant\n",
      "    513:<div>Baggage per passenger</div>\n",
      "    515:<div>Carry-on bag</div>\n",
      "    517:<input role=\"spinbutton\" aria-valuenow=\"0\" aria-valuemin=\"0\" aria-valuemax=\"1\" aria-label=\"Carry-on bag\" value=\"0\"></input>\n",
      "    518:<button aria-label=\"Add bag\" aria-disabled=\"false\"></button>\n",
      "    519:<div>Checked bag</div>\n",
      "    521:<input role=\"spinbutton\" aria-valuenow=\"0\" aria-valuemin=\"0\" aria-valuemax=\"2\" aria-label=\"Checked bag\" value=\"0\"></input>\n",
      "    522:<button aria-label=\"Add bag\" aria-disabled=\"false\"></button>\n",
      "    523:<div role=\"button\" aria-label=\"Book on KAYAK\" aria-expanded=\"true\">Book on KAYAK | Reset</div>\n",
      "    687:<div role=\"button\" aria-label=\"Cheapest\" aria-selected=\"false\">Cheapest | $866 | • | 27h 55m</div>\n",
      "    688:\t<span>Cheapest</span>\n",
      "    690:\t\t<span>$866</span>\n",
      "    692:\t•\n",
      "    693:\t\t<span>27h 55m</span>\n",
      "    695:<div role=\"button\" aria-label=\"Best\" aria-selected=\"true\">Best | $1,260 | • | 13h 15m</div>\n",
      "    696:\t<span>Best</span>\n",
      "    698:\t\t<span>$1,260</span>\n",
      "    700:\t•\n",
      "    701:\t\t<span>13h 15m</span>\n",
      "    703:<div role=\"button\" aria-label=\"Quickest\" aria-selected=\"false\">Quickest | $1,260 | • | 13h 15m</div>\n",
      "    704:\t<span>Quickest</span>\n",
      "    706:\t\t<span>$1,260</span>\n",
      "    708:\t•\n",
      "    709:\t\t<span>13h 15m</span>\n",
      "    711:<div role=\"button\" aria-label=\"Other sort\" aria-selected=\"false\">Other sort</div>\n",
      "    712:\t<div>Other sort</div>\n",
      "    720:<div>Unbeatable prices on flights</div>\n",
      "    722:<div>Search for unique flight combinations and book cheap airfares with FlightNetwork</div>\n",
      "    724:<div role=\"button\" aria-label=\"Share\">Share</div>\n",
      "    728:<span>5:55 pm</span>\n",
      "    730:<span>–</span>\n",
      "    732:6:00 pm\n",
      "    733:\t<sup title=\"Flight lands the next day\">+1</sup>\n",
      "    735:<div>SWISS, Thai Airways</div>\n",
      "    737:<span>1 stop</span>\n",
      "    739:<span title=\"2h 55m layover, ,[object Object]\">BKK</span>\n",
      "    741:<div>18h 05m</div>\n",
      "    743:<span>ZRH</span>\n",
      "    745:<span>-</span>\n",
      "    747:<span>DPS</span>\n",
      "    750:<span>7:15 pm</span>\n",
      "    752:<span>–</span>\n",
      "    754:6:15 am\n",
      "    755:\t<sup title=\"Flight lands the next day\">+1</sup>\n",
      "    757:<div>Jetstar Asia, SWISS</div>\n",
      "    759:<span>1 stop</span>\n",
      "    761:<span title=\"1h 30m layover, ,[object Object]\">SIN</span>\n",
      "    763:<div>17h 00m</div>\n",
      "    765:<span>DPS</span>\n",
      "    767:<span>-</span>\n",
      "    769:<span>ZRH</span>\n",
      "    773:<div role=\"button\">1 | 1 | $1,113 | / person | $2,226 total | Economy Light | Flightnetwork | View Deal</div>\n",
      "    774:\t<div>1</div>\n",
      "    776:\t<div>1</div>\n",
      "    778:\t<a href=\"/s/clickthrough.jsp?ctyp=SponsoredResultAdBooking&ptyp=F&orig=F..RP..M1&plid=5284173&pid=FlightNetwork_FSR_US&prv=FlightNetwork_FSR_US&srch=iSHiAid4iL&ploc=US&atype=SponsoredResult&prc=1113.00&cpnid=5012046&xpExt=&aidExt=&lid=FlightNetwork_FSR_US-iSHiAid4iL&qorig=Airport:ISB&octid=&qdest=Airport:DPS&qstart=1745553600000&qend=1749096000000&qtravelers=2&qrooms=0&qow=false&qfcc=e&qdctid=50485&qdac=DPS&qshour=-1&qehour=-1&qns=false&qnearby=0&qnearbyo=false&qnearbyd=false&pj=QSon03ulPBPXj%244pnIJegw%3D%3D&ah=FNDdHUHEjDmvoncGPXHGvVsSrjTmn1_0uo_gv9x9G9M&resid=f6a7131c633683399ff9c7cb77ec0793&bookid=F-7546493781599245986E0ddf2cde407&seekProv=FLIGHTNETWORK&trueProv=FLIGHTNETWORKFSRAD&fid=&rank=1&stid=&qadults=2&qchild=0&_sid_=R-5kOvRtmj3v8V47eFTC3Fl-Qt5qGGzDCM5VNxqXuJswrd38GL4skYUAI8aSx0wi9&btype=DgqbZHoRrmSpOXmNAG7plg%3D%3D&bkey=tEd1LeB84CM%3D&abv=Q0X%24lx%240Lrk%3D&bucket=ELIGHT&pageOrigin=F..RP.FE.M0\" role=\"link\">$1,113 | / person | $2,226 total</a>\n",
      "    779:\t\t<div>$1,113</div>\n",
      "    781:\t\t<div>/ person</div>\n",
      "    783:\t\t<div>$2,226 total</div>\n",
      "    785:\t<div>Economy Light</div>\n",
      "    787:\t<a href=\"/s/clickthrough.jsp?ctyp=SponsoredResultAdBooking&ptyp=F&orig=F..RP..M1&plid=5284173&pid=FlightNetwork_FSR_US&prv=FlightNetwork_FSR_US&srch=iSHiAid4iL&ploc=US&atype=SponsoredResult&prc=1113.00&cpnid=5012046&xpExt=&aidExt=&lid=FlightNetwork_FSR_US-iSHiAid4iL&qorig=Airport:ISB&octid=&qdest=Airport:DPS&qstart=1745553600000&qend=1749096000000&qtravelers=2&qrooms=0&qow=false&qfcc=e&qdctid=50485&qdac=DPS&qshour=-1&qehour=-1&qns=false&qnearby=0&qnearbyo=false&qnearbyd=false&pj=QSon03ulPBPXj%244pnIJegw%3D%3D&ah=FNDdHUHEjDmvoncGPXHGvVsSrjTmn1_0uo_gv9x9G9M&resid=f6a7131c633683399ff9c7cb77ec0793&bookid=F-7546493781599245986E0ddf2cde407&seekProv=FLIGHTNETWORK&trueProv=FLIGHTNETWORKFSRAD&fid=&rank=1&stid=&qadults=2&qchild=0&_sid_=R-5kOvRtmj3v8V47eFTC3Fl-Qt5qGGzDCM5VNxqXuJswrd38GL4skYUAI8aSx0wi9&btype=DgqbZHoRrmSpOXmNAG7plg%3D%3D&bkey=tEd1LeB84CM%3D&abv=Q0X%24lx%240Lrk%3D&bucket=ELIGHT&pageOrigin=F..RP.FE.M0\" role=\"link\">Flightnetwork</a>\n",
      "    788:\t\t<div>Flightnetwork</div>\n",
      "    790:\t<div role=\"listbox\">View Deal</div>\n",
      "    791:\t\t<div role=\"button\">View Deal</div>\n",
      "    792:\t\t\t<a role=\"link\" href=\"/s/clickthrough.jsp?ctyp=SponsoredResultAdBooking&ptyp=F&orig=F..RP..M1&plid=5284173&pid=FlightNetwork_FSR_US&prv=FlightNetwork_FSR_US&srch=iSHiAid4iL&ploc=US&atype=SponsoredResult&prc=1113.00&cpnid=5012046&xpExt=&aidExt=&lid=FlightNetwork_FSR_US-iSHiAid4iL&qorig=Airport:ISB&octid=&qdest=Airport:DPS&qstart=1745553600000&qend=1749096000000&qtravelers=2&qrooms=0&qow=false&qfcc=e&qdctid=50485&qdac=DPS&qshour=-1&qehour=-1&qns=false&qnearby=0&qnearbyo=false&qnearbyd=false&pj=QSon03ulPBPXj%244pnIJegw%3D%3D&ah=FNDdHUHEjDmvoncGPXHGvVsSrjTmn1_0uo_gv9x9G9M&resid=f6a7131c633683399ff9c7cb77ec0793&bookid=F-7546493781599245986E0ddf2cde407&seekProv=FLIGHTNETWORK&trueProv=FLIGHTNETWORKFSRAD&fid=&rank=1&stid=&qadults=2&qchild=0&_sid_=R-5kOvRtmj3v8V47eFTC3Fl-Qt5qGGzDCM5VNxqXuJswrd38GL4skYUAI8aSx0wi9&btype=DgqbZHoRrmSpOXmNAG7plg%3D%3D&bkey=tEd1LeB84CM%3D&abv=Q0X%24lx%240Lrk%3D&bucket=ELIGHT&pageOrigin=F..RP.FE.M0\" aria-disabled=\"false\">View Deal</a>\n",
      "    793:\t\t\t\t<span>View Deal</span>\n",
      "    803:<div role=\"button\">Save</div>\n",
      "    806:<div role=\"button\" aria-label=\"Share\">Share</div>\n",
      "    809:<div>Best</div>\n",
      "    812:<span>11:20 pm</span>\n",
      "    814:<span>–</span>\n",
      "    816:2:55 pm\n",
      "    817:\t<sup title=\"Flight lands the next day\">+1</sup>\n",
      "    819:<div>Thai Airways</div>\n",
      "    821:<span>1 stop</span>\n",
      "    823:<span title=\"3h 10m layover, ,[object Object]\">BKK</span>\n",
      "    825:<div>12h 35m</div>\n",
      "    827:<span>ISB</span>\n",
      "    829:<span>-</span>\n",
      "    831:<span>DPS</span>\n",
      "    834:<span>8:40 am</span>\n",
      "    836:<span>–</span>\n",
      "    838:<span>7:35 pm</span>\n",
      "    840:<div>China Southern</div>\n",
      "    842:<span>1 stop</span>\n",
      "    844:<span title=\"2h 15m layover, ,[object Object]\">CAN</span>\n",
      "    846:<div>13h 55m</div>\n",
      "    848:<span>DPS</span>\n",
      "    850:<span>-</span>\n",
      "    852:<span>ISB</span>\n",
      "    854:<div role=\"button\">1 | 0 | $1,260 | / person | $2,520 total | Economy | Select</div>\n",
      "    855:\t<div>1</div>\n",
      "    857:\t<div>0</div>\n",
      "    859:\t<a href=\"/book/flight?code=iSHiAid4iL.mgYptEKS7RsDzQq2dWkU9A.126000.b503310c365734d06933702504ead46f&h=5addba43c4cc&sub=F-1984643852897366761E0438f8f431c&bucket=e&pageOrigin=F..RP.FE.M1\" role=\"link\">$1,260 | / person | $2,520 total</a>\n",
      "    860:\t\t<div>$1,260</div>\n",
      "    862:\t\t<div>/ person</div>\n",
      "    864:\t\t<div>$2,520 total</div>\n",
      "    866:\t<div>Economy</div>\n",
      "    868:\t<div role=\"listbox\">Select</div>\n",
      "    869:\t\t<div role=\"button\">Select</div>\n",
      "    870:\t\t\t<a role=\"link\" href=\"/book/flight?code=iSHiAid4iL.mgYptEKS7RsDzQq2dWkU9A.126000.b503310c365734d06933702504ead46f&h=5addba43c4cc&sub=F-1984643852897366761E0438f8f431c&bucket=e&pageOrigin=F..RP.FE.M1\" aria-disabled=\"false\">Select</a>\n",
      "    871:\t\t\t\t<span>Select</span>\n",
      "    881:<div role=\"button\">Save</div>\n",
      "    884:<div role=\"button\" aria-label=\"Share\">Share</div>\n",
      "    887:<div>Cheapest</div>\n",
      "    890:<span>10:50 am</span>\n",
      "    892:<span>–</span>\n",
      "    894:9:10 pm\n",
      "    895:\t<sup title=\"Flight lands the next day\">+1</sup>\n",
      "    897:<div>IndiGo, Indonesia AirAsia</div>\n",
      "    899:<span>3 stops</span>\n",
      "    901:\t<span title=\"5h 25m layover, ,[object Object]\">IST</span>\n",
      "    903:,\n",
      "    904:\t<span title=\"1h 30m layover, ,[object Object]\">BOM</span>\n",
      "    906:,\n",
      "    907:<span title=\"3h 30m layover, ,[object Object]\">...</span>\n",
      "    909:<div>28h 20m</div>\n",
      "    911:<span>ZRH</span>\n",
      "    913:<span>-</span>\n",
      "    915:<span>DPS</span>\n",
      "    918:<span>9:25 pm</span>\n",
      "    920:<span>–</span>\n",
      "    922:6:55 pm\n",
      "    923:\t<sup title=\"Flight lands the next day\">+1</sup>\n",
      "    925:<div>AirAsia, Etihad Airways</div>\n",
      "    927:<span>2 stops</span>\n",
      "    929:<span title=\"9h 05m layover, ,[object Object]\">KUL</span>\n",
      "    932:<span title=\"1h 40m layover, ,[object Object]\">AUH</span>\n",
      "    934:<div>27h 30m</div>\n",
      "    936:<span>DPS</span>\n",
      "    938:<span>-</span>\n",
      "    940:<span>ZRH</span>\n",
      "    944:<div role=\"button\">1 | 0 | $866 | / person | $1,731 total | Economy, Economy Basic | Select</div>\n",
      "    945:\t<div>1</div>\n",
      "    947:\t<div>0</div>\n",
      "    949:\t<a href=\"/book/flight?code=iSHiAid4iL.eNCwACMVOeJpd4CyPwn0EI6M4XD8KcmF.86549.3a1276f89c3c8d2ab705fd8f0834573d&h=d185f1b7c564&sub=F-7324973772821699904E0b03a62e06c&bucket=ECONOMY_YBASIC&pageOrigin=F..RP.FE.M2\" role=\"link\">$866 | / person | $1,731 total</a>\n",
      "    950:\t\t<div>$866</div>\n",
      "    952:\t\t<div>/ person</div>\n",
      "    954:\t\t<div>$1,731 total</div>\n",
      "    956:\t<div>Economy, Economy Basic</div>\n",
      "   2185:<div>Share feedback? 👋</div>\n",
      "   2187:<button role=\"button\" aria-disabled=\"false\" aria-label=\"Hide survey\"></button>\n",
      "   2188:<span>KAYAK makes it easy to find what I am looking for.</span>\n",
      "   2190:<div role=\"button\" aria-describedby=\"ces-survey-legend-1\" aria-label=\"Rate 1 of 7\">1</div>\n",
      "   2192:<div role=\"button\" aria-label=\"Rate 2 of 7\">2</div>\n",
      "   2194:<div role=\"button\" aria-label=\"Rate 3 of 7\">3</div>\n",
      "   2196:<div role=\"button\" aria-label=\"Rate 4 of 7\">4</div>\n",
      "   2198:<div role=\"button\" aria-label=\"Rate 5 of 7\">5</div>\n",
      "   2200:<div role=\"button\" aria-label=\"Rate 6 of 7\">6</div>\n",
      "   2202:<div role=\"button\" aria-describedby=\"ces-survey-legend-2\" aria-label=\"Rate 7 of 7\">7</div>\n",
      "   2204:<span id=\"ces-survey-legend-1\">Strongly disagree</span>\n",
      "   2206:<span id=\"ces-survey-legend-2\">Strongly agree</span>\n",
      "Url history: ['data:,', 'data:,', 'https://www.kayak.com/', 'https://www.kayak.com/', 'https://www.kayak.com/', 'https://www.kayak.com/', 'https://www.kayak.com/', 'https://www.kayak.com/', 'https://www.kayak.com/', 'https://www.kayak.com/', 'https://www.kayak.com/', 'https://www.kayak.com/', 'https://www.kayak.com/', 'https://www.kayak.com/flights/ISB,ZRH-DPS/2025-04-25/2025-06-05/2adults?ucs=1mgrcqi&sort=bestflight_a', 'https://www.kayak.com/flights/ISB,ZRH-DPS/2025-04-25/2025-06-05/2adults?ucs=1mgrcqi&sort=bestflight_a', 'https://www.kayak.com/flights/ISB,ZRH-DPS/2025-04-25/2025-06-05/2adults?ucs=1mgrcqi&sort=bestflight_a']\n"
     ]
    }
   ],
   "source": [
    "print(text)"
   ]
  },
  {
   "cell_type": "code",
   "execution_count": 263,
   "metadata": {},
   "outputs": [
    {
     "name": "stdout",
     "output_type": "stream",
     "text": [
      "Text $0.0188 + Image $0.0002 = $0.0194 for 7567  tokens\n"
     ]
    }
   ],
   "source": [
    "if output.user_input:\n",
    "    agent.add_user_prompt(output.user_input)\n",
    "if output.error:\n",
    "    text += f', Previous action error: {output.error}'\n",
    "action = agent.chat(\n",
    "    text, \n",
    "    store_conversation=f'{run_folder}/conversation_{i}.txt',\n",
    "    image=current_state.screenshot\n",
    ")"
   ]
  },
  {
   "cell_type": "code",
   "execution_count": 264,
   "metadata": {},
   "outputs": [
    {
     "data": {
      "text/plain": [
       "Action(valuation_previous_goal='Successfully found flights from Zürich to Bali.', goal='Finish the task and confirm to the user.', action='done', params=None)"
      ]
     },
     "execution_count": 264,
     "metadata": {},
     "output_type": "execute_result"
    }
   ],
   "source": [
    "action"
   ]
  },
  {
   "cell_type": "code",
   "execution_count": 265,
   "metadata": {},
   "outputs": [
    {
     "name": "stdout",
     "output_type": "stream",
     "text": [
      "{\n",
      "    \"valuation_previous_goal\": \"Successfully found flights from Zürich to Bali.\",\n",
      "    \"goal\": \"Finish the task and confirm to the user.\",\n",
      "    \"action\": \"done\",\n",
      "    \"params\": null\n",
      "}\n"
     ]
    }
   ],
   "source": [
    "output = actions.execute_action(action, current_state.selector_map)"
   ]
  },
  {
   "cell_type": "code",
   "execution_count": 266,
   "metadata": {},
   "outputs": [
    {
     "name": "stdout",
     "output_type": "stream",
     "text": [
      "Task completed\n"
     ]
    }
   ],
   "source": [
    "if output.done:\n",
    "    print('Task completed')\n",
    "    driver.quit()"
   ]
  },
  {
   "cell_type": "code",
   "execution_count": 267,
   "metadata": {},
   "outputs": [],
   "source": [
    "i += 1"
   ]
  },
  {
   "cell_type": "code",
   "execution_count": 268,
   "metadata": {},
   "outputs": [],
   "source": [
    "previous_state = current_state"
   ]
  },
  {
   "cell_type": "markdown",
   "metadata": {},
   "source": [
    "---"
   ]
  },
  {
   "cell_type": "code",
   "execution_count": 66,
   "metadata": {},
   "outputs": [],
   "source": [
    "driver.quit()"
   ]
  },
  {
   "cell_type": "code",
   "execution_count": null,
   "metadata": {},
   "outputs": [],
   "source": []
  }
 ],
 "metadata": {
  "kernelspec": {
   "display_name": "scraping",
   "language": "python",
   "name": "python3"
  },
  "language_info": {
   "codemirror_mode": {
    "name": "ipython",
    "version": 3
   },
   "file_extension": ".py",
   "mimetype": "text/x-python",
   "name": "python",
   "nbconvert_exporter": "python",
   "pygments_lexer": "ipython3",
   "version": "3.10.16"
  }
 },
 "nbformat": 4,
 "nbformat_minor": 2
}
