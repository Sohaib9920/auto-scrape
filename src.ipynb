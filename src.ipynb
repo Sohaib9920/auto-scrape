{
 "cells": [
  {
   "cell_type": "code",
   "execution_count": 111,
   "metadata": {},
   "outputs": [
    {
     "name": "stdout",
     "output_type": "stream",
     "text": [
      "The autoreload extension is already loaded. To reload it, use:\n",
      "  %reload_ext autoreload\n"
     ]
    }
   ],
   "source": [
    "%load_ext autoreload\n",
    "%autoreload 2"
   ]
  },
  {
   "cell_type": "code",
   "execution_count": 112,
   "metadata": {},
   "outputs": [],
   "source": [
    "from src.driver.service import DriverService\n",
    "from src.state_manager.state import StateManager\n",
    "from src.actions.browser_actions import BrowserActions\n",
    "from src.agent_interface.planing_agent import PlaningAgent\n",
    "from src.actions.browser_actions import ActionResult\n",
    "from src.state_manager.utils import save_formatted_html\n",
    "\n",
    "import os\n",
    "from datetime import datetime"
   ]
  },
  {
   "cell_type": "code",
   "execution_count": 113,
   "metadata": {},
   "outputs": [],
   "source": [
    "driver = DriverService().get_driver()\n",
    "state_manager = StateManager(driver)\n",
    "actions = BrowserActions(driver)"
   ]
  },
  {
   "cell_type": "code",
   "execution_count": 114,
   "metadata": {},
   "outputs": [],
   "source": [
    "timestamp = datetime.now().strftime('%Y%m%d_%H%M%S')\n",
    "run_folder = f'temp/run_{timestamp}'\n",
    "if not os.path.exists(run_folder):\n",
    "    os.makedirs(run_folder)"
   ]
  },
  {
   "cell_type": "code",
   "execution_count": 115,
   "metadata": {},
   "outputs": [],
   "source": [
    "task = 'Go to kayak.com and find a flight from Zürich to (ask the user for the destination) on 2025-04-25 with return on 2025-06-05 for 2 people.'"
   ]
  },
  {
   "cell_type": "code",
   "execution_count": 116,
   "metadata": {},
   "outputs": [
    {
     "name": "stdout",
     "output_type": "stream",
     "text": [
      "{'ask_user': 'text: string', 'send_user_text': 'text: string', 'search_google': 'text: string', 'go_to_url': 'url: string', 'done': '', 'go_back': '', 'click': 'id: int', 'input': 'id: int, text: string', 'nothing': ''}\n"
     ]
    }
   ],
   "source": [
    "print(actions.get_default_actions())"
   ]
  },
  {
   "cell_type": "code",
   "execution_count": 117,
   "metadata": {},
   "outputs": [],
   "source": [
    "agent = PlaningAgent(default_actions=actions.get_default_actions(), model=\"gpt-4o\")"
   ]
  },
  {
   "cell_type": "code",
   "execution_count": 118,
   "metadata": {},
   "outputs": [],
   "source": [
    "agent.add_user_prompt(f'Your task is: {task}', after_system=True)"
   ]
  },
  {
   "cell_type": "code",
   "execution_count": 119,
   "metadata": {},
   "outputs": [],
   "source": [
    "url_history = []\n",
    "output = ActionResult()"
   ]
  },
  {
   "cell_type": "code",
   "execution_count": 120,
   "metadata": {},
   "outputs": [],
   "source": [
    "i = 0"
   ]
  },
  {
   "cell_type": "code",
   "execution_count": 121,
   "metadata": {},
   "outputs": [],
   "source": [
    "previous_state = None"
   ]
  },
  {
   "cell_type": "markdown",
   "metadata": {},
   "source": [
    "---"
   ]
  },
  {
   "cell_type": "code",
   "execution_count": 345,
   "metadata": {},
   "outputs": [],
   "source": [
    "current_state = state_manager.get_current_state(only_top=True)"
   ]
  },
  {
   "cell_type": "code",
   "execution_count": 346,
   "metadata": {},
   "outputs": [],
   "source": [
    "state_manager.add_change_info(current_state=current_state, previous_state=previous_state)\n",
    "state_manager.add_parent_info(current_state=current_state)"
   ]
  },
  {
   "cell_type": "code",
   "execution_count": 347,
   "metadata": {},
   "outputs": [],
   "source": [
    "save_formatted_html(driver.page_source, f'{run_folder}/html_{i}.html')"
   ]
  },
  {
   "cell_type": "code",
   "execution_count": 348,
   "metadata": {},
   "outputs": [],
   "source": [
    "url_history.append(driver.current_url)"
   ]
  },
  {
   "cell_type": "code",
   "execution_count": 349,
   "metadata": {},
   "outputs": [],
   "source": [
    "elem_text = \"\\n\".join([e.get_text() for e in current_state.interactable_elements])\n",
    "text = f'Elements:\\n{elem_text}\\nUrl history: {url_history}'"
   ]
  },
  {
   "cell_type": "code",
   "execution_count": 350,
   "metadata": {},
   "outputs": [
    {
     "name": "stdout",
     "output_type": "stream",
     "text": [
      "Elements:\n",
      "      6:<div aria-label=\"Open main navigation\"></div>\n",
      "      7:<a href=\"/\" aria-label=\"Go to the kayak homepage\"></a>\n",
      "     35:<div aria-label=\" Round-trip\">Round-trip</div>\n",
      "     36:\t<span>Round-trip</span>\n",
      "     38:<div aria-label=\" ISB, ZRH\">From? | ISB, ZRH</div>\n",
      "     41:\t<span>ISB, ZRH</span>\n",
      "     43:<div aria-label=\" Denpasar, Bali, Indonesia\">To? | Denpasar, Bali, Indonesia</div>\n",
      "     46:\t<span>Denpasar, Bali, Indonesia</span>\n",
      "     48:<div aria-label=\" Fri 4/25\">Add dates | Fri 4/25</div>\n",
      "     51:\t<span>Fri 4/25</span>\n",
      "     53:<div aria-label=\" Thu 6/5\">Add dates | Thu 6/5</div>\n",
      "     56:\t<span>Thu 6/5</span>\n",
      "     58:<div aria-label=\" 2 travelers, Economy\">2 travelers, Economy</div>\n",
      "     59:\t<span>2 travelers, Economy</span>\n",
      "     61:<button aria-disabled=\"false\" type=\"submit\" aria-label=\"Search\"></button>\n",
      "     62:<div aria-label=\"Open Trips drawer\"></div>\n",
      "     63:<div>Sign in</div>\n",
      "     64:\t<span>Sign in</span>\n",
      "     66:<a href=\"/flights\" aria-label=\"Search for flights \" aria-current=\"page\">Flights</a>\n",
      "     69:<a href=\"/stays\" aria-label=\"Search for hotels \" aria-current=\"false\">Stays</a>\n",
      "     72:<a href=\"/cars\" aria-label=\"Search for cars \" aria-current=\"false\">Cars</a>\n",
      "     75:<a href=\"/packages\" aria-label=\"Search for packages \" aria-current=\"false\">Packages</a>\n",
      "     78:<a href=\"https://kayak.ai\" aria-label=\"Go to KAYAK.ai BETA\" aria-current=\"false\">KAYAK.ai | BETA</a>\n",
      "     83:<a href=\"#\" aria-label=\"Travel like a pro with KAYAK Navigator. Check out our favorite tools for planning, booking and organizing your travels. \" aria-current=\"false\">Plan your trip</a>\n",
      "     86:<a href=\"#\" aria-label=\"Go to Explore \" aria-current=\"false\">Explore</a>\n",
      "     89:<a href=\"#\" aria-label=\"Track a flight \" aria-current=\"false\">Flight Tracker</a>\n",
      "     92:<a href=\"#\" aria-label=\"Go to our blog \" aria-current=\"false\">Travel tips</a>\n",
      "     95:<a href=\"#\" aria-label=\"KAYAK for Business NEW\" aria-current=\"false\">KAYAK for Business | NEW</a>\n",
      "    100:<a href=\"#\" aria-label=\"Trips \" aria-current=\"false\">Trips</a>\n",
      "    103:<div aria-label=\"English \">English</div>\n",
      "    106:<div aria-label=\"United States dollar \">$ | United States dollar</div>\n",
      "    107:\t<span>$</span>\n",
      "    111:<div aria-label=\"Submit feedback about our site \">Feedback</div>\n",
      "    418:Smart Filters\n",
      "    419:\t<span>.</span>\n",
      "    421:BETA • Powered by ChatGPT\n",
      "    422:<div></div>\n",
      "    423:\t<span>1678</span>\n",
      "    425:of\n",
      "    426:\t<div>1787 flights</div>\n",
      "    428:<div aria-label=\"Stops\" aria-expanded=\"true\">Stops | Reset</div>\n",
      "    429:\t<div>Stops</div>\n",
      "    432:<label id=\"valueSetFilter-vertical-stops-0-label\">Nonstop</label>\n",
      "    433:\t<div>Nonstop</div>\n",
      "    436:<label id=\"valueSetFilter-vertical-stops-1-label\">1 stop</label>\n",
      "    437:\t<div>1 stop</div>\n",
      "    441:$944\n",
      "    443:<label id=\"valueSetFilter-vertical-stops-2-label\">2+ stops</label>\n",
      "    444:\t<div>2+ stops</div>\n",
      "    448:$859\n",
      "    449:<div aria-label=\"Airports\" aria-expanded=\"true\">Airports | Reset</div>\n",
      "    450:\t<div>Airports</div>\n",
      "    454:<label id=\"valueSetFilter-vertical-sameair-sameair-label\">Depart/return same</label>\n",
      "    455:\t<div>Depart/return same</div>\n",
      "    457:<div>Takeoff Airports</div>\n",
      "    460:<label id=\"valueSetFilter-vertical-airports-ZRH-label\">ZRH: Zurich</label>\n",
      "    461:\t<div>ZRH: Zurich</div>\n",
      "    465:$859\n",
      "    467:<label id=\"valueSetFilter-vertical-airports-ISB-label\">ISB: Islamabad Intl</label>\n",
      "    468:\t<div>ISB: Islamabad Intl</div>\n",
      "    472:$967\n",
      "    473:<div>Denpasar</div>\n",
      "    476:<label id=\"valueSetFilter-vertical-airports-DPS-label\">DPS: Bali Ngurah Rai</label>\n",
      "    477:\t<div>DPS: Bali Ngurah Rai</div>\n",
      "    481:$859\n",
      "    482:<div aria-label=\"Fee Assistant\" aria-expanded=\"true\">Fee Assistant | Reset</div>\n",
      "    483:\tFee Assistant\n",
      "    485:<div>Baggage per passenger</div>\n",
      "    487:<div>Carry-on bag</div>\n",
      "    489:<input aria-valuenow=\"0\" aria-valuemin=\"0\" aria-valuemax=\"1\" aria-label=\"Carry-on bag\" value=\"0\"></input>\n",
      "    490:<button aria-label=\"Add bag\" aria-disabled=\"false\"></button>\n",
      "    491:<div>Checked bag</div>\n",
      "    493:<input aria-valuenow=\"0\" aria-valuemin=\"0\" aria-valuemax=\"2\" aria-label=\"Checked bag\" value=\"0\"></input>\n",
      "    494:<button aria-label=\"Add bag\" aria-disabled=\"false\"></button>\n",
      "    495:<div aria-label=\"Book on KAYAK\" aria-expanded=\"true\">Book on KAYAK | Reset</div>\n",
      "    659:<div aria-label=\"Cheapest\" aria-selected=\"false\">Cheapest | $859 | • | 28h 30m</div>\n",
      "    660:\t<span>Cheapest</span>\n",
      "    662:\t\t<span>$859</span>\n",
      "    664:\t•\n",
      "    665:\t\t<span>28h 30m</span>\n",
      "    667:<div aria-label=\"Best\" aria-selected=\"true\">Best | $1,294 | • | 13h 15m</div>\n",
      "    668:\t<span>Best</span>\n",
      "    670:\t\t<span>$1,294</span>\n",
      "    672:\t•\n",
      "    673:\t\t<span>13h 15m</span>\n",
      "    675:<div aria-label=\"Quickest\" aria-selected=\"false\">Quickest | $1,294 | • | 13h 15m</div>\n",
      "    676:\t<span>Quickest</span>\n",
      "    678:\t\t<span>$1,294</span>\n",
      "    680:\t•\n",
      "    681:\t\t<span>13h 15m</span>\n",
      "    683:<div aria-label=\"Other sort\" aria-selected=\"false\">Other sort</div>\n",
      "    684:\t<div>Other sort</div>\n",
      "    692:<div>Find the best deals on eDreams</div>\n",
      "    694:<div>Compare flights from more than 600 airlines</div>\n",
      "    696:<div aria-label=\"Share\">Share</div>\n",
      "    700:<span>4:40 pm</span>\n",
      "    702:<span>–</span>\n",
      "    704:10:40 pm\n",
      "    705:\t<sup>+1</sup>\n",
      "    707:<div>Qatar Airways</div>\n",
      "    709:<span>1 stop</span>\n",
      "    711:<span>DOH</span>\n",
      "    713:<div>24h 00m</div>\n",
      "    715:<span>ZRH</span>\n",
      "    717:<span>-</span>\n",
      "    719:<span>DPS</span>\n",
      "    722:<span>9:55 am</span>\n",
      "    724:<span>–</span>\n",
      "    726:7:15 am\n",
      "    727:\t<sup>+1</sup>\n",
      "    729:<div>Qatar Airways</div>\n",
      "    731:<span>1 stop</span>\n",
      "    733:<span>DOH</span>\n",
      "    735:<div>27h 20m</div>\n",
      "    737:<span>DPS</span>\n",
      "    739:<span>-</span>\n",
      "    741:<span>ZRH</span>\n",
      "    745:<div>1 | 0 | $1,030 | / person | $2,059 total | Economy Classic | eDreams | View Deal</div>\n",
      "    746:\t<div>1</div>\n",
      "    748:\t<div>0</div>\n",
      "    750:\t<a href=\"/s/clickthrough.jsp?ctyp=SponsoredResultAdBooking&ptyp=F&orig=F..RP..M1&plid=5246637&pid=eDreams_FSR_US&prv=eDreams_FSR_US&srch=iiFiEsntwu&ploc=US&atype=SponsoredResult&prc=1030.00&cpnid=7091732&xpExt=&aidExt=&lid=eDreams_FSR_US-iiFiEsntwu&qorig=Airport:ISB&octid=&qdest=Airport:DPS&qstart=1745553600000&qend=1749096000000&qtravelers=2&qrooms=0&qow=false&qfcc=e&qdctid=50485&qdac=DPS&qshour=-1&qehour=-1&qns=false&qnearby=0&qnearbyo=false&qnearbyd=false&pj=y%242pw5mvU8arrrIA6kFdxw%3D%3D&ah=H0zoUwxP$FGnu_UqNdHYNluwfxMSNALCFu9jlUIgS0Y&resid=a40894de5ef3dde5c9f5f8317dc0247a&bookid=F-9018482424990336928E02716aa01b2&seekProv=EDREAMSAIR&trueProv=EDREAMSAIR&fid=&rank=1&stid=&qadults=2&qchild=0&_sid_=R-5zDiv_G_ES7Bq84LFclPH-n4qrQOHAffdYfjSOLJGOFq29lsWjyb_Xwsl7XP7Ah&btype=DgqbZHoRrmSpOXmNAG7plg%3D%3D&bkey=tEd1LeB84CM%3D&abv=zv2QX2PLByQ%3D&bucket=ECONOMY_CLASSIC&pageOrigin=F..RP.FE.M0\">$1,030 | / person | $2,059 total</a>\n",
      "    751:\t\t<div>$1,030</div>\n",
      "    753:\t\t<div>/ person</div>\n",
      "    755:\t\t<div>$2,059 total</div>\n",
      "    757:\t<div>Economy Classic</div>\n",
      "    759:\t<a href=\"/s/clickthrough.jsp?ctyp=SponsoredResultAdBooking&ptyp=F&orig=F..RP..M1&plid=5246637&pid=eDreams_FSR_US&prv=eDreams_FSR_US&srch=iiFiEsntwu&ploc=US&atype=SponsoredResult&prc=1030.00&cpnid=7091732&xpExt=&aidExt=&lid=eDreams_FSR_US-iiFiEsntwu&qorig=Airport:ISB&octid=&qdest=Airport:DPS&qstart=1745553600000&qend=1749096000000&qtravelers=2&qrooms=0&qow=false&qfcc=e&qdctid=50485&qdac=DPS&qshour=-1&qehour=-1&qns=false&qnearby=0&qnearbyo=false&qnearbyd=false&pj=y%242pw5mvU8arrrIA6kFdxw%3D%3D&ah=H0zoUwxP$FGnu_UqNdHYNluwfxMSNALCFu9jlUIgS0Y&resid=a40894de5ef3dde5c9f5f8317dc0247a&bookid=F-9018482424990336928E02716aa01b2&seekProv=EDREAMSAIR&trueProv=EDREAMSAIR&fid=&rank=1&stid=&qadults=2&qchild=0&_sid_=R-5zDiv_G_ES7Bq84LFclPH-n4qrQOHAffdYfjSOLJGOFq29lsWjyb_Xwsl7XP7Ah&btype=DgqbZHoRrmSpOXmNAG7plg%3D%3D&bkey=tEd1LeB84CM%3D&abv=zv2QX2PLByQ%3D&bucket=ECONOMY_CLASSIC&pageOrigin=F..RP.FE.M0\">eDreams</a>\n",
      "    760:\t\t<div>eDreams</div>\n",
      "    762:\t<div>View Deal</div>\n",
      "    763:\t\t<div>View Deal</div>\n",
      "    764:\t\t\t<a href=\"/s/clickthrough.jsp?ctyp=SponsoredResultAdBooking&ptyp=F&orig=F..RP..M1&plid=5246637&pid=eDreams_FSR_US&prv=eDreams_FSR_US&srch=iiFiEsntwu&ploc=US&atype=SponsoredResult&prc=1030.00&cpnid=7091732&xpExt=&aidExt=&lid=eDreams_FSR_US-iiFiEsntwu&qorig=Airport:ISB&octid=&qdest=Airport:DPS&qstart=1745553600000&qend=1749096000000&qtravelers=2&qrooms=0&qow=false&qfcc=e&qdctid=50485&qdac=DPS&qshour=-1&qehour=-1&qns=false&qnearby=0&qnearbyo=false&qnearbyd=false&pj=y%242pw5mvU8arrrIA6kFdxw%3D%3D&ah=H0zoUwxP$FGnu_UqNdHYNluwfxMSNALCFu9jlUIgS0Y&resid=a40894de5ef3dde5c9f5f8317dc0247a&bookid=F-9018482424990336928E02716aa01b2&seekProv=EDREAMSAIR&trueProv=EDREAMSAIR&fid=&rank=1&stid=&qadults=2&qchild=0&_sid_=R-5zDiv_G_ES7Bq84LFclPH-n4qrQOHAffdYfjSOLJGOFq29lsWjyb_Xwsl7XP7Ah&btype=DgqbZHoRrmSpOXmNAG7plg%3D%3D&bkey=tEd1LeB84CM%3D&abv=zv2QX2PLByQ%3D&bucket=ECONOMY_CLASSIC&pageOrigin=F..RP.FE.M0\" aria-disabled=\"false\">View Deal</a>\n",
      "    765:\t\t\t\t<span>View Deal</span>\n",
      "    775:<div>Save</div>\n",
      "    778:<div aria-label=\"Share\">Share</div>\n",
      "    781:<div>Best</div>\n",
      "    784:<span>11:20 pm</span>\n",
      "    786:<span>–</span>\n",
      "    788:2:55 pm\n",
      "    789:\t<sup>+1</sup>\n",
      "    791:<div>Thai Airways</div>\n",
      "    793:<span>1 stop</span>\n",
      "    795:<span>BKK</span>\n",
      "    797:<div>12h 35m</div>\n",
      "    799:<span>ISB</span>\n",
      "    801:<span>-</span>\n",
      "    803:<span>DPS</span>\n",
      "    806:<span>8:40 am</span>\n",
      "    808:<span>–</span>\n",
      "    810:<span>7:35 pm</span>\n",
      "    812:<div>China Southern</div>\n",
      "    814:<span>1 stop</span>\n",
      "    816:<span>CAN</span>\n",
      "    818:<div>13h 55m</div>\n",
      "    820:<span>DPS</span>\n",
      "    822:<span>-</span>\n",
      "    824:<span>ISB</span>\n",
      "    826:<div>1 | 1 | $1,294 | / person | $2,587 total | Economy | BudgetAir | View Deal</div>\n",
      "    827:\t<div>1</div>\n",
      "    829:\t<div>1</div>\n",
      "    831:\t<a href=\"/book/flight?code=iiFiEsntwu.tYUOhBwwtNbTYwQ_VUUUMA.129350.b503310c365734d06933702504ead46f&h=a2370dfb8f63&sub=F-7992810145156838829E0e51b4325f5&bucket=e&pageOrigin=F..RP.FE.M1\">$1,294 | / person | $2,587 total</a>\n",
      "    832:\t\t<div>$1,294</div>\n",
      "    834:\t\t<div>/ person</div>\n",
      "    836:\t\t<div>$2,587 total</div>\n",
      "    838:\t<div>Economy</div>\n",
      "    840:\t<a href=\"/book/flight?code=iiFiEsntwu.tYUOhBwwtNbTYwQ_VUUUMA.129350.b503310c365734d06933702504ead46f&h=a2370dfb8f63&sub=F-7992810145156838829E0e51b4325f5&bucket=e&pageOrigin=F..RP.FE.M1\">BudgetAir</a>\n",
      "    841:\t\t<div>BudgetAir</div>\n",
      "    843:\t<div>View Deal</div>\n",
      "    844:\t\t<div>View Deal</div>\n",
      "    845:\t\t\t<a href=\"/book/flight?code=iiFiEsntwu.tYUOhBwwtNbTYwQ_VUUUMA.129350.b503310c365734d06933702504ead46f&h=a2370dfb8f63&sub=F-7992810145156838829E0e51b4325f5&bucket=e&pageOrigin=F..RP.FE.M1\" aria-disabled=\"false\">View Deal</a>\n",
      "    846:\t\t\t\t<span>View Deal</span>\n",
      "    848:\t\t\t<button aria-disabled=\"false\" aria-label=\"More options from other providers\"></button>\n",
      "    857:<div>Save</div>\n",
      "    860:<div aria-label=\"Share\">Share</div>\n",
      "    863:<div>Cheapest</div>\n",
      "    866:<span>10:50 am</span>\n",
      "    868:<span>–</span>\n",
      "    870:10:20 pm\n",
      "    871:\t<sup>+1</sup>\n",
      "    873:<div>IndiGo, Indonesia AirAsia</div>\n",
      "    875:<span>3 stops</span>\n",
      "    877:\t<span>IST</span>\n",
      "    879:,\n",
      "    880:\t<span>BOM</span>\n",
      "    882:,\n",
      "    883:<span>...</span>\n",
      "    885:<div>29h 30m</div>\n",
      "    887:<span>ZRH</span>\n",
      "    889:<span>-</span>\n",
      "    891:<span>DPS</span>\n",
      "    894:<span>9:25 pm</span>\n",
      "    896:<span>–</span>\n",
      "    899:<sup>+1</sup>\n",
      "    903:<span>2 stops</span>\n",
      "    910:<div>27h 30m</div>\n",
      "    920:<div>1 | 0 | $859 | / person | $1,718 total | Economy, Economy Basic | Mytrip | View Deal</div>\n",
      "    921:\t<div>1</div>\n",
      "    923:\t<div>0</div>\n",
      "    925:\t<a href=\"/book/flight?code=iiFiEsntwu.eNCwACMVOeJpd4CyPwn0EI6M4XD8KcmF.85899.29dc19bc1ff9aa1fcd34e1f3fb3f81c8&h=ea8945498702&sub=F5353015609888549602E0b03a62e06c&bucket=ECONOMY_YBASIC&pageOrigin=F..RP.FE.M2\">$859 | / person | $1,718 total</a>\n",
      "    926:\t\t<div>$859</div>\n",
      "    928:\t\t<div>/ person</div>\n",
      "    930:\t\t<div>$1,718 total</div>\n",
      "    932:\t<div>Economy, Economy Basic</div>\n",
      "   2330:<div>Share feedback? 👋</div>\n",
      "   2332:<button aria-disabled=\"false\" aria-label=\"Hide survey\"></button>\n",
      "   2333:<span>KAYAK makes it easy to find what I am looking for.</span>\n",
      "   2335:<div aria-describedby=\"ces-survey-legend-1\" aria-label=\"Rate 1 of 7\">1</div>\n",
      "   2337:<div aria-label=\"Rate 2 of 7\">2</div>\n",
      "   2339:<div aria-label=\"Rate 3 of 7\">3</div>\n",
      "   2341:<div aria-label=\"Rate 4 of 7\">4</div>\n",
      "   2343:<div aria-label=\"Rate 5 of 7\">5</div>\n",
      "   2345:<div aria-label=\"Rate 6 of 7\">6</div>\n",
      "   2347:<div aria-describedby=\"ces-survey-legend-2\" aria-label=\"Rate 7 of 7\">7</div>\n",
      "   2349:<span id=\"ces-survey-legend-1\">Strongly disagree</span>\n",
      "   2351:<span id=\"ces-survey-legend-2\">Strongly agree</span>\n",
      "Url history: ['data:,', 'https://www.kayak.com/', 'https://www.kayak.com/', 'https://www.kayak.com/', 'https://www.kayak.com/', 'https://www.kayak.com/', 'https://www.kayak.com/', 'https://www.kayak.com/', 'https://www.kayak.com/', 'https://www.kayak.com/', 'https://www.kayak.com/', 'https://www.kayak.com/', 'https://www.kayak.com/', 'https://www.kayak.com/', 'https://www.kayak.com/', 'https://www.kayak.com/', 'https://www.kayak.com/', 'https://www.kayak.com/flights/ISB,ZRH-DPS/2025-04-25/2025-06-05/2adults?ucs=i68u3c&sort=bestflight_a', 'https://www.kayak.com/flights/ISB,ZRH-DPS/2025-04-25/2025-06-05/2adults?ucs=i68u3c&sort=bestflight_a', 'https://www.kayak.com/flights/ISB,ZRH-DPS/2025-04-25/2025-06-05/2adults?ucs=i68u3c&sort=bestflight_a']\n"
     ]
    }
   ],
   "source": [
    "print(text)"
   ]
  },
  {
   "cell_type": "code",
   "execution_count": 351,
   "metadata": {},
   "outputs": [
    {
     "name": "stdout",
     "output_type": "stream",
     "text": [
      "Total cost: $0.0187 for 7364 tokens\n"
     ]
    }
   ],
   "source": [
    "if output.user_input:\n",
    "    agent.add_user_prompt(output.user_input)\n",
    "if output.error:\n",
    "    text += f', Previous action error: {output.error}'\n",
    "action = agent.chat(text, store_conversation=f'{run_folder}/conversation_{i}.txt')"
   ]
  },
  {
   "cell_type": "code",
   "execution_count": 352,
   "metadata": {},
   "outputs": [
    {
     "data": {
      "text/plain": [
       "Action(valuation_previous_goal='Successfully informed the user of the available flight options with their details.', goal='Complete the task', action='done', params=ActionParams(url=None, id=None, text=None))"
      ]
     },
     "execution_count": 352,
     "metadata": {},
     "output_type": "execute_result"
    }
   ],
   "source": [
    "action"
   ]
  },
  {
   "cell_type": "code",
   "execution_count": 353,
   "metadata": {},
   "outputs": [
    {
     "name": "stdout",
     "output_type": "stream",
     "text": [
      "{\n",
      "    \"valuation_previous_goal\": \"Successfully informed the user of the available flight options with their details.\",\n",
      "    \"goal\": \"Complete the task\",\n",
      "    \"action\": \"done\",\n",
      "    \"params\": {\n",
      "        \"url\": null,\n",
      "        \"id\": null,\n",
      "        \"text\": null\n",
      "    }\n",
      "}\n"
     ]
    }
   ],
   "source": [
    "output = actions.execute_action(action, current_state.selector_map)"
   ]
  },
  {
   "cell_type": "code",
   "execution_count": 354,
   "metadata": {},
   "outputs": [
    {
     "name": "stdout",
     "output_type": "stream",
     "text": [
      "Task completed\n"
     ]
    }
   ],
   "source": [
    "if output.done:\n",
    "    print('Task completed')\n",
    "    driver.quit()"
   ]
  },
  {
   "cell_type": "code",
   "execution_count": 355,
   "metadata": {},
   "outputs": [],
   "source": [
    "i += 1"
   ]
  },
  {
   "cell_type": "code",
   "execution_count": 356,
   "metadata": {},
   "outputs": [],
   "source": [
    "previous_state = current_state"
   ]
  },
  {
   "cell_type": "markdown",
   "metadata": {},
   "source": [
    "---"
   ]
  },
  {
   "cell_type": "code",
   "execution_count": 110,
   "metadata": {},
   "outputs": [],
   "source": [
    "driver.quit()"
   ]
  },
  {
   "cell_type": "code",
   "execution_count": null,
   "metadata": {},
   "outputs": [],
   "source": []
  }
 ],
 "metadata": {
  "kernelspec": {
   "display_name": "scraping",
   "language": "python",
   "name": "python3"
  },
  "language_info": {
   "codemirror_mode": {
    "name": "ipython",
    "version": 3
   },
   "file_extension": ".py",
   "mimetype": "text/x-python",
   "name": "python",
   "nbconvert_exporter": "python",
   "pygments_lexer": "ipython3",
   "version": "3.10.16"
  }
 },
 "nbformat": 4,
 "nbformat_minor": 2
}
