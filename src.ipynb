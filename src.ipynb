{
 "cells": [
  {
   "cell_type": "code",
   "execution_count": 1,
   "metadata": {},
   "outputs": [],
   "source": [
    "%load_ext autoreload\n",
    "%autoreload 2"
   ]
  },
  {
   "cell_type": "code",
   "execution_count": 2,
   "metadata": {},
   "outputs": [],
   "source": [
    "from src.agent_interface.agent import Agent\n",
    "from src.actions.browser_actions import BrowserActions\n",
    "from src.actions.action_validator import ActionValidator\n",
    "from src.state_manager.state import StateManager\n",
    "from src.utils.selenium_utils import setup_selenium_driver"
   ]
  },
  {
   "cell_type": "markdown",
   "metadata": {},
   "source": [
    "### Initialize agent, browser actions, state manager and action validator"
   ]
  },
  {
   "cell_type": "code",
   "execution_count": 3,
   "metadata": {},
   "outputs": [],
   "source": [
    "task = \"Apply for 50 jobs for software engineering in Zurich.\"\n",
    "extra_context = \"{user_resume_and_additional_info}\""
   ]
  },
  {
   "cell_type": "code",
   "execution_count": 4,
   "metadata": {},
   "outputs": [],
   "source": [
    "agent = Agent()\n",
    "agent.task = task\n",
    "agent.context = extra_context"
   ]
  },
  {
   "cell_type": "code",
   "execution_count": 5,
   "metadata": {},
   "outputs": [],
   "source": [
    "driver = setup_selenium_driver(headless=False)"
   ]
  },
  {
   "cell_type": "code",
   "execution_count": 6,
   "metadata": {},
   "outputs": [],
   "source": [
    "driver.quit() # for time being"
   ]
  },
  {
   "cell_type": "code",
   "execution_count": 7,
   "metadata": {},
   "outputs": [],
   "source": [
    "browser_actions = BrowserActions(driver=driver)"
   ]
  },
  {
   "cell_type": "code",
   "execution_count": 8,
   "metadata": {},
   "outputs": [],
   "source": [
    "statemanager = StateManager(driver=driver)"
   ]
  },
  {
   "cell_type": "code",
   "execution_count": 9,
   "metadata": {},
   "outputs": [],
   "source": [
    "validator = ActionValidator(driver=driver)"
   ]
  },
  {
   "cell_type": "markdown",
   "metadata": {},
   "source": [
    "### Get the current state and possible actions "
   ]
  },
  {
   "cell_type": "markdown",
   "metadata": {},
   "source": [
    "For example:"
   ]
  },
  {
   "cell_type": "code",
   "execution_count": 10,
   "metadata": {},
   "outputs": [],
   "source": [
    "state =  {\n",
    "    \"current_url\": \"string\",\n",
    "    \"interactable_elements\": [\n",
    "      {\n",
    "        \"type\": \"button\",\n",
    "        \"identifier\": {\n",
    "          \"id\": \"string\",\n",
    "          \"class\": \"string\",\n",
    "          \"name\": \"string\",\n",
    "          \"text\": \"string\"\n",
    "        }\n",
    "      },\n",
    "      {\n",
    "        \"type\": \"input\",\n",
    "        \"identifier\": {\n",
    "          \"id\": \"string\",\n",
    "          \"class\": \"string\",\n",
    "          \"name\": \"string\",\n",
    "          \"placeholder\": \"string\"\n",
    "        }\n",
    "      }\n",
    "    ]\n",
    "}"
   ]
  },
  {
   "cell_type": "code",
   "execution_count": 11,
   "metadata": {},
   "outputs": [],
   "source": [
    "actions = [\n",
    "    {\n",
    "      \"type\": \"search_google\",\n",
    "      \"params\": {\n",
    "        \"query\": \"string\"\n",
    "      }\n",
    "    },\n",
    "    {\n",
    "      \"type\": \"go_to_url\",\n",
    "      \"params\": {\n",
    "        \"url\": \"string\"\n",
    "      }\n",
    "    },\n",
    "    {\n",
    "      \"type\": \"click_element\",\n",
    "      \"params\": {\n",
    "        \"identifier\": {\n",
    "          \"id\": \"string\",\n",
    "          \"class\": \"string\",\n",
    "          \"name\": \"string\",\n",
    "          \"text\": \"string\"\n",
    "        }\n",
    "      }\n",
    "    }\n",
    "]"
   ]
  },
  {
   "cell_type": "code",
   "execution_count": 12,
   "metadata": {},
   "outputs": [],
   "source": [
    "agent.receive_state(state, actions)"
   ]
  },
  {
   "cell_type": "code",
   "execution_count": 13,
   "metadata": {},
   "outputs": [
    {
     "data": {
      "text/plain": [
       "{'current_state': {'current_url': 'string',\n",
       "  'interactable_elements': [{'type': 'button',\n",
       "    'identifier': {'id': 'string',\n",
       "     'class': 'string',\n",
       "     'name': 'string',\n",
       "     'text': 'string'}},\n",
       "   {'type': 'input',\n",
       "    'identifier': {'id': 'string',\n",
       "     'class': 'string',\n",
       "     'name': 'string',\n",
       "     'placeholder': 'string'}}]},\n",
       " 'available_actions': [{'type': 'search_google',\n",
       "   'params': {'query': 'string'}},\n",
       "  {'type': 'go_to_url', 'params': {'url': 'string'}},\n",
       "  {'type': 'click_element',\n",
       "   'params': {'identifier': {'id': 'string',\n",
       "     'class': 'string',\n",
       "     'name': 'string',\n",
       "     'text': 'string'}}}],\n",
       " 'task': 'Apply for 50 jobs for software engineering in Zurich.',\n",
       " 'context': '{user_resume_and_additional_info}'}"
      ]
     },
     "execution_count": 13,
     "metadata": {},
     "output_type": "execute_result"
    }
   ],
   "source": [
    "vars(agent)"
   ]
  },
  {
   "cell_type": "markdown",
   "metadata": {},
   "source": [
    "### llm will decide the next action"
   ]
  },
  {
   "cell_type": "code",
   "execution_count": 14,
   "metadata": {},
   "outputs": [],
   "source": [
    "llm_action = agent.decide_next_action()\n",
    "llm_action = { \n",
    "    \"type\": \"click_element\",\n",
    "    \"params\": {\n",
    "        \"identifier\": {\n",
    "            \"id\": \"string\",\n",
    "            \"class\": \"string\",\n",
    "            \"name\": \"string\",\n",
    "            \"text\": \"string\"\n",
    "        }\n",
    "    }\n",
    "} # example"
   ]
  },
  {
   "cell_type": "code",
   "execution_count": 15,
   "metadata": {},
   "outputs": [
    {
     "data": {
      "text/plain": [
       "{'type': 'click_element',\n",
       " 'params': {'identifier': {'id': 'string',\n",
       "   'class': 'string',\n",
       "   'name': 'string',\n",
       "   'text': 'string'}}}"
      ]
     },
     "execution_count": 15,
     "metadata": {},
     "output_type": "execute_result"
    }
   ],
   "source": [
    "llm_action"
   ]
  },
  {
   "cell_type": "markdown",
   "metadata": {},
   "source": [
    "### perform the action"
   ]
  },
  {
   "cell_type": "code",
   "execution_count": 16,
   "metadata": {},
   "outputs": [],
   "source": [
    "f = getattr(browser_actions, llm_action[\"type\"])\n",
    "# f(**llm_action[\"params\"])"
   ]
  },
  {
   "cell_type": "markdown",
   "metadata": {},
   "source": [
    "### Update the next state and possible actions"
   ]
  },
  {
   "cell_type": "code",
   "execution_count": 17,
   "metadata": {},
   "outputs": [],
   "source": [
    "# state = statemanager.get_current_state()\n",
    "# actions = ? (extract them somehow)"
   ]
  },
  {
   "cell_type": "markdown",
   "metadata": {},
   "source": [
    "### Do validation of taken action"
   ]
  },
  {
   "cell_type": "code",
   "execution_count": 18,
   "metadata": {},
   "outputs": [],
   "source": [
    "validator.is_action_successful(llm_action)\n",
    "validator.check_ambiguity(llm_action)"
   ]
  },
  {
   "cell_type": "markdown",
   "metadata": {},
   "source": [
    "### Repeat the steps by feeding updated state and actions"
   ]
  },
  {
   "cell_type": "code",
   "execution_count": null,
   "metadata": {},
   "outputs": [],
   "source": []
  },
  {
   "cell_type": "code",
   "execution_count": null,
   "metadata": {},
   "outputs": [],
   "source": []
  }
 ],
 "metadata": {
  "kernelspec": {
   "display_name": "scraping",
   "language": "python",
   "name": "python3"
  },
  "language_info": {
   "codemirror_mode": {
    "name": "ipython",
    "version": 3
   },
   "file_extension": ".py",
   "mimetype": "text/x-python",
   "name": "python",
   "nbconvert_exporter": "python",
   "pygments_lexer": "ipython3",
   "version": "3.10.16"
  }
 },
 "nbformat": 4,
 "nbformat_minor": 2
}
